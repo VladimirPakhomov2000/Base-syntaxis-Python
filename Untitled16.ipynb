{
  "nbformat": 4,
  "nbformat_minor": 0,
  "metadata": {
    "colab": {
      "provenance": [],
      "authorship_tag": "ABX9TyOeqkN1zizpLPwSxWZFSFzB",
      "include_colab_link": true
    },
    "kernelspec": {
      "name": "python3",
      "display_name": "Python 3"
    },
    "language_info": {
      "name": "python"
    }
  },
  "cells": [
    {
      "cell_type": "markdown",
      "metadata": {
        "id": "view-in-github",
        "colab_type": "text"
      },
      "source": [
        "<a href=\"https://colab.research.google.com/github/VladimirPakhomov2000/Base-syntaxis-Python/blob/main/Untitled16.ipynb\" target=\"_parent\"><img src=\"https://colab.research.google.com/assets/colab-badge.svg\" alt=\"Open In Colab\"/></a>"
      ]
    },
    {
      "cell_type": "code",
      "execution_count": 1,
      "metadata": {
        "id": "v8TzYQuMYkNn"
      },
      "outputs": [],
      "source": [
        "def slova(ar):\n",
        "  print(len(ar))"
      ]
    },
    {
      "cell_type": "code",
      "source": [
        "slova('восьмидесятимиллиметровое')"
      ],
      "metadata": {
        "colab": {
          "base_uri": "https://localhost:8080/"
        },
        "id": "4KJwUy52Y_Qs",
        "outputId": "c24b8b81-1cfc-4adb-db4e-227440a314d0"
      },
      "execution_count": 2,
      "outputs": [
        {
          "output_type": "stream",
          "name": "stdout",
          "text": [
            "25\n"
          ]
        }
      ]
    },
    {
      "cell_type": "code",
      "source": [
        "def mult(ar):\n",
        "  for i in range(9):\n",
        "   print(i+1, '*', '=', (i+1*ar))\n"
      ],
      "metadata": {
        "id": "pBXJ5v_FZpkf"
      },
      "execution_count": 5,
      "outputs": []
    },
    {
      "cell_type": "code",
      "source": [
        "mult(8)"
      ],
      "metadata": {
        "colab": {
          "base_uri": "https://localhost:8080/"
        },
        "id": "Xa-fHaEic7FD",
        "outputId": "17903bdd-4705-4d9d-c67f-4cbb9690d78d"
      },
      "execution_count": 6,
      "outputs": [
        {
          "output_type": "stream",
          "name": "stdout",
          "text": [
            "1 * = 8\n",
            "2 * = 9\n",
            "3 * = 10\n",
            "4 * = 11\n",
            "5 * = 12\n",
            "6 * = 13\n",
            "7 * = 14\n",
            "8 * = 15\n",
            "9 * = 16\n"
          ]
        }
      ]
    },
    {
      "cell_type": "code",
      "source": [
        "def operations(ar1, ar2):\n",
        "  s = ar1+ar2\n",
        "  d = ar1-ar2\n",
        "  m = ar1*ar2\n",
        "  return print('\\n сумма равна', s, '\\n разность равна', d, '\\n произведение равно', m)\n",
        "  "
      ],
      "metadata": {
        "id": "g2Lo7RDEdB28"
      },
      "execution_count": 7,
      "outputs": []
    },
    {
      "cell_type": "code",
      "source": [
        "operations(5, 2)"
      ],
      "metadata": {
        "colab": {
          "base_uri": "https://localhost:8080/"
        },
        "id": "62QmEJOoepYt",
        "outputId": "0b15e165-586a-464c-963d-9025fd1fa56f"
      },
      "execution_count": 8,
      "outputs": [
        {
          "output_type": "stream",
          "name": "stdout",
          "text": [
            "\n",
            " сумма равна 7 \n",
            " разность равна 3 \n",
            " произведение равно 10\n"
          ]
        }
      ]
    },
    {
      "cell_type": "code",
      "source": [
        "from math import sin as sinus\n",
        "sinus(1)"
      ],
      "metadata": {
        "colab": {
          "base_uri": "https://localhost:8080/"
        },
        "id": "2rUGfJeLe0l5",
        "outputId": "9fdc2385-221a-48d1-c5e3-5239c5d3efdb"
      },
      "execution_count": 9,
      "outputs": [
        {
          "output_type": "execute_result",
          "data": {
            "text/plain": [
              "0.8414709848078965"
            ]
          },
          "metadata": {},
          "execution_count": 9
        }
      ]
    },
    {
      "cell_type": "code",
      "source": [
        "cube_lambda = lambda a: a**3\n",
        "cube_lambda(3)"
      ],
      "metadata": {
        "colab": {
          "base_uri": "https://localhost:8080/"
        },
        "id": "rWHrfWW6fRXi",
        "outputId": "1477fe78-132b-40eb-9af0-0e20cbf9d58e"
      },
      "execution_count": 10,
      "outputs": [
        {
          "output_type": "execute_result",
          "data": {
            "text/plain": [
              "27"
            ]
          },
          "metadata": {},
          "execution_count": 10
        }
      ]
    },
    {
      "cell_type": "code",
      "source": [
        "cube_lambda(17)"
      ],
      "metadata": {
        "colab": {
          "base_uri": "https://localhost:8080/"
        },
        "id": "k0a3X81Hfpmx",
        "outputId": "7025ab17-fcbd-4f57-990f-2efa5c53b2af"
      },
      "execution_count": 11,
      "outputs": [
        {
          "output_type": "execute_result",
          "data": {
            "text/plain": [
              "4913"
            ]
          },
          "metadata": {},
          "execution_count": 11
        }
      ]
    },
    {
      "cell_type": "code",
      "source": [
        "cube_lambda(45)"
      ],
      "metadata": {
        "colab": {
          "base_uri": "https://localhost:8080/"
        },
        "id": "IipdfvRZf1EI",
        "outputId": "05c0b05d-9a56-4b2b-f7e0-9ecf3df9d4ee"
      },
      "execution_count": 12,
      "outputs": [
        {
          "output_type": "execute_result",
          "data": {
            "text/plain": [
              "91125"
            ]
          },
          "metadata": {},
          "execution_count": 12
        }
      ]
    },
    {
      "cell_type": "code",
      "source": [
        "cube_lambda(1970)"
      ],
      "metadata": {
        "colab": {
          "base_uri": "https://localhost:8080/"
        },
        "id": "XJDUG6cbf7G1",
        "outputId": "ee8b2ca8-3f2b-4d42-f269-f537037f6202"
      },
      "execution_count": 13,
      "outputs": [
        {
          "output_type": "execute_result",
          "data": {
            "text/plain": [
              "7645373000"
            ]
          },
          "metadata": {},
          "execution_count": 13
        }
      ]
    },
    {
      "cell_type": "code",
      "source": [
        "cube_lambda(15000)"
      ],
      "metadata": {
        "colab": {
          "base_uri": "https://localhost:8080/"
        },
        "id": "sTGsVQYdgE7i",
        "outputId": "14b5c142-0175-4611-cd64-17f5637862ee"
      },
      "execution_count": 14,
      "outputs": [
        {
          "output_type": "execute_result",
          "data": {
            "text/plain": [
              "3375000000000"
            ]
          },
          "metadata": {},
          "execution_count": 14
        }
      ]
    }
  ]
}