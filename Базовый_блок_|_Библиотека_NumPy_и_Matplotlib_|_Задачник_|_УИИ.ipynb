{
  "nbformat": 4,
  "nbformat_minor": 0,
  "metadata": {
    "colab": {
      "provenance": [],
      "collapsed_sections": [
        "eAwvfAjs1wdB",
        "rlSksCzR11II",
        "-IrQUaplhk1Y",
        "Pj9V1jK8uTpw",
        "9RjnidauyEQ1",
        "Sl-T79ozwPTZ",
        "dT-EkqdRwNMz",
        "J2D0jg6vwwjk",
        "gvaWkvMvw1IJ",
        "9iBwEdxXxEUK",
        "h_d7zPZl4-e2",
        "h7SfZ8jq6K-n",
        "qHXv-1Ig_ha0",
        "jrPZ-yv0AQ2Q",
        "pT13JSeLATd3",
        "mfuCVXJ0Asue",
        "ci3OF-VMt-4V",
        "qSLhW8vjx3zI",
        "AMSN9Go8yqbz",
        "4Wq5OY-z2K76",
        "DnxHMqFYz8KQ",
        "vsq3DQCM0r5J",
        "8qghdd6F08pH",
        "lWdAVNqQVeuA",
        "puuINSDI1tA2",
        "P_G-JQqXVeuC",
        "Zho634yCtIzW",
        "eSM6iL-DVeuE",
        "vlZDAfMwVeuF",
        "BGl26Yh6VeuF",
        "IW0IMLaUykun",
        "EaGP0aiCyy-S",
        "7SybeRpoy2lr",
        "k5-pzuYcy64e",
        "XAFaC9Vyy-MS",
        "pI8pjqLCzCiq",
        "5SUagE_JycNA",
        "1WLbHWIOzWDU",
        "kc9jUBqLzbis",
        "-K6l-FJ4zk-v",
        "OxJVowf6zrSe",
        "2p2byj-XzwK0",
        "tZpXAXfGz1BW",
        "o7cK6b_7z7sM",
        "c-KU0nAGMgbC",
        "OHrV7iCY0R9Q",
        "6XbLf7XVULEF",
        "ew3KwMxQ0eAe"
      ],
      "include_colab_link": true
    },
    "kernelspec": {
      "name": "python3",
      "display_name": "Python 3"
    },
    "language_info": {
      "name": "python"
    }
  },
  "cells": [
    {
      "cell_type": "markdown",
      "metadata": {
        "id": "view-in-github",
        "colab_type": "text"
      },
      "source": [
        "<a href=\"https://colab.research.google.com/github/VladimirPakhomov2000/Base-syntaxis-Python/blob/main/%D0%91%D0%B0%D0%B7%D0%BE%D0%B2%D1%8B%D0%B9_%D0%B1%D0%BB%D0%BE%D0%BA_%7C_%D0%91%D0%B8%D0%B1%D0%BB%D0%B8%D0%BE%D1%82%D0%B5%D0%BA%D0%B0_NumPy_%D0%B8_Matplotlib_%7C_%D0%97%D0%B0%D0%B4%D0%B0%D1%87%D0%BD%D0%B8%D0%BA_%7C_%D0%A3%D0%98%D0%98.ipynb\" target=\"_parent\"><img src=\"https://colab.research.google.com/assets/colab-badge.svg\" alt=\"Open In Colab\"/></a>"
      ]
    },
    {
      "cell_type": "markdown",
      "metadata": {
        "id": "eAwvfAjs1wdB"
      },
      "source": [
        "## Задача 1"
      ]
    },
    {
      "cell_type": "markdown",
      "metadata": {
        "id": "C9gk1Z2S1zF5"
      },
      "source": [
        "Импортируйте библиотеки `numpy`, задав ей псевдоним `np`, и `matplotlib`, задав ей псевдоним `plt`, с помощью команды `import`."
      ]
    },
    {
      "cell_type": "code",
      "metadata": {
        "id": "7X9mBLcS10Yk"
      },
      "source": [
        "# Ваш код\n"
      ],
      "execution_count": null,
      "outputs": []
    },
    {
      "cell_type": "markdown",
      "metadata": {
        "id": "rlSksCzR11II"
      },
      "source": [
        "### Решение"
      ]
    },
    {
      "cell_type": "code",
      "metadata": {
        "id": "D2lhLTWQKSyi"
      },
      "source": [
        "import numpy as np                    # Импорт библиотеки для работы с массивами\n",
        "import matplotlib.pyplot as plt              # Импорт библиотеки для построения графиков"
      ],
      "execution_count": null,
      "outputs": []
    },
    {
      "cell_type": "markdown",
      "metadata": {
        "id": "-IrQUaplhk1Y"
      },
      "source": [
        "## Задача 2"
      ]
    },
    {
      "cell_type": "markdown",
      "metadata": {
        "id": "IMVl_zlAhxmM"
      },
      "source": [
        "Создайте три вектора, из пяти элементов каждый. Один вектор должен быть заполнен нулями, второй - единицами, а третий - цифрами 3."
      ]
    },
    {
      "cell_type": "code",
      "metadata": {
        "id": "a-s-YS87h5My"
      },
      "source": [
        "# Ваш код\n"
      ],
      "execution_count": null,
      "outputs": []
    },
    {
      "cell_type": "markdown",
      "metadata": {
        "id": "xFUpNwU8h9VM"
      },
      "source": [
        "### Решение"
      ]
    },
    {
      "cell_type": "code",
      "metadata": {
        "colab": {
          "base_uri": "https://localhost:8080/"
        },
        "id": "oG-5gWJEh_tN",
        "outputId": "9dc6c8f8-3abf-4877-c74f-05084bfc2de0"
      },
      "source": [
        "null_vector = np.zeros(5, dtype=int)                       # Создание вектора, заполненного нулями\n",
        "one_vector = np.ones(5, dtype=int)                         # Создание вектора, заполненного единицами\n",
        "three_vector = np.full(5, 3)                               # Создание вектора, заполненного тройками\n",
        "print(null_vector, one_vector, three_vector)               # Вывод результата"
      ],
      "execution_count": null,
      "outputs": [
        {
          "output_type": "stream",
          "text": [
            "[0 0 0 0 0] [1 1 1 1 1] [3 3 3 3 3]\n"
          ],
          "name": "stdout"
        }
      ]
    },
    {
      "cell_type": "markdown",
      "metadata": {
        "id": "Pj9V1jK8uTpw"
      },
      "source": [
        "## Задача 3"
      ]
    },
    {
      "cell_type": "markdown",
      "metadata": {
        "id": "I_o8UYhYTpwQ"
      },
      "source": [
        "* Создайте список (не массив), состоящий из 10 имен и назовите его **list_names**\n",
        "* Создайте массив из созданного ранее списка с помощью метода `np.array()` и назовите его **array_names**\n",
        "* Отобразите тип переменных **list_names** и **array_names**"
      ]
    },
    {
      "cell_type": "code",
      "metadata": {
        "id": "rsaCf2Muu27I"
      },
      "source": [
        "# Ваше решение\n"
      ],
      "execution_count": null,
      "outputs": []
    },
    {
      "cell_type": "markdown",
      "metadata": {
        "id": "Dp3f8C93u1qa"
      },
      "source": [
        "### Решение"
      ]
    },
    {
      "cell_type": "code",
      "metadata": {
        "id": "VGOVaXspr5NK",
        "colab": {
          "base_uri": "https://localhost:8080/"
        },
        "outputId": "af28eb87-59d9-4125-a834-7725fced7c9c"
      },
      "source": [
        "list_names = ['Иван', 'Максим', 'Светлана',\n",
        "              'Елена', 'Егор', 'Тимофей', 'Степан',\n",
        "              'Ольга', 'Екатерина', 'Виталий']          # Создание списка из 10 имен\n",
        "array_names = np.array(list_names)                      # Преобразование списка в массив\n",
        "print(type(list_names))                                 # Вывод типа переменной list_names\n",
        "print(type(array_names))                                # Вывод типа переменной array_names"
      ],
      "execution_count": null,
      "outputs": [
        {
          "output_type": "stream",
          "text": [
            "<class 'list'>\n",
            "<class 'numpy.ndarray'>\n"
          ],
          "name": "stdout"
        }
      ]
    },
    {
      "cell_type": "markdown",
      "metadata": {
        "id": "9RjnidauyEQ1"
      },
      "source": [
        "## Задача 4"
      ]
    },
    {
      "cell_type": "markdown",
      "metadata": {
        "id": "ZxyO7qXypr7Z"
      },
      "source": [
        "Создайте случайный массив из десяти элементов (можно воспользоваться любым из доступных методов из модуля np.random).\n",
        "\n",
        "Выведите на экран тип элементов созданного массива с помощью dtype"
      ]
    },
    {
      "cell_type": "code",
      "metadata": {
        "id": "_KlLE6BMwQJY"
      },
      "source": [
        "# Ваше решение\n"
      ],
      "execution_count": null,
      "outputs": []
    },
    {
      "cell_type": "markdown",
      "metadata": {
        "id": "Sl-T79ozwPTZ"
      },
      "source": [
        "### Решение"
      ]
    },
    {
      "cell_type": "code",
      "metadata": {
        "colab": {
          "base_uri": "https://localhost:8080/"
        },
        "id": "WE3ksMFZpsV0",
        "outputId": "f44252ff-772f-4bf7-fbc1-496ebc45935a"
      },
      "source": [
        "rnd_array = np.random.rand(10)          # Создание массива из 10-и случайных значений\n",
        "print(rnd_array.dtype)                  # Вывод на экран типа элементов в массиве"
      ],
      "execution_count": null,
      "outputs": [
        {
          "output_type": "stream",
          "text": [
            "float64\n"
          ],
          "name": "stdout"
        }
      ]
    },
    {
      "cell_type": "markdown",
      "metadata": {
        "id": "dT-EkqdRwNMz"
      },
      "source": [
        "## Задача 5"
      ]
    },
    {
      "cell_type": "markdown",
      "metadata": {
        "id": "LsBGFmZ_CB8J"
      },
      "source": [
        "Создайте массив из ста целочисленных значений (можно воспользоваться любым способом).\n",
        "\n",
        "Выведите на экран размерность массива.\n",
        "\n",
        "Выведите на экран построчно 1-й, 32-й и предпоследний элементы массива."
      ]
    },
    {
      "cell_type": "code",
      "metadata": {
        "id": "u5VwbO8UwuCT"
      },
      "source": [
        "# Ваше решение\n"
      ],
      "execution_count": null,
      "outputs": []
    },
    {
      "cell_type": "markdown",
      "metadata": {
        "id": "J2D0jg6vwwjk"
      },
      "source": [
        "### Решение"
      ]
    },
    {
      "cell_type": "code",
      "metadata": {
        "colab": {
          "base_uri": "https://localhost:8080/"
        },
        "id": "-x_LOncjB9WY",
        "outputId": "93d4c49b-2fad-4f8b-96ee-25a2aa383c0c"
      },
      "source": [
        "array_100 = np.arange(100)                  # Создание массива из ста элементов (один из возможных способов)\n",
        "print(array_100.shape)                      # Вывод размерности массива\n",
        "print(array_100[1])                         # Вывод первого элемента массива\n",
        "print(array_100[32])                        # Вывод 32-го элемента массива\n",
        "print(array_100[-2])                        # Вывод предпоследнего элемента массива"
      ],
      "execution_count": null,
      "outputs": [
        {
          "output_type": "stream",
          "text": [
            "(100,)\n",
            "1\n",
            "32\n",
            "98\n"
          ],
          "name": "stdout"
        }
      ]
    },
    {
      "cell_type": "markdown",
      "metadata": {
        "id": "gvaWkvMvw1IJ"
      },
      "source": [
        "## Задача 6"
      ]
    },
    {
      "cell_type": "markdown",
      "metadata": {
        "id": "4kM8fwsfDfxv"
      },
      "source": [
        "Создайте массив из 15 единиц.\n",
        "\n",
        "Замените каждый третий элемент массива на 2.\n",
        "\n",
        "Выведите финальный результат на экран."
      ]
    },
    {
      "cell_type": "code",
      "metadata": {
        "id": "CWf0UeudxANh"
      },
      "source": [
        "# Ваше решение\n"
      ],
      "execution_count": null,
      "outputs": []
    },
    {
      "cell_type": "markdown",
      "metadata": {
        "id": "9iBwEdxXxEUK"
      },
      "source": [
        "### Решение"
      ]
    },
    {
      "cell_type": "code",
      "metadata": {
        "colab": {
          "base_uri": "https://localhost:8080/"
        },
        "id": "v6ZwGbSkEQC7",
        "outputId": "a7a0593c-5efe-4862-e2b0-8f64368e5dfc"
      },
      "source": [
        "array15 = np.ones(15)                   # Создание массива из 15-и единиц\n",
        "array15[::3] = 2                        # Замена каждого третьего элемента на 2\n",
        "print(array15)                          # Вывод результата"
      ],
      "execution_count": null,
      "outputs": [
        {
          "output_type": "stream",
          "text": [
            "[2. 1. 1. 2. 1. 1. 2. 1. 1. 2. 1. 1. 2. 1. 1.]\n"
          ],
          "name": "stdout"
        }
      ]
    },
    {
      "cell_type": "markdown",
      "metadata": {
        "id": "h_d7zPZl4-e2"
      },
      "source": [
        "## Задача 7"
      ]
    },
    {
      "cell_type": "markdown",
      "metadata": {
        "id": "DXr9pR5d5GTi"
      },
      "source": [
        "Создайте двумерный массив 6 на 6 (любым способом).\n",
        "\n",
        "Создайте переменную my_mean и запишите в нее среднее значение созданного массива.\n",
        "\n"
      ]
    },
    {
      "cell_type": "code",
      "metadata": {
        "id": "gh4WVeWE9joH"
      },
      "source": [
        "# Ваше решение\n"
      ],
      "execution_count": null,
      "outputs": []
    },
    {
      "cell_type": "markdown",
      "metadata": {
        "id": "h7SfZ8jq6K-n"
      },
      "source": [
        "### Решение"
      ]
    },
    {
      "cell_type": "code",
      "metadata": {
        "id": "9Np4IXsK6OA3",
        "colab": {
          "base_uri": "https://localhost:8080/"
        },
        "outputId": "e1b1899d-dd14-4e22-a52f-9b342ce1ce86"
      },
      "source": [
        "my_array = np.random.uniform(size=(6,6))                 # Создание массива 6 на 6\n",
        "print(my_array)                                          # Вывод созданного массива\n",
        "my_mean = my_array.mean()                                # Нахождение среднего значение всех элементов массива\n",
        "print(my_mean)                                           # Вывод среднего значения"
      ],
      "execution_count": null,
      "outputs": [
        {
          "output_type": "stream",
          "text": [
            "[[0.15682807 0.96648622 0.713168   0.49016366 0.66758341 0.69034439]\n",
            " [0.23360176 0.45402234 0.6653012  0.55965324 0.84100628 0.11999273]\n",
            " [0.7882514  0.18648147 0.0903947  0.92127762 0.02988495 0.24895882]\n",
            " [0.16235099 0.43831857 0.31423119 0.44513425 0.39629565 0.9197449 ]\n",
            " [0.43348855 0.59929073 0.6477008  0.87204974 0.99681591 0.02401033]\n",
            " [0.68918829 0.98832302 0.41147817 0.95567099 0.01751176 0.00732845]]\n",
            "0.503953681468452\n"
          ],
          "name": "stdout"
        }
      ]
    },
    {
      "cell_type": "markdown",
      "metadata": {
        "id": "qHXv-1Ig_ha0"
      },
      "source": [
        "## Задача 8"
      ]
    },
    {
      "cell_type": "markdown",
      "metadata": {
        "id": "fgo14F1T_kL3"
      },
      "source": [
        "Создайте массив 7 на 7, состоящий из нулей.\n",
        "\n",
        "Любым способом добавьте в этот массив крест из едениц.\n",
        "\n",
        "то есть необходимо получить следующий массив:\n",
        "\n",
        "0 0 0 1 0 0 0\n",
        "\n",
        "0 0 0 1 0 0 0\n",
        "\n",
        "0 0 0 1 0 0 0\n",
        "\n",
        "1 1 1 1 1 1 1\n",
        "\n",
        "0 0 0 1 0 0 0\n",
        "\n",
        "0 0 0 1 0 0 0\n",
        "\n",
        "0 0 0 1 0 0 0\n",
        "\n",
        "Постарайтесь найти оптимальное решение )"
      ]
    },
    {
      "cell_type": "code",
      "metadata": {
        "id": "z5upb1_dAQtn"
      },
      "source": [
        "# Ваше решение\n"
      ],
      "execution_count": null,
      "outputs": []
    },
    {
      "cell_type": "markdown",
      "metadata": {
        "id": "jrPZ-yv0AQ2Q"
      },
      "source": [
        "### Решение"
      ]
    },
    {
      "cell_type": "code",
      "metadata": {
        "id": "yNNnYUWh_Rf3",
        "colab": {
          "base_uri": "https://localhost:8080/"
        },
        "outputId": "d8071a0d-784e-438c-e651-0d9ac67111cc"
      },
      "source": [
        "array0 = np.zeros((7,7))             # Создание массива из нулей размером 7 на 7\n",
        "array0[3] = 1                        # Замена всех элементов 3-ей строки на 1\n",
        "array0[:, 3] = 1                     # Замена всех элементов 3-го столбца на 1\n",
        "print(array0)                        # Вывод результата"
      ],
      "execution_count": null,
      "outputs": [
        {
          "output_type": "stream",
          "text": [
            "[[0. 0. 0. 1. 0. 0. 0.]\n",
            " [0. 0. 0. 1. 0. 0. 0.]\n",
            " [0. 0. 0. 1. 0. 0. 0.]\n",
            " [1. 1. 1. 1. 1. 1. 1.]\n",
            " [0. 0. 0. 1. 0. 0. 0.]\n",
            " [0. 0. 0. 1. 0. 0. 0.]\n",
            " [0. 0. 0. 1. 0. 0. 0.]]\n"
          ],
          "name": "stdout"
        }
      ]
    },
    {
      "cell_type": "markdown",
      "metadata": {
        "id": "pT13JSeLATd3"
      },
      "source": [
        "## Задача 9"
      ]
    },
    {
      "cell_type": "markdown",
      "metadata": {
        "id": "Vzgjo6W6AZbA"
      },
      "source": [
        "Напишите код, который выводит кубы чисел от 0 до 9 включительно. \n",
        "\n",
        "Пример: Квадраты чисел от 0 до 4 включительно выглядят так: 0, 1, 4, 9, 16."
      ]
    },
    {
      "cell_type": "code",
      "metadata": {
        "id": "89YW4ae6AsmJ"
      },
      "source": [
        "# Ваше решение\n"
      ],
      "execution_count": null,
      "outputs": []
    },
    {
      "cell_type": "markdown",
      "metadata": {
        "id": "mfuCVXJ0Asue"
      },
      "source": [
        "### Решение"
      ]
    },
    {
      "cell_type": "code",
      "metadata": {
        "id": "vqhWcOaNAPJM",
        "colab": {
          "base_uri": "https://localhost:8080/"
        },
        "outputId": "35e4cab2-534f-4275-cad5-644a7433ae0f"
      },
      "source": [
        "cube = np.arange(10) ** 3           # Создание массива чисел в кубе\n",
        "print(cube)                         # Вывод результата"
      ],
      "execution_count": null,
      "outputs": [
        {
          "output_type": "stream",
          "text": [
            "[  0   1   8  27  64 125 216 343 512 729]\n"
          ],
          "name": "stdout"
        }
      ]
    },
    {
      "cell_type": "markdown",
      "metadata": {
        "id": "ci3OF-VMt-4V"
      },
      "source": [
        "## Задача 10"
      ]
    },
    {
      "cell_type": "markdown",
      "metadata": {
        "id": "ktkRn0kJuH5v"
      },
      "source": [
        "Даны два массива a и b. Измените размерность массивов так, чтобы их можно было поэлементно сложить(получим массив с). Найдите сумму всех элементов полученного массива с.\n"
      ]
    },
    {
      "cell_type": "code",
      "metadata": {
        "id": "AVrX1vVNUvls"
      },
      "source": [
        "a = np.array([[2, 3, 4], [3, 2, 1]])\n",
        "b = np.array([[7, 8], [5, 6], [3, 4]])"
      ],
      "execution_count": null,
      "outputs": []
    },
    {
      "cell_type": "code",
      "metadata": {
        "id": "laee75yhuHK3"
      },
      "source": [
        "# Ваше решение\n"
      ],
      "execution_count": null,
      "outputs": []
    },
    {
      "cell_type": "markdown",
      "metadata": {
        "id": "qSLhW8vjx3zI"
      },
      "source": [
        "### Решение"
      ]
    },
    {
      "cell_type": "code",
      "metadata": {
        "id": "otddV3n6x6e-",
        "colab": {
          "base_uri": "https://localhost:8080/"
        },
        "outputId": "60997a26-d546-4450-98b5-fa92fac388e9"
      },
      "source": [
        "b = b.reshape(2, 3)                 # Преобразование массива b к размерности 2х3\n",
        "c = a + b                           # Сложение массивов\n",
        "print(c.sum())                      # Вывод суммы всех элементов"
      ],
      "execution_count": null,
      "outputs": [
        {
          "output_type": "stream",
          "text": [
            "48\n"
          ],
          "name": "stdout"
        }
      ]
    },
    {
      "cell_type": "markdown",
      "metadata": {
        "id": "AMSN9Go8yqbz"
      },
      "source": [
        "## Задача 11"
      ]
    },
    {
      "cell_type": "markdown",
      "metadata": {
        "id": "B_RT-FTYyxIp"
      },
      "source": [
        "Создайте вектор целых чисел от 0 до 9 включительно длиной 20 символов.\n",
        "\n",
        "Отсортируйте первые 10 символов в порядке возрастания и вторые 10 символов в порядке возрастания отдельно друг от друга.  \n",
        "\n",
        "Выведите отсортированный массив."
      ]
    },
    {
      "cell_type": "code",
      "metadata": {
        "id": "xXIxxFVI0mOX"
      },
      "source": [
        "# Ваше решение\n"
      ],
      "execution_count": null,
      "outputs": []
    },
    {
      "cell_type": "markdown",
      "metadata": {
        "id": "4Wq5OY-z2K76"
      },
      "source": [
        "### Решение"
      ]
    },
    {
      "cell_type": "code",
      "metadata": {
        "id": "3KzO92RC2Wg1",
        "colab": {
          "base_uri": "https://localhost:8080/"
        },
        "outputId": "f3f6d6e3-aa91-4d8a-8a09-4f0443260b2c"
      },
      "source": [
        "a = np.random.randint(0, 10, (20))         # Создание массива из 20 элементов от 0 до 9 \n",
        "a[:10].sort()                              # Сортировка первых 10-и символов \n",
        "a[10:].sort()                              # Сортировка вторых 10-и символов\n",
        "print(a)                                   # Вывод результата"
      ],
      "execution_count": null,
      "outputs": [
        {
          "output_type": "stream",
          "text": [
            "[0 1 2 3 3 4 5 8 8 9 1 1 5 5 6 7 8 8 8 8]\n"
          ],
          "name": "stdout"
        }
      ]
    },
    {
      "cell_type": "markdown",
      "metadata": {
        "id": "DnxHMqFYz8KQ"
      },
      "source": [
        "## Задача 12"
      ]
    },
    {
      "cell_type": "markdown",
      "metadata": {
        "id": "xBwwScaYVet-"
      },
      "source": [
        "Создайте массив случайных чисел от 0 до 99 включительно размером 6 на 8. Все элементы больше 50 замените словом 'пан', а элементы <= 50 замените словом 'пропал'.\n",
        "\n"
      ]
    },
    {
      "cell_type": "code",
      "metadata": {
        "id": "lxMkF1On01fA"
      },
      "source": [
        "# Ваше решение\n"
      ],
      "execution_count": null,
      "outputs": []
    },
    {
      "cell_type": "markdown",
      "metadata": {
        "id": "vsq3DQCM0r5J"
      },
      "source": [
        "### Решение"
      ]
    },
    {
      "cell_type": "code",
      "metadata": {
        "colab": {
          "base_uri": "https://localhost:8080/"
        },
        "id": "DQTFZxiJVet_",
        "outputId": "8f469778-aadf-450d-ca46-cb22848b1578"
      },
      "source": [
        "a = np.random.randint(0, 100, (6, 8))       # Создание массива из числовых элементов\n",
        "b = np.array(a, dtype='U10')                # Создание массива с теми же значениями, но из текстовых элементов\n",
        "b[a > 50] = 'пан'                           # Замена элементов на соответствующие условию\n",
        "b[a <= 50] = 'пропал'\n",
        "print(b)                                    # Вывод результата"
      ],
      "execution_count": null,
      "outputs": [
        {
          "output_type": "stream",
          "text": [
            "[['пан' 'пропал' 'пропал' 'пропал' 'пропал' 'пан' 'пропал' 'пан']\n",
            " ['пропал' 'пан' 'пропал' 'пропал' 'пан' 'пан' 'пан' 'пан']\n",
            " ['пропал' 'пан' 'пан' 'пан' 'пропал' 'пан' 'пропал' 'пан']\n",
            " ['пропал' 'пропал' 'пропал' 'пан' 'пан' 'пан' 'пропал' 'пан']\n",
            " ['пропал' 'пропал' 'пан' 'пан' 'пан' 'пропал' 'пропал' 'пропал']\n",
            " ['пропал' 'пропал' 'пан' 'пан' 'пан' 'пропал' 'пан' 'пропал']]\n"
          ],
          "name": "stdout"
        }
      ]
    },
    {
      "cell_type": "markdown",
      "metadata": {
        "id": "8qghdd6F08pH"
      },
      "source": [
        "## Задача 13"
      ]
    },
    {
      "cell_type": "markdown",
      "metadata": {
        "id": "Ye5xZDrrVeuA"
      },
      "source": [
        "Дан массив. Найти наиболее часто встречающееся значение в массиве и вывести его."
      ]
    },
    {
      "cell_type": "code",
      "metadata": {
        "id": "VFyMV-SQXnxR"
      },
      "source": [
        "a = np.random.randint(0,10,30)"
      ],
      "execution_count": null,
      "outputs": []
    },
    {
      "cell_type": "code",
      "metadata": {
        "id": "GObedZry1nhn"
      },
      "source": [
        "# Ваше решение\n"
      ],
      "execution_count": null,
      "outputs": []
    },
    {
      "cell_type": "markdown",
      "metadata": {
        "id": "lWdAVNqQVeuA"
      },
      "source": [
        "### Решение:"
      ]
    },
    {
      "cell_type": "code",
      "metadata": {
        "colab": {
          "base_uri": "https://localhost:8080/"
        },
        "id": "dMKIjNIDVeuB",
        "outputId": "9da5d5b0-a12c-42f9-d5d2-bc06673970b1"
      },
      "source": [
        "print(a)                             # Вывод массива\n",
        "print(np.bincount(a).argmax())       # Вывод наиболее часто встречающегося элемента"
      ],
      "execution_count": null,
      "outputs": [
        {
          "output_type": "stream",
          "text": [
            "[8 9 9 6 4 2 0 2 4 6 1 3 1 1 4 1 3 2 3 5 7 8 9 8 5 6 5 3 6 5]\n",
            "1\n"
          ],
          "name": "stdout"
        }
      ]
    },
    {
      "cell_type": "markdown",
      "metadata": {
        "id": "puuINSDI1tA2"
      },
      "source": [
        "## Задача 14"
      ]
    },
    {
      "cell_type": "markdown",
      "metadata": {
        "id": "AgDE2WzRVeuB"
      },
      "source": [
        "Создайте массив всех четных чисел от 50 до 100."
      ]
    },
    {
      "cell_type": "code",
      "metadata": {
        "id": "M_vKpn6zpL-Q"
      },
      "source": [
        "# Ваше решение\n"
      ],
      "execution_count": null,
      "outputs": []
    },
    {
      "cell_type": "markdown",
      "metadata": {
        "id": "P_G-JQqXVeuC"
      },
      "source": [
        "### Решение:"
      ]
    },
    {
      "cell_type": "code",
      "metadata": {
        "colab": {
          "base_uri": "https://localhost:8080/"
        },
        "id": "1ZHT0Qt8VeuD",
        "outputId": "fa0310e7-69c8-4b79-9e34-76d04ff68923"
      },
      "source": [
        "array = np.arange(50, 101, 2)               # Создание массива с шагом 2\n",
        "print(array)                                # Вывод результата"
      ],
      "execution_count": null,
      "outputs": [
        {
          "output_type": "execute_result",
          "data": {
            "text/plain": [
              "854"
            ]
          },
          "metadata": {
            "tags": []
          },
          "execution_count": 88
        }
      ]
    },
    {
      "cell_type": "markdown",
      "metadata": {
        "id": "Zho634yCtIzW"
      },
      "source": [
        "## Задача 15"
      ]
    },
    {
      "cell_type": "markdown",
      "metadata": {
        "id": "alYA12S8VeuD"
      },
      "source": [
        "Найдите и выведите на экран значения, которые встречаются в обоих массивах."
      ]
    },
    {
      "cell_type": "code",
      "metadata": {
        "id": "jdNF8toIZcXf"
      },
      "source": [
        "array1 = np.array([0, 10, 20, 40, 60])\n",
        "array2 = [10, 30, 40]"
      ],
      "execution_count": null,
      "outputs": []
    },
    {
      "cell_type": "code",
      "metadata": {
        "id": "ZTnBS5gFo9K7"
      },
      "source": [
        "# Ваше решение\n"
      ],
      "execution_count": null,
      "outputs": []
    },
    {
      "cell_type": "markdown",
      "metadata": {
        "id": "eSM6iL-DVeuE"
      },
      "source": [
        "### Решение"
      ]
    },
    {
      "cell_type": "code",
      "metadata": {
        "colab": {
          "base_uri": "https://localhost:8080/"
        },
        "id": "DGKySTG7VeuE",
        "outputId": "1512bd6f-0f16-4dac-9108-274f28a34093"
      },
      "source": [
        "print(np.intersect1d(array1, array2))           # Вывод выделенных одинаковых элементов"
      ],
      "execution_count": null,
      "outputs": [
        {
          "output_type": "stream",
          "text": [
            "[10 40]\n"
          ],
          "name": "stdout"
        }
      ]
    },
    {
      "cell_type": "markdown",
      "metadata": {
        "id": "vlZDAfMwVeuF"
      },
      "source": [
        "## Задача 16"
      ]
    },
    {
      "cell_type": "markdown",
      "metadata": {
        "id": "B6Rbug_qvbSF"
      },
      "source": [
        "Создайте матрицу 8х8 и заполнить её в шахматном порядке нулями и единицами."
      ]
    },
    {
      "cell_type": "code",
      "metadata": {
        "id": "qhP7evOWo48E"
      },
      "source": [
        "# Ваше решение\n"
      ],
      "execution_count": null,
      "outputs": []
    },
    {
      "cell_type": "markdown",
      "metadata": {
        "id": "BGl26Yh6VeuF"
      },
      "source": [
        "### Решение"
      ]
    },
    {
      "cell_type": "code",
      "metadata": {
        "id": "HQ9M680vVeuG",
        "colab": {
          "base_uri": "https://localhost:8080/"
        },
        "outputId": "3c4f0826-7bef-4499-a4b7-546a95cd0007"
      },
      "source": [
        "chess_array = np.zeros((8,8), dtype=int)        # Создание нулевого массива\n",
        "chess_array[1::2,::2] = 1                       # Заполнение четных строк\n",
        "chess_array[::2,1::2] = 1                       # Заполнение нечетных строк\n",
        "print(chess_array)                              # Вывод результата"
      ],
      "execution_count": null,
      "outputs": [
        {
          "output_type": "stream",
          "text": [
            "[[0 1 0 1 0 1 0 1]\n",
            " [1 0 1 0 1 0 1 0]\n",
            " [0 1 0 1 0 1 0 1]\n",
            " [1 0 1 0 1 0 1 0]\n",
            " [0 1 0 1 0 1 0 1]\n",
            " [1 0 1 0 1 0 1 0]\n",
            " [0 1 0 1 0 1 0 1]\n",
            " [1 0 1 0 1 0 1 0]]\n"
          ],
          "name": "stdout"
        }
      ]
    },
    {
      "cell_type": "markdown",
      "metadata": {
        "id": "IW0IMLaUykun"
      },
      "source": [
        "## Задача 17"
      ]
    },
    {
      "cell_type": "markdown",
      "metadata": {
        "id": "z3SNcAHaygHd"
      },
      "source": [
        "Проверьте, являются ли два заданных массива одинаковыми."
      ]
    },
    {
      "cell_type": "code",
      "metadata": {
        "id": "nQQ3TsZ7bw2X"
      },
      "source": [
        "A = np.random.randint(0,2,5)\n",
        "B = np.random.randint(0,2,5)"
      ],
      "execution_count": null,
      "outputs": []
    },
    {
      "cell_type": "code",
      "metadata": {
        "id": "3UZ9zpxIs5ct"
      },
      "source": [
        "# Ваше решение\n"
      ],
      "execution_count": null,
      "outputs": []
    },
    {
      "cell_type": "markdown",
      "metadata": {
        "id": "EaGP0aiCyy-S"
      },
      "source": [
        "### Решение"
      ]
    },
    {
      "cell_type": "code",
      "metadata": {
        "colab": {
          "base_uri": "https://localhost:8080/"
        },
        "id": "aCRdJoK0U_Ch",
        "outputId": "7326874d-47a5-4f80-8699-6de2ca4223a2"
      },
      "source": [
        "equal = np.allclose(A, B)           # Получение массива сравнения\n",
        "print(equal)                        # Вывод результата"
      ],
      "execution_count": null,
      "outputs": [
        {
          "output_type": "stream",
          "text": [
            "False\n"
          ],
          "name": "stdout"
        }
      ]
    },
    {
      "cell_type": "markdown",
      "metadata": {
        "id": "7SybeRpoy2lr"
      },
      "source": [
        "## Задача 18"
      ]
    },
    {
      "cell_type": "markdown",
      "metadata": {
        "id": "i9XSF0qEvBbx"
      },
      "source": [
        "Найти ближайшее к заданному значению число в заданном массиве."
      ]
    },
    {
      "cell_type": "code",
      "metadata": {
        "id": "SQzhU69ccRwk"
      },
      "source": [
        "k = np.arange(100)\n",
        "v = np.random.uniform(0,100)"
      ],
      "execution_count": null,
      "outputs": []
    },
    {
      "cell_type": "code",
      "metadata": {
        "id": "XgpuTgMrt1hL"
      },
      "source": [
        "# Ваше решение\n"
      ],
      "execution_count": null,
      "outputs": []
    },
    {
      "cell_type": "markdown",
      "metadata": {
        "id": "k5-pzuYcy64e"
      },
      "source": [
        "### Решение"
      ]
    },
    {
      "cell_type": "code",
      "metadata": {
        "colab": {
          "base_uri": "https://localhost:8080/"
        },
        "id": "40We9JvTuwPR",
        "outputId": "1bdbac29-b9eb-4def-e7a3-438e43945f5f"
      },
      "source": [
        "index = (np.abs(k-v)).argmin()          # Нахождение индекса числа \n",
        "print(v, k[index])                      # Вывод результата"
      ],
      "execution_count": null,
      "outputs": [
        {
          "output_type": "stream",
          "text": [
            "74.51300987116484 75\n"
          ],
          "name": "stdout"
        }
      ]
    },
    {
      "cell_type": "markdown",
      "metadata": {
        "id": "XAFaC9Vyy-MS"
      },
      "source": [
        "## Задача 19"
      ]
    },
    {
      "cell_type": "markdown",
      "metadata": {
        "id": "2RoBHe74FzoY"
      },
      "source": [
        "Создайте два произвольных вектора **x** и **y**, каждый из пяти значений. Постройте график с соответствующими значениями."
      ]
    },
    {
      "cell_type": "code",
      "metadata": {
        "id": "-SDIrNHduxYx"
      },
      "source": [
        "# Ваше решение"
      ],
      "execution_count": null,
      "outputs": []
    },
    {
      "cell_type": "markdown",
      "metadata": {
        "id": "pI8pjqLCzCiq"
      },
      "source": [
        "### Решение"
      ]
    },
    {
      "cell_type": "code",
      "metadata": {
        "colab": {
          "base_uri": "https://localhost:8080/",
          "height": 279
        },
        "id": "fmzZGnOWE7ID",
        "outputId": "0930155c-79cb-4e8e-8a84-13de3ccb3beb"
      },
      "source": [
        "x = np.random.randint(0, 9, 5)          # Создание первого произвольного вектора\n",
        "y = np.random.randint(0, 9, 5)          # Создание второго произвольного вектора\n",
        "plt.plot(x, y)                          # Создание графика\n",
        "plt.xlabel('x')                         # Подпись оси x\n",
        "plt.ylabel('y')                         # Подпись оси y\n",
        "plt.show()                              # Вывод графика"
      ],
      "execution_count": null,
      "outputs": [
        {
          "output_type": "display_data",
          "data": {
            "image/png": "[encoded data removed]",
            "text/plain": [
              "<Figure size 432x288 with 1 Axes>"
            ]
          },
          "metadata": {
            "tags": [],
            "needs_background": "light"
          }
        }
      ]
    },
    {
      "cell_type": "markdown",
      "metadata": {
        "id": "5SUagE_JycNA"
      },
      "source": [
        "## Задача 20"
      ]
    },
    {
      "cell_type": "markdown",
      "metadata": {
        "id": "cyIWrQ3xHaJr"
      },
      "source": [
        "Используя два вектора из предыдущей задачи получите график с маркированными вершинами."
      ]
    },
    {
      "cell_type": "code",
      "metadata": {
        "id": "8tbCnPEMwumW"
      },
      "source": [
        "# Ваше решение\n"
      ],
      "execution_count": null,
      "outputs": []
    },
    {
      "cell_type": "markdown",
      "metadata": {
        "id": "1WLbHWIOzWDU"
      },
      "source": [
        "### Решение"
      ]
    },
    {
      "cell_type": "code",
      "metadata": {
        "id": "LS1r68t-rDLD",
        "colab": {
          "base_uri": "https://localhost:8080/",
          "height": 295
        },
        "outputId": "0e6569b5-f17e-44db-a40b-2c559abaecdf"
      },
      "source": [
        "plt.plot(x, y, marker='o')                  # Создание графика с маркерами\n",
        "plt.xlabel('x')                             # Подпись оси x\n",
        "plt.ylabel('y')                             # Подпись оси y\n",
        "plt.title('График с маркерами')             # Подпись графика\n",
        "plt.show()                                  # Вывод графика"
      ],
      "execution_count": null,
      "outputs": [
        {
          "output_type": "display_data",
          "data": {
            "image/png": "[encoded data removed]",
            "text/plain": [
              "<Figure size 432x288 with 1 Axes>"
            ]
          },
          "metadata": {
            "tags": [],
            "needs_background": "light"
          }
        }
      ]
    },
    {
      "cell_type": "markdown",
      "metadata": {
        "id": "kc9jUBqLzbis"
      },
      "source": [
        "## Задача 21"
      ]
    },
    {
      "cell_type": "markdown",
      "metadata": {
        "id": "1fdOJOEaF51B"
      },
      "source": [
        "Создайте два произвольных вектора **x** и **y**, каждый из десяти значений. Постройте два графика на одном полотне - f(x, y) и f(y, x), - отобразив их различными линиями."
      ]
    },
    {
      "cell_type": "code",
      "metadata": {
        "id": "YLfodjNVzuht"
      },
      "source": [
        "# Ваше решение\n"
      ],
      "execution_count": null,
      "outputs": []
    },
    {
      "cell_type": "markdown",
      "metadata": {
        "id": "-K6l-FJ4zk-v"
      },
      "source": [
        "### Решение"
      ]
    },
    {
      "cell_type": "code",
      "metadata": {
        "colab": {
          "base_uri": "https://localhost:8080/",
          "height": 295
        },
        "id": "KwgykOkoFkwe",
        "outputId": "5457085d-26a5-4c53-b9d2-b20fc9c183bc"
      },
      "source": [
        "x = np.random.randint(0, 5, 10)                     # Создание первого случайного вектора\n",
        "y = np.random.randint(0, 5, 10)                     # Создание второго случайного вектора\n",
        "plt.xlabel('x')                                     # Подпись оси х\n",
        "plt.ylabel('y')                                     # Подпись оси y\n",
        "plt.plot(x, y, color='blue', linestyle='dotted')    # Первый график\n",
        "plt.plot(y, x, color='red', linestyle='dashed')     # Второй график\n",
        "plt.title(\"Двойной график\")                         # Подпись графика\n",
        "plt.show()                                          # Вывод графиков"
      ],
      "execution_count": null,
      "outputs": [
        {
          "output_type": "display_data",
          "data": {
            "image/png": "[encoded data removed]",
            "text/plain": [
              "<Figure size 432x288 with 1 Axes>"
            ]
          },
          "metadata": {
            "tags": [],
            "needs_background": "light"
          }
        }
      ]
    },
    {
      "cell_type": "markdown",
      "metadata": {
        "id": "OxJVowf6zrSe"
      },
      "source": [
        "## Задача 22"
      ]
    },
    {
      "cell_type": "markdown",
      "metadata": {
        "id": "rgEc3aElf2hq"
      },
      "source": [
        "Создайте четыре вектора **x1**, **x2**, **x3**, **x4** с данными типа `float` и один вектор **y** типа `int`, размерность каждого массива - 10 элементов. Отобразите все 4 графика на одном полотне разными цветами."
      ]
    },
    {
      "cell_type": "markdown",
      "metadata": {
        "id": "2p2byj-XzwK0"
      },
      "source": [
        "### Решение"
      ]
    },
    {
      "cell_type": "code",
      "metadata": {
        "colab": {
          "base_uri": "https://localhost:8080/",
          "height": 217
        },
        "id": "YYwk7CVNhr1G",
        "outputId": "abb038df-ab0b-40e8-8db1-156f2160e943"
      },
      "source": [
        "x1 = np.random.rand(10)                    # Создание первого случайного вектора\n",
        "x2 = np.random.rand(10)                    # Создание второго случайного вектора\n",
        "x3 = np.random.rand(10)                    # Создание третьего случайного вектора\n",
        "x4 = np.random.rand(10)                    # Создание четвертого случайного вектора\n",
        "y = np.random.randint(0, 100, 10)          # Создание значений оси у\n",
        "plt.plot(x1, y)                            # Первый график\n",
        "plt.plot(x2, y)                            # Второй график\n",
        "plt.plot(x3, y)                            # Третий график\n",
        "plt.plot(x4, y)                            # Четвертый график\n",
        "plt.show()                                 # Вывод результата"
      ],
      "execution_count": null,
      "outputs": [
        {
          "output_type": "display_data",
          "data": {
            "image/png": "[encoded data removed]",
            "text/plain": [
              "<Figure size 432x288 with 1 Axes>"
            ]
          },
          "metadata": {
            "tags": [],
            "needs_background": "light"
          }
        }
      ]
    },
    {
      "cell_type": "markdown",
      "metadata": {
        "id": "tZpXAXfGz1BW"
      },
      "source": [
        "## Задача 23"
      ]
    },
    {
      "cell_type": "markdown",
      "metadata": {
        "id": "SugVnalLmR_y"
      },
      "source": [
        "Постройте горизонтальную гистограмму, опрелеляющую зависимость числа учеников в классе по росту. Первый список содержит рост учеников, второй список - количество учеников заданного роста."
      ]
    },
    {
      "cell_type": "markdown",
      "metadata": {
        "id": "o7cK6b_7z7sM"
      },
      "source": [
        "### Решение"
      ]
    },
    {
      "cell_type": "code",
      "metadata": {
        "colab": {
          "base_uri": "https://localhost:8080/",
          "height": 229
        },
        "id": "vloRt5PYm5Fm",
        "outputId": "a426fa3e-f3e1-4b53-a85d-2a627a889edd"
      },
      "source": [
        "height = [130, 135, 140, 145, 150, 155]           # Список ростов\n",
        "num = [2, 6, 9, 8, 7, 1]                          # Список количества учеников\n",
        "x_pos = [i for i, _ in enumerate(height)]         # Перебор ростов\n",
        "plt.barh(x_pos, num, color='green')               # Построение горизонтальной гистограммы\n",
        "plt.xlabel(\"Количество\")                          # Подпись оси х\n",
        "plt.ylabel(\"Рост\")                                # Подпись оси у\n",
        "plt.title(\"Рост/количество учеников\")             # Подпись графика\n",
        "plt.yticks(x_pos, height)                         # Значения на оси у\n",
        "plt.show()                                        # Вывод результата"
      ],
      "execution_count": null,
      "outputs": [
        {
          "output_type": "display_data",
          "data": {
            "image/png": "[encoded data removed]",
            "text/plain": [
              "<Figure size 432x288 with 1 Axes>"
            ]
          },
          "metadata": {
            "tags": [],
            "needs_background": "light"
          }
        }
      ]
    },
    {
      "cell_type": "markdown",
      "metadata": {
        "id": "c-KU0nAGMgbC"
      },
      "source": [
        "##Задача 24"
      ]
    },
    {
      "cell_type": "markdown",
      "metadata": {
        "id": "vwEl4KJhqR3e"
      },
      "source": [
        "Создайте круговую диаграмму, отображающую процент учеников различных ростов. Используйте списки из предыдущей задачи."
      ]
    },
    {
      "cell_type": "code",
      "metadata": {
        "id": "dR34iykCFHfu"
      },
      "source": [
        "# Ваше решение\n"
      ],
      "execution_count": null,
      "outputs": []
    },
    {
      "cell_type": "markdown",
      "metadata": {
        "id": "OHrV7iCY0R9Q"
      },
      "source": [
        "### Решение"
      ]
    },
    {
      "cell_type": "code",
      "metadata": {
        "colab": {
          "base_uri": "https://localhost:8080/",
          "height": 248
        },
        "id": "FMmpRHK8qmnu",
        "outputId": "2ddf4f5a-5074-4758-bf1f-2f47ca84214e"
      },
      "source": [
        "plt.pie(num, labels=height, autopct='%1.1f%%')       # Создание круговой диаграммы\n",
        "plt.show()                                           # Вывод результата"
      ],
      "execution_count": null,
      "outputs": [
        {
          "output_type": "display_data",
          "data": {
            "image/png": "[encoded data removed]",
            "text/plain": [
              "<Figure size 432x288 with 1 Axes>"
            ]
          },
          "metadata": {
            "tags": []
          }
        }
      ]
    },
    {
      "cell_type": "markdown",
      "metadata": {
        "id": "6XbLf7XVULEF"
      },
      "source": [
        "## Задача 25\n",
        "\n",
        "\n",
        "\n",
        "\n"
      ]
    },
    {
      "cell_type": "markdown",
      "metadata": {
        "id": "nC2sYHGLsaME"
      },
      "source": [
        "Отобразите точечный график со случайным распределением по осям Х и Y."
      ]
    },
    {
      "cell_type": "code",
      "metadata": {
        "id": "Bf8lVqyJF1Tm"
      },
      "source": [
        "# Ваше решение\n"
      ],
      "execution_count": null,
      "outputs": []
    },
    {
      "cell_type": "markdown",
      "metadata": {
        "id": "ew3KwMxQ0eAe"
      },
      "source": [
        "### Решение"
      ]
    },
    {
      "cell_type": "code",
      "metadata": {
        "colab": {
          "base_uri": "https://localhost:8080/",
          "height": 216
        },
        "id": "6G9JbMjgstpw",
        "outputId": "009fceb5-cc5b-40fd-b883-3e02f3a5e2b6"
      },
      "source": [
        "x = np.random.randn(100)               # Случайное распределение по оси х\n",
        "y = np.random.randn(100)               # Случайное распределение по оси у\n",
        "plt.scatter(x, y, color='r')           # Точечный график\n",
        "plt.show()                             # Вывод результата"
      ],
      "execution_count": null,
      "outputs": [
        {
          "output_type": "display_data",
          "data": {
            "image/png": "[encoded data removed]",
            "text/plain": [
              "<Figure size 432x288 with 1 Axes>"
            ]
          },
          "metadata": {
            "tags": [],
            "needs_background": "light"
          }
        }
      ]
    }
  ]
}