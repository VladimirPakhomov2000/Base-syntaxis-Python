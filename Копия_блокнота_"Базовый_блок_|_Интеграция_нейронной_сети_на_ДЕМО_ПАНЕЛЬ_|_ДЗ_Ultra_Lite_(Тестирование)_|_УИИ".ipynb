{
  "nbformat": 4,
  "nbformat_minor": 0,
  "metadata": {
    "colab": {
      "provenance": [],
      "include_colab_link": true
    },
    "kernelspec": {
      "name": "python3",
      "display_name": "Python 3"
    },
    "language_info": {
      "name": "python"
    },
    "widgets": {
      "application/vnd.jupyter.widget-state+json": {
        "f64ab991619f424fa70fdfbefdf2e13d": {
          "model_module": "@jupyter-widgets/controls",
          "model_name": "TextModel",
          "model_module_version": "1.5.0",
          "state": {
            "_dom_classes": [],
            "_model_module": "@jupyter-widgets/controls",
            "_model_module_version": "1.5.0",
            "_model_name": "TextModel",
            "_view_count": null,
            "_view_module": "@jupyter-widgets/controls",
            "_view_module_version": "1.5.0",
            "_view_name": "TextView",
            "continuous_update": true,
            "description": "Введите ваш логин (email) на учебной платформе:",
            "description_tooltip": null,
            "disabled": false,
            "layout": "IPY_MODEL_6ef3ccd4c50f4f9fad2881655bd6ce0b",
            "placeholder": "login@login.com",
            "style": "IPY_MODEL_95aee9c78ed64be787edd80ac21f21a8",
            "value": "vladaspakhomov@gmail.com"
          }
        },
        "6ef3ccd4c50f4f9fad2881655bd6ce0b": {
          "model_module": "@jupyter-widgets/base",
          "model_name": "LayoutModel",
          "model_module_version": "1.2.0",
          "state": {
            "_model_module": "@jupyter-widgets/base",
            "_model_module_version": "1.2.0",
            "_model_name": "LayoutModel",
            "_view_count": null,
            "_view_module": "@jupyter-widgets/base",
            "_view_module_version": "1.2.0",
            "_view_name": "LayoutView",
            "align_content": null,
            "align_items": null,
            "align_self": null,
            "border": null,
            "bottom": null,
            "display": null,
            "flex": null,
            "flex_flow": null,
            "grid_area": null,
            "grid_auto_columns": null,
            "grid_auto_flow": null,
            "grid_auto_rows": null,
            "grid_column": null,
            "grid_gap": null,
            "grid_row": null,
            "grid_template_areas": null,
            "grid_template_columns": null,
            "grid_template_rows": null,
            "height": null,
            "justify_content": null,
            "justify_items": null,
            "left": null,
            "margin": null,
            "max_height": null,
            "max_width": null,
            "min_height": null,
            "min_width": null,
            "object_fit": null,
            "object_position": null,
            "order": null,
            "overflow": null,
            "overflow_x": null,
            "overflow_y": null,
            "padding": null,
            "right": null,
            "top": null,
            "visibility": null,
            "width": "600px"
          }
        },
        "95aee9c78ed64be787edd80ac21f21a8": {
          "model_module": "@jupyter-widgets/controls",
          "model_name": "DescriptionStyleModel",
          "model_module_version": "1.5.0",
          "state": {
            "_model_module": "@jupyter-widgets/controls",
            "_model_module_version": "1.5.0",
            "_model_name": "DescriptionStyleModel",
            "_view_count": null,
            "_view_module": "@jupyter-widgets/base",
            "_view_module_version": "1.2.0",
            "_view_name": "StyleView",
            "description_width": "initial"
          }
        },
        "bd1594c0c33e43138035f547fa57201c": {
          "model_module": "@jupyter-widgets/controls",
          "model_name": "ButtonModel",
          "model_module_version": "1.5.0",
          "state": {
            "_dom_classes": [],
            "_model_module": "@jupyter-widgets/controls",
            "_model_module_version": "1.5.0",
            "_model_name": "ButtonModel",
            "_view_count": null,
            "_view_module": "@jupyter-widgets/controls",
            "_view_module_version": "1.5.0",
            "_view_name": "ButtonView",
            "button_style": "success",
            "description": "Приступить",
            "disabled": true,
            "icon": "pencil",
            "layout": "IPY_MODEL_e299555ccb314619aa262981a37b7769",
            "style": "IPY_MODEL_9ad85c0891ef4002afaad015f4561cbf",
            "tooltip": "Приступить"
          }
        },
        "e299555ccb314619aa262981a37b7769": {
          "model_module": "@jupyter-widgets/base",
          "model_name": "LayoutModel",
          "model_module_version": "1.2.0",
          "state": {
            "_model_module": "@jupyter-widgets/base",
            "_model_module_version": "1.2.0",
            "_model_name": "LayoutModel",
            "_view_count": null,
            "_view_module": "@jupyter-widgets/base",
            "_view_module_version": "1.2.0",
            "_view_name": "LayoutView",
            "align_content": null,
            "align_items": null,
            "align_self": null,
            "border": null,
            "bottom": null,
            "display": null,
            "flex": null,
            "flex_flow": null,
            "grid_area": null,
            "grid_auto_columns": null,
            "grid_auto_flow": null,
            "grid_auto_rows": null,
            "grid_column": null,
            "grid_gap": null,
            "grid_row": null,
            "grid_template_areas": null,
            "grid_template_columns": null,
            "grid_template_rows": null,
            "height": null,
            "justify_content": null,
            "justify_items": null,
            "left": null,
            "margin": null,
            "max_height": null,
            "max_width": null,
            "min_height": null,
            "min_width": null,
            "object_fit": null,
            "object_position": null,
            "order": null,
            "overflow": null,
            "overflow_x": null,
            "overflow_y": null,
            "padding": null,
            "right": null,
            "top": null,
            "visibility": null,
            "width": null
          }
        },
        "9ad85c0891ef4002afaad015f4561cbf": {
          "model_module": "@jupyter-widgets/controls",
          "model_name": "ButtonStyleModel",
          "model_module_version": "1.5.0",
          "state": {
            "_model_module": "@jupyter-widgets/controls",
            "_model_module_version": "1.5.0",
            "_model_name": "ButtonStyleModel",
            "_view_count": null,
            "_view_module": "@jupyter-widgets/base",
            "_view_module_version": "1.2.0",
            "_view_name": "StyleView",
            "button_color": null,
            "font_weight": ""
          }
        },
        "957354b6cb394316beaa058cfaf75125": {
          "model_module": "@jupyter-widgets/controls",
          "model_name": "ToggleButtonsModel",
          "model_module_version": "1.5.0",
          "state": {
            "_dom_classes": [],
            "_model_module": "@jupyter-widgets/controls",
            "_model_module_version": "1.5.0",
            "_model_name": "ToggleButtonsModel",
            "_options_labels": [
              "a",
              "b",
              "c",
              "d"
            ],
            "_view_count": null,
            "_view_module": "@jupyter-widgets/controls",
            "_view_module_version": "1.5.0",
            "_view_name": "ToggleButtonsView",
            "button_style": "success",
            "description": "",
            "description_tooltip": null,
            "disabled": true,
            "icons": [],
            "index": 2,
            "layout": "IPY_MODEL_255cb53470d043c2ba5b67feb33fc0cc",
            "style": "IPY_MODEL_635eac54b4a747b68651d6d83818bc0b",
            "tooltips": [
              "%python test.py",
              "%%python test",
              "!python test.py",
              "_python test"
            ]
          }
        },
        "255cb53470d043c2ba5b67feb33fc0cc": {
          "model_module": "@jupyter-widgets/base",
          "model_name": "LayoutModel",
          "model_module_version": "1.2.0",
          "state": {
            "_model_module": "@jupyter-widgets/base",
            "_model_module_version": "1.2.0",
            "_model_name": "LayoutModel",
            "_view_count": null,
            "_view_module": "@jupyter-widgets/base",
            "_view_module_version": "1.2.0",
            "_view_name": "LayoutView",
            "align_content": null,
            "align_items": null,
            "align_self": null,
            "border": null,
            "bottom": null,
            "display": null,
            "flex": null,
            "flex_flow": null,
            "grid_area": null,
            "grid_auto_columns": null,
            "grid_auto_flow": null,
            "grid_auto_rows": null,
            "grid_column": null,
            "grid_gap": null,
            "grid_row": null,
            "grid_template_areas": null,
            "grid_template_columns": null,
            "grid_template_rows": null,
            "height": null,
            "justify_content": null,
            "justify_items": null,
            "left": null,
            "margin": null,
            "max_height": null,
            "max_width": null,
            "min_height": null,
            "min_width": null,
            "object_fit": null,
            "object_position": null,
            "order": null,
            "overflow": null,
            "overflow_x": null,
            "overflow_y": null,
            "padding": null,
            "right": null,
            "top": null,
            "visibility": null,
            "width": null
          }
        },
        "635eac54b4a747b68651d6d83818bc0b": {
          "model_module": "@jupyter-widgets/controls",
          "model_name": "ToggleButtonsStyleModel",
          "model_module_version": "1.5.0",
          "state": {
            "_model_module": "@jupyter-widgets/controls",
            "_model_module_version": "1.5.0",
            "_model_name": "ToggleButtonsStyleModel",
            "_view_count": null,
            "_view_module": "@jupyter-widgets/base",
            "_view_module_version": "1.2.0",
            "_view_name": "StyleView",
            "button_width": "",
            "description_width": "",
            "font_weight": ""
          }
        },
        "b3d261627cc54917be903e222e2c49d5": {
          "model_module": "@jupyter-widgets/controls",
          "model_name": "ToggleButtonsModel",
          "model_module_version": "1.5.0",
          "state": {
            "_dom_classes": [],
            "_model_module": "@jupyter-widgets/controls",
            "_model_module_version": "1.5.0",
            "_model_name": "ToggleButtonsModel",
            "_options_labels": [
              "a",
              "b",
              "c",
              "d"
            ],
            "_view_count": null,
            "_view_module": "@jupyter-widgets/controls",
            "_view_module_version": "1.5.0",
            "_view_name": "ToggleButtonsView",
            "button_style": "success",
            "description": "",
            "description_tooltip": null,
            "disabled": true,
            "icons": [],
            "index": 3,
            "layout": "IPY_MODEL_c82e389fb5a34f49b26152eed104f794",
            "style": "IPY_MODEL_4fbefb0e101b4d02bb29e61c4d8082c6",
            "tooltips": [
              "один из видов архитектуры нейронной сети",
              "минимальный шаг при расчете весов",
              "библиотека для интеграции",
              "центральный процессор"
            ]
          }
        },
        "c82e389fb5a34f49b26152eed104f794": {
          "model_module": "@jupyter-widgets/base",
          "model_name": "LayoutModel",
          "model_module_version": "1.2.0",
          "state": {
            "_model_module": "@jupyter-widgets/base",
            "_model_module_version": "1.2.0",
            "_model_name": "LayoutModel",
            "_view_count": null,
            "_view_module": "@jupyter-widgets/base",
            "_view_module_version": "1.2.0",
            "_view_name": "LayoutView",
            "align_content": null,
            "align_items": null,
            "align_self": null,
            "border": null,
            "bottom": null,
            "display": null,
            "flex": null,
            "flex_flow": null,
            "grid_area": null,
            "grid_auto_columns": null,
            "grid_auto_flow": null,
            "grid_auto_rows": null,
            "grid_column": null,
            "grid_gap": null,
            "grid_row": null,
            "grid_template_areas": null,
            "grid_template_columns": null,
            "grid_template_rows": null,
            "height": null,
            "justify_content": null,
            "justify_items": null,
            "left": null,
            "margin": null,
            "max_height": null,
            "max_width": null,
            "min_height": null,
            "min_width": null,
            "object_fit": null,
            "object_position": null,
            "order": null,
            "overflow": null,
            "overflow_x": null,
            "overflow_y": null,
            "padding": null,
            "right": null,
            "top": null,
            "visibility": null,
            "width": null
          }
        },
        "4fbefb0e101b4d02bb29e61c4d8082c6": {
          "model_module": "@jupyter-widgets/controls",
          "model_name": "ToggleButtonsStyleModel",
          "model_module_version": "1.5.0",
          "state": {
            "_model_module": "@jupyter-widgets/controls",
            "_model_module_version": "1.5.0",
            "_model_name": "ToggleButtonsStyleModel",
            "_view_count": null,
            "_view_module": "@jupyter-widgets/base",
            "_view_module_version": "1.2.0",
            "_view_name": "StyleView",
            "button_width": "",
            "description_width": "",
            "font_weight": ""
          }
        },
        "7cbe51479a444da5bbaecc89969c157b": {
          "model_module": "@jupyter-widgets/controls",
          "model_name": "ToggleButtonsModel",
          "model_module_version": "1.5.0",
          "state": {
            "_dom_classes": [],
            "_model_module": "@jupyter-widgets/controls",
            "_model_module_version": "1.5.0",
            "_model_name": "ToggleButtonsModel",
            "_options_labels": [
              "a",
              "b",
              "c",
              "d"
            ],
            "_view_count": null,
            "_view_module": "@jupyter-widgets/controls",
            "_view_module_version": "1.5.0",
            "_view_name": "ToggleButtonsView",
            "button_style": "success",
            "description": "",
            "description_tooltip": null,
            "disabled": true,
            "icons": [],
            "index": 0,
            "layout": "IPY_MODEL_62210274857b4c3982c1e5e75d61d59e",
            "style": "IPY_MODEL_d4df44ea53214b04a796977bba1edd7f",
            "tooltips": [
              "после завршения кода внутри блока произойдет автоматическое закрытие файла",
              "открывает файл для чтения",
              "открыавет файл для записи",
              "очищает содержимое файла после выполнения кода внутри блока"
            ]
          }
        },
        "62210274857b4c3982c1e5e75d61d59e": {
          "model_module": "@jupyter-widgets/base",
          "model_name": "LayoutModel",
          "model_module_version": "1.2.0",
          "state": {
            "_model_module": "@jupyter-widgets/base",
            "_model_module_version": "1.2.0",
            "_model_name": "LayoutModel",
            "_view_count": null,
            "_view_module": "@jupyter-widgets/base",
            "_view_module_version": "1.2.0",
            "_view_name": "LayoutView",
            "align_content": null,
            "align_items": null,
            "align_self": null,
            "border": null,
            "bottom": null,
            "display": null,
            "flex": null,
            "flex_flow": null,
            "grid_area": null,
            "grid_auto_columns": null,
            "grid_auto_flow": null,
            "grid_auto_rows": null,
            "grid_column": null,
            "grid_gap": null,
            "grid_row": null,
            "grid_template_areas": null,
            "grid_template_columns": null,
            "grid_template_rows": null,
            "height": null,
            "justify_content": null,
            "justify_items": null,
            "left": null,
            "margin": null,
            "max_height": null,
            "max_width": null,
            "min_height": null,
            "min_width": null,
            "object_fit": null,
            "object_position": null,
            "order": null,
            "overflow": null,
            "overflow_x": null,
            "overflow_y": null,
            "padding": null,
            "right": null,
            "top": null,
            "visibility": null,
            "width": null
          }
        },
        "d4df44ea53214b04a796977bba1edd7f": {
          "model_module": "@jupyter-widgets/controls",
          "model_name": "ToggleButtonsStyleModel",
          "model_module_version": "1.5.0",
          "state": {
            "_model_module": "@jupyter-widgets/controls",
            "_model_module_version": "1.5.0",
            "_model_name": "ToggleButtonsStyleModel",
            "_view_count": null,
            "_view_module": "@jupyter-widgets/base",
            "_view_module_version": "1.2.0",
            "_view_name": "StyleView",
            "button_width": "",
            "description_width": "",
            "font_weight": ""
          }
        },
        "5bad8e38a2524f108ccbfc3b5bdc0578": {
          "model_module": "@jupyter-widgets/controls",
          "model_name": "ToggleButtonsModel",
          "model_module_version": "1.5.0",
          "state": {
            "_dom_classes": [],
            "_model_module": "@jupyter-widgets/controls",
            "_model_module_version": "1.5.0",
            "_model_name": "ToggleButtonsModel",
            "_options_labels": [
              "a",
              "b",
              "c",
              "d"
            ],
            "_view_count": null,
            "_view_module": "@jupyter-widgets/controls",
            "_view_module_version": "1.5.0",
            "_view_name": "ToggleButtonsView",
            "button_style": "success",
            "description": "",
            "description_tooltip": null,
            "disabled": true,
            "icons": [],
            "index": 3,
            "layout": "IPY_MODEL_95d068171c6f465eaaea2ea02e2350ef",
            "style": "IPY_MODEL_04f1800a684e460ea42697258fa2e4df",
            "tooltips": [
              "набор переменных",
              "обученная нейронная сеть",
              "ноутбук Google Colaboratory",
              "файл с расширением .py, содержащий набор функций, классов и методов"
            ]
          }
        },
        "95d068171c6f465eaaea2ea02e2350ef": {
          "model_module": "@jupyter-widgets/base",
          "model_name": "LayoutModel",
          "model_module_version": "1.2.0",
          "state": {
            "_model_module": "@jupyter-widgets/base",
            "_model_module_version": "1.2.0",
            "_model_name": "LayoutModel",
            "_view_count": null,
            "_view_module": "@jupyter-widgets/base",
            "_view_module_version": "1.2.0",
            "_view_name": "LayoutView",
            "align_content": null,
            "align_items": null,
            "align_self": null,
            "border": null,
            "bottom": null,
            "display": null,
            "flex": null,
            "flex_flow": null,
            "grid_area": null,
            "grid_auto_columns": null,
            "grid_auto_flow": null,
            "grid_auto_rows": null,
            "grid_column": null,
            "grid_gap": null,
            "grid_row": null,
            "grid_template_areas": null,
            "grid_template_columns": null,
            "grid_template_rows": null,
            "height": null,
            "justify_content": null,
            "justify_items": null,
            "left": null,
            "margin": null,
            "max_height": null,
            "max_width": null,
            "min_height": null,
            "min_width": null,
            "object_fit": null,
            "object_position": null,
            "order": null,
            "overflow": null,
            "overflow_x": null,
            "overflow_y": null,
            "padding": null,
            "right": null,
            "top": null,
            "visibility": null,
            "width": null
          }
        },
        "04f1800a684e460ea42697258fa2e4df": {
          "model_module": "@jupyter-widgets/controls",
          "model_name": "ToggleButtonsStyleModel",
          "model_module_version": "1.5.0",
          "state": {
            "_model_module": "@jupyter-widgets/controls",
            "_model_module_version": "1.5.0",
            "_model_name": "ToggleButtonsStyleModel",
            "_view_count": null,
            "_view_module": "@jupyter-widgets/base",
            "_view_module_version": "1.2.0",
            "_view_name": "StyleView",
            "button_width": "",
            "description_width": "",
            "font_weight": ""
          }
        },
        "aad71221d18f4577bd5e7d09ffc09b15": {
          "model_module": "@jupyter-widgets/controls",
          "model_name": "ToggleButtonsModel",
          "model_module_version": "1.5.0",
          "state": {
            "_dom_classes": [],
            "_model_module": "@jupyter-widgets/controls",
            "_model_module_version": "1.5.0",
            "_model_name": "ToggleButtonsModel",
            "_options_labels": [
              "a",
              "b",
              "c",
              "d"
            ],
            "_view_count": null,
            "_view_module": "@jupyter-widgets/controls",
            "_view_module_version": "1.5.0",
            "_view_name": "ToggleButtonsView",
            "button_style": "success",
            "description": "",
            "description_tooltip": null,
            "disabled": true,
            "icons": [],
            "index": 1,
            "layout": "IPY_MODEL_f15d902ede8f41a8a42b79402cada601",
            "style": "IPY_MODEL_f78571dc58a24f568995440216aeb1b8",
            "tooltips": [
              "в виде модели .h5",
              "в виде архива",
              "в виде исполняемого файла для linux",
              "в виде исполняемого файла Windows"
            ]
          }
        },
        "f15d902ede8f41a8a42b79402cada601": {
          "model_module": "@jupyter-widgets/base",
          "model_name": "LayoutModel",
          "model_module_version": "1.2.0",
          "state": {
            "_model_module": "@jupyter-widgets/base",
            "_model_module_version": "1.2.0",
            "_model_name": "LayoutModel",
            "_view_count": null,
            "_view_module": "@jupyter-widgets/base",
            "_view_module_version": "1.2.0",
            "_view_name": "LayoutView",
            "align_content": null,
            "align_items": null,
            "align_self": null,
            "border": null,
            "bottom": null,
            "display": null,
            "flex": null,
            "flex_flow": null,
            "grid_area": null,
            "grid_auto_columns": null,
            "grid_auto_flow": null,
            "grid_auto_rows": null,
            "grid_column": null,
            "grid_gap": null,
            "grid_row": null,
            "grid_template_areas": null,
            "grid_template_columns": null,
            "grid_template_rows": null,
            "height": null,
            "justify_content": null,
            "justify_items": null,
            "left": null,
            "margin": null,
            "max_height": null,
            "max_width": null,
            "min_height": null,
            "min_width": null,
            "object_fit": null,
            "object_position": null,
            "order": null,
            "overflow": null,
            "overflow_x": null,
            "overflow_y": null,
            "padding": null,
            "right": null,
            "top": null,
            "visibility": null,
            "width": null
          }
        },
        "f78571dc58a24f568995440216aeb1b8": {
          "model_module": "@jupyter-widgets/controls",
          "model_name": "ToggleButtonsStyleModel",
          "model_module_version": "1.5.0",
          "state": {
            "_model_module": "@jupyter-widgets/controls",
            "_model_module_version": "1.5.0",
            "_model_name": "ToggleButtonsStyleModel",
            "_view_count": null,
            "_view_module": "@jupyter-widgets/base",
            "_view_module_version": "1.2.0",
            "_view_name": "StyleView",
            "button_width": "",
            "description_width": "",
            "font_weight": ""
          }
        },
        "de5e768e7e79420eb17870b1d2c230f2": {
          "model_module": "@jupyter-widgets/controls",
          "model_name": "ToggleButtonsModel",
          "model_module_version": "1.5.0",
          "state": {
            "_dom_classes": [],
            "_model_module": "@jupyter-widgets/controls",
            "_model_module_version": "1.5.0",
            "_model_name": "ToggleButtonsModel",
            "_options_labels": [
              "a",
              "b",
              "c",
              "d"
            ],
            "_view_count": null,
            "_view_module": "@jupyter-widgets/controls",
            "_view_module_version": "1.5.0",
            "_view_name": "ToggleButtonsView",
            "button_style": "danger",
            "description": "",
            "description_tooltip": null,
            "disabled": true,
            "icons": [],
            "index": 2,
            "layout": "IPY_MODEL_4d3fe42f0de54de6b91a8be264a6d273",
            "style": "IPY_MODEL_160d444471ef4de1b686549bd6247bbb",
            "tooltips": [
              "len()",
              "dir()",
              "dict()",
              "__dir__()"
            ]
          }
        },
        "4d3fe42f0de54de6b91a8be264a6d273": {
          "model_module": "@jupyter-widgets/base",
          "model_name": "LayoutModel",
          "model_module_version": "1.2.0",
          "state": {
            "_model_module": "@jupyter-widgets/base",
            "_model_module_version": "1.2.0",
            "_model_name": "LayoutModel",
            "_view_count": null,
            "_view_module": "@jupyter-widgets/base",
            "_view_module_version": "1.2.0",
            "_view_name": "LayoutView",
            "align_content": null,
            "align_items": null,
            "align_self": null,
            "border": null,
            "bottom": null,
            "display": null,
            "flex": null,
            "flex_flow": null,
            "grid_area": null,
            "grid_auto_columns": null,
            "grid_auto_flow": null,
            "grid_auto_rows": null,
            "grid_column": null,
            "grid_gap": null,
            "grid_row": null,
            "grid_template_areas": null,
            "grid_template_columns": null,
            "grid_template_rows": null,
            "height": null,
            "justify_content": null,
            "justify_items": null,
            "left": null,
            "margin": null,
            "max_height": null,
            "max_width": null,
            "min_height": null,
            "min_width": null,
            "object_fit": null,
            "object_position": null,
            "order": null,
            "overflow": null,
            "overflow_x": null,
            "overflow_y": null,
            "padding": null,
            "right": null,
            "top": null,
            "visibility": null,
            "width": null
          }
        },
        "160d444471ef4de1b686549bd6247bbb": {
          "model_module": "@jupyter-widgets/controls",
          "model_name": "ToggleButtonsStyleModel",
          "model_module_version": "1.5.0",
          "state": {
            "_model_module": "@jupyter-widgets/controls",
            "_model_module_version": "1.5.0",
            "_model_name": "ToggleButtonsStyleModel",
            "_view_count": null,
            "_view_module": "@jupyter-widgets/base",
            "_view_module_version": "1.2.0",
            "_view_name": "StyleView",
            "button_width": "",
            "description_width": "",
            "font_weight": ""
          }
        },
        "9ddee7045da5428badcbe4fe17f5aa93": {
          "model_module": "@jupyter-widgets/controls",
          "model_name": "ToggleButtonsModel",
          "model_module_version": "1.5.0",
          "state": {
            "_dom_classes": [],
            "_model_module": "@jupyter-widgets/controls",
            "_model_module_version": "1.5.0",
            "_model_name": "ToggleButtonsModel",
            "_options_labels": [
              "a",
              "b",
              "c",
              "d"
            ],
            "_view_count": null,
            "_view_module": "@jupyter-widgets/controls",
            "_view_module_version": "1.5.0",
            "_view_name": "ToggleButtonsView",
            "button_style": "success",
            "description": "",
            "description_tooltip": null,
            "disabled": true,
            "icons": [],
            "index": 0,
            "layout": "IPY_MODEL_0103d3de2a1847298dd0cc6351e53055",
            "style": "IPY_MODEL_f013b7f89f9d4abead3e6e976438b90c",
            "tooltips": [
              "gdown",
              "gup",
              "gdrive",
              "os"
            ]
          }
        },
        "0103d3de2a1847298dd0cc6351e53055": {
          "model_module": "@jupyter-widgets/base",
          "model_name": "LayoutModel",
          "model_module_version": "1.2.0",
          "state": {
            "_model_module": "@jupyter-widgets/base",
            "_model_module_version": "1.2.0",
            "_model_name": "LayoutModel",
            "_view_count": null,
            "_view_module": "@jupyter-widgets/base",
            "_view_module_version": "1.2.0",
            "_view_name": "LayoutView",
            "align_content": null,
            "align_items": null,
            "align_self": null,
            "border": null,
            "bottom": null,
            "display": null,
            "flex": null,
            "flex_flow": null,
            "grid_area": null,
            "grid_auto_columns": null,
            "grid_auto_flow": null,
            "grid_auto_rows": null,
            "grid_column": null,
            "grid_gap": null,
            "grid_row": null,
            "grid_template_areas": null,
            "grid_template_columns": null,
            "grid_template_rows": null,
            "height": null,
            "justify_content": null,
            "justify_items": null,
            "left": null,
            "margin": null,
            "max_height": null,
            "max_width": null,
            "min_height": null,
            "min_width": null,
            "object_fit": null,
            "object_position": null,
            "order": null,
            "overflow": null,
            "overflow_x": null,
            "overflow_y": null,
            "padding": null,
            "right": null,
            "top": null,
            "visibility": null,
            "width": null
          }
        },
        "f013b7f89f9d4abead3e6e976438b90c": {
          "model_module": "@jupyter-widgets/controls",
          "model_name": "ToggleButtonsStyleModel",
          "model_module_version": "1.5.0",
          "state": {
            "_model_module": "@jupyter-widgets/controls",
            "_model_module_version": "1.5.0",
            "_model_name": "ToggleButtonsStyleModel",
            "_view_count": null,
            "_view_module": "@jupyter-widgets/base",
            "_view_module_version": "1.2.0",
            "_view_name": "StyleView",
            "button_width": "",
            "description_width": "",
            "font_weight": ""
          }
        },
        "c67e4e648280460e8dba871c62e9ba9d": {
          "model_module": "@jupyter-widgets/controls",
          "model_name": "ToggleButtonsModel",
          "model_module_version": "1.5.0",
          "state": {
            "_dom_classes": [],
            "_model_module": "@jupyter-widgets/controls",
            "_model_module_version": "1.5.0",
            "_model_name": "ToggleButtonsModel",
            "_options_labels": [
              "a",
              "b",
              "c",
              "d"
            ],
            "_view_count": null,
            "_view_module": "@jupyter-widgets/controls",
            "_view_module_version": "1.5.0",
            "_view_name": "ToggleButtonsView",
            "button_style": "success",
            "description": "",
            "description_tooltip": null,
            "disabled": true,
            "icons": [],
            "index": 3,
            "layout": "IPY_MODEL_6a9b2f3f46e84a37a1aa41e9bcb70b13",
            "style": "IPY_MODEL_272d5d5e0293443aa6a97389fa9b50bb",
            "tooltips": [
              "алгоритм обратного распространения ошибки",
              "графическое устройство ввода/вывода (например, планшет)",
              "библиотека для работы с видеокартами",
              "графический процессор"
            ]
          }
        },
        "6a9b2f3f46e84a37a1aa41e9bcb70b13": {
          "model_module": "@jupyter-widgets/base",
          "model_name": "LayoutModel",
          "model_module_version": "1.2.0",
          "state": {
            "_model_module": "@jupyter-widgets/base",
            "_model_module_version": "1.2.0",
            "_model_name": "LayoutModel",
            "_view_count": null,
            "_view_module": "@jupyter-widgets/base",
            "_view_module_version": "1.2.0",
            "_view_name": "LayoutView",
            "align_content": null,
            "align_items": null,
            "align_self": null,
            "border": null,
            "bottom": null,
            "display": null,
            "flex": null,
            "flex_flow": null,
            "grid_area": null,
            "grid_auto_columns": null,
            "grid_auto_flow": null,
            "grid_auto_rows": null,
            "grid_column": null,
            "grid_gap": null,
            "grid_row": null,
            "grid_template_areas": null,
            "grid_template_columns": null,
            "grid_template_rows": null,
            "height": null,
            "justify_content": null,
            "justify_items": null,
            "left": null,
            "margin": null,
            "max_height": null,
            "max_width": null,
            "min_height": null,
            "min_width": null,
            "object_fit": null,
            "object_position": null,
            "order": null,
            "overflow": null,
            "overflow_x": null,
            "overflow_y": null,
            "padding": null,
            "right": null,
            "top": null,
            "visibility": null,
            "width": null
          }
        },
        "272d5d5e0293443aa6a97389fa9b50bb": {
          "model_module": "@jupyter-widgets/controls",
          "model_name": "ToggleButtonsStyleModel",
          "model_module_version": "1.5.0",
          "state": {
            "_model_module": "@jupyter-widgets/controls",
            "_model_module_version": "1.5.0",
            "_model_name": "ToggleButtonsStyleModel",
            "_view_count": null,
            "_view_module": "@jupyter-widgets/base",
            "_view_module_version": "1.2.0",
            "_view_name": "StyleView",
            "button_width": "",
            "description_width": "",
            "font_weight": ""
          }
        },
        "6ef2ce7408134ec8964446119c1b3a1b": {
          "model_module": "@jupyter-widgets/controls",
          "model_name": "ToggleButtonsModel",
          "model_module_version": "1.5.0",
          "state": {
            "_dom_classes": [],
            "_model_module": "@jupyter-widgets/controls",
            "_model_module_version": "1.5.0",
            "_model_name": "ToggleButtonsModel",
            "_options_labels": [
              "a",
              "b",
              "c",
              "d"
            ],
            "_view_count": null,
            "_view_module": "@jupyter-widgets/controls",
            "_view_module_version": "1.5.0",
            "_view_name": "ToggleButtonsView",
            "button_style": "danger",
            "description": "",
            "description_tooltip": null,
            "disabled": true,
            "icons": [],
            "index": 0,
            "layout": "IPY_MODEL_a3bfe3c9a8064d07beb1d76cb616c1be",
            "style": "IPY_MODEL_daa12204816b4141b8a75ea2b8a234d6",
            "tooltips": [
              "в конец файла добавится слово \"Hello\"",
              "файл перезапишется и будет содержать только слово \"Hello\"",
              "программа выполнится с ошибкой, так как файл уже существует",
              "файл не изменится"
            ]
          }
        },
        "a3bfe3c9a8064d07beb1d76cb616c1be": {
          "model_module": "@jupyter-widgets/base",
          "model_name": "LayoutModel",
          "model_module_version": "1.2.0",
          "state": {
            "_model_module": "@jupyter-widgets/base",
            "_model_module_version": "1.2.0",
            "_model_name": "LayoutModel",
            "_view_count": null,
            "_view_module": "@jupyter-widgets/base",
            "_view_module_version": "1.2.0",
            "_view_name": "LayoutView",
            "align_content": null,
            "align_items": null,
            "align_self": null,
            "border": null,
            "bottom": null,
            "display": null,
            "flex": null,
            "flex_flow": null,
            "grid_area": null,
            "grid_auto_columns": null,
            "grid_auto_flow": null,
            "grid_auto_rows": null,
            "grid_column": null,
            "grid_gap": null,
            "grid_row": null,
            "grid_template_areas": null,
            "grid_template_columns": null,
            "grid_template_rows": null,
            "height": null,
            "justify_content": null,
            "justify_items": null,
            "left": null,
            "margin": null,
            "max_height": null,
            "max_width": null,
            "min_height": null,
            "min_width": null,
            "object_fit": null,
            "object_position": null,
            "order": null,
            "overflow": null,
            "overflow_x": null,
            "overflow_y": null,
            "padding": null,
            "right": null,
            "top": null,
            "visibility": null,
            "width": null
          }
        },
        "daa12204816b4141b8a75ea2b8a234d6": {
          "model_module": "@jupyter-widgets/controls",
          "model_name": "ToggleButtonsStyleModel",
          "model_module_version": "1.5.0",
          "state": {
            "_model_module": "@jupyter-widgets/controls",
            "_model_module_version": "1.5.0",
            "_model_name": "ToggleButtonsStyleModel",
            "_view_count": null,
            "_view_module": "@jupyter-widgets/base",
            "_view_module_version": "1.2.0",
            "_view_name": "StyleView",
            "button_width": "",
            "description_width": "",
            "font_weight": ""
          }
        },
        "a52e4e806434477eb558fb14a34ea759": {
          "model_module": "@jupyter-widgets/controls",
          "model_name": "ToggleButtonsModel",
          "model_module_version": "1.5.0",
          "state": {
            "_dom_classes": [],
            "_model_module": "@jupyter-widgets/controls",
            "_model_module_version": "1.5.0",
            "_model_name": "ToggleButtonsModel",
            "_options_labels": [
              "a",
              "b",
              "c",
              "d"
            ],
            "_view_count": null,
            "_view_module": "@jupyter-widgets/controls",
            "_view_module_version": "1.5.0",
            "_view_name": "ToggleButtonsView",
            "button_style": "danger",
            "description": "",
            "description_tooltip": null,
            "disabled": true,
            "icons": [],
            "index": 1,
            "layout": "IPY_MODEL_483a67472a6e418199c27f799f018101",
            "style": "IPY_MODEL_a8c3539e14f247369d247011398adcca",
            "tooltips": [
              "predict",
              "fit",
              "evaluate",
              "fit_on_batch"
            ]
          }
        },
        "483a67472a6e418199c27f799f018101": {
          "model_module": "@jupyter-widgets/base",
          "model_name": "LayoutModel",
          "model_module_version": "1.2.0",
          "state": {
            "_model_module": "@jupyter-widgets/base",
            "_model_module_version": "1.2.0",
            "_model_name": "LayoutModel",
            "_view_count": null,
            "_view_module": "@jupyter-widgets/base",
            "_view_module_version": "1.2.0",
            "_view_name": "LayoutView",
            "align_content": null,
            "align_items": null,
            "align_self": null,
            "border": null,
            "bottom": null,
            "display": null,
            "flex": null,
            "flex_flow": null,
            "grid_area": null,
            "grid_auto_columns": null,
            "grid_auto_flow": null,
            "grid_auto_rows": null,
            "grid_column": null,
            "grid_gap": null,
            "grid_row": null,
            "grid_template_areas": null,
            "grid_template_columns": null,
            "grid_template_rows": null,
            "height": null,
            "justify_content": null,
            "justify_items": null,
            "left": null,
            "margin": null,
            "max_height": null,
            "max_width": null,
            "min_height": null,
            "min_width": null,
            "object_fit": null,
            "object_position": null,
            "order": null,
            "overflow": null,
            "overflow_x": null,
            "overflow_y": null,
            "padding": null,
            "right": null,
            "top": null,
            "visibility": null,
            "width": null
          }
        },
        "a8c3539e14f247369d247011398adcca": {
          "model_module": "@jupyter-widgets/controls",
          "model_name": "ToggleButtonsStyleModel",
          "model_module_version": "1.5.0",
          "state": {
            "_model_module": "@jupyter-widgets/controls",
            "_model_module_version": "1.5.0",
            "_model_name": "ToggleButtonsStyleModel",
            "_view_count": null,
            "_view_module": "@jupyter-widgets/base",
            "_view_module_version": "1.2.0",
            "_view_name": "StyleView",
            "button_width": "",
            "description_width": "",
            "font_weight": ""
          }
        },
        "3dede105e6fb4100b4770b1130361db1": {
          "model_module": "@jupyter-widgets/controls",
          "model_name": "ButtonModel",
          "model_module_version": "1.5.0",
          "state": {
            "_dom_classes": [],
            "_model_module": "@jupyter-widgets/controls",
            "_model_module_version": "1.5.0",
            "_model_name": "ButtonModel",
            "_view_count": null,
            "_view_module": "@jupyter-widgets/controls",
            "_view_module_version": "1.5.0",
            "_view_name": "ButtonView",
            "button_style": "success",
            "description": "Проверить",
            "disabled": true,
            "icon": "search",
            "layout": "IPY_MODEL_e3767c28e57046f1b2026ab200d00c73",
            "style": "IPY_MODEL_0c71114bcd0d4410897ef0321f07b755",
            "tooltip": "Проверить"
          }
        },
        "e3767c28e57046f1b2026ab200d00c73": {
          "model_module": "@jupyter-widgets/base",
          "model_name": "LayoutModel",
          "model_module_version": "1.2.0",
          "state": {
            "_model_module": "@jupyter-widgets/base",
            "_model_module_version": "1.2.0",
            "_model_name": "LayoutModel",
            "_view_count": null,
            "_view_module": "@jupyter-widgets/base",
            "_view_module_version": "1.2.0",
            "_view_name": "LayoutView",
            "align_content": null,
            "align_items": null,
            "align_self": null,
            "border": null,
            "bottom": null,
            "display": "None",
            "flex": null,
            "flex_flow": null,
            "grid_area": null,
            "grid_auto_columns": null,
            "grid_auto_flow": null,
            "grid_auto_rows": null,
            "grid_column": null,
            "grid_gap": null,
            "grid_row": null,
            "grid_template_areas": null,
            "grid_template_columns": null,
            "grid_template_rows": null,
            "height": null,
            "justify_content": null,
            "justify_items": null,
            "left": null,
            "margin": null,
            "max_height": null,
            "max_width": null,
            "min_height": null,
            "min_width": null,
            "object_fit": null,
            "object_position": null,
            "order": null,
            "overflow": null,
            "overflow_x": null,
            "overflow_y": null,
            "padding": null,
            "right": null,
            "top": null,
            "visibility": null,
            "width": null
          }
        },
        "0c71114bcd0d4410897ef0321f07b755": {
          "model_module": "@jupyter-widgets/controls",
          "model_name": "ButtonStyleModel",
          "model_module_version": "1.5.0",
          "state": {
            "_model_module": "@jupyter-widgets/controls",
            "_model_module_version": "1.5.0",
            "_model_name": "ButtonStyleModel",
            "_view_count": null,
            "_view_module": "@jupyter-widgets/base",
            "_view_module_version": "1.2.0",
            "_view_name": "StyleView",
            "button_color": null,
            "font_weight": ""
          }
        },
        "f36f3c1ba3ad41529e841dcfcc65d5e7": {
          "model_module": "@jupyter-widgets/controls",
          "model_name": "ButtonModel",
          "model_module_version": "1.5.0",
          "state": {
            "_dom_classes": [],
            "_model_module": "@jupyter-widgets/controls",
            "_model_module_version": "1.5.0",
            "_model_name": "ButtonModel",
            "_view_count": null,
            "_view_module": "@jupyter-widgets/controls",
            "_view_module_version": "1.5.0",
            "_view_name": "ButtonView",
            "button_style": "warning",
            "description": "Пересдать",
            "disabled": false,
            "icon": "refresh",
            "layout": "IPY_MODEL_8aa0923b1b154c44930f66474e1761c3",
            "style": "IPY_MODEL_0e03650459c2485c94c5879ce85229ad",
            "tooltip": "Пересдать"
          }
        },
        "8aa0923b1b154c44930f66474e1761c3": {
          "model_module": "@jupyter-widgets/base",
          "model_name": "LayoutModel",
          "model_module_version": "1.2.0",
          "state": {
            "_model_module": "@jupyter-widgets/base",
            "_model_module_version": "1.2.0",
            "_model_name": "LayoutModel",
            "_view_count": null,
            "_view_module": "@jupyter-widgets/base",
            "_view_module_version": "1.2.0",
            "_view_name": "LayoutView",
            "align_content": null,
            "align_items": null,
            "align_self": null,
            "border": null,
            "bottom": null,
            "display": "block",
            "flex": null,
            "flex_flow": null,
            "grid_area": null,
            "grid_auto_columns": null,
            "grid_auto_flow": null,
            "grid_auto_rows": null,
            "grid_column": null,
            "grid_gap": null,
            "grid_row": null,
            "grid_template_areas": null,
            "grid_template_columns": null,
            "grid_template_rows": null,
            "height": null,
            "justify_content": null,
            "justify_items": null,
            "left": null,
            "margin": null,
            "max_height": null,
            "max_width": null,
            "min_height": null,
            "min_width": null,
            "object_fit": null,
            "object_position": null,
            "order": null,
            "overflow": null,
            "overflow_x": null,
            "overflow_y": null,
            "padding": null,
            "right": null,
            "top": null,
            "visibility": null,
            "width": null
          }
        },
        "0e03650459c2485c94c5879ce85229ad": {
          "model_module": "@jupyter-widgets/controls",
          "model_name": "ButtonStyleModel",
          "model_module_version": "1.5.0",
          "state": {
            "_model_module": "@jupyter-widgets/controls",
            "_model_module_version": "1.5.0",
            "_model_name": "ButtonStyleModel",
            "_view_count": null,
            "_view_module": "@jupyter-widgets/base",
            "_view_module_version": "1.2.0",
            "_view_name": "StyleView",
            "button_color": null,
            "font_weight": ""
          }
        },
        "ecf7df0aadf54ced806f45983f0562bc": {
          "model_module": "@jupyter-widgets/controls",
          "model_name": "ButtonModel",
          "model_module_version": "1.5.0",
          "state": {
            "_dom_classes": [],
            "_model_module": "@jupyter-widgets/controls",
            "_model_module_version": "1.5.0",
            "_model_name": "ButtonModel",
            "_view_count": null,
            "_view_module": "@jupyter-widgets/controls",
            "_view_module_version": "1.5.0",
            "_view_name": "ButtonView",
            "button_style": "info",
            "description": "Зачесть ДЗ",
            "disabled": false,
            "icon": "check-circle",
            "layout": "IPY_MODEL_a23ff024382c4b1da5fadd3f0c35316e",
            "style": "IPY_MODEL_5765cb316e9641539fe434c29c34bb51",
            "tooltip": "Зачесть ДЗ"
          }
        },
        "a23ff024382c4b1da5fadd3f0c35316e": {
          "model_module": "@jupyter-widgets/base",
          "model_name": "LayoutModel",
          "model_module_version": "1.2.0",
          "state": {
            "_model_module": "@jupyter-widgets/base",
            "_model_module_version": "1.2.0",
            "_model_name": "LayoutModel",
            "_view_count": null,
            "_view_module": "@jupyter-widgets/base",
            "_view_module_version": "1.2.0",
            "_view_name": "LayoutView",
            "align_content": null,
            "align_items": null,
            "align_self": null,
            "border": null,
            "bottom": null,
            "display": "block",
            "flex": null,
            "flex_flow": null,
            "grid_area": null,
            "grid_auto_columns": null,
            "grid_auto_flow": null,
            "grid_auto_rows": null,
            "grid_column": null,
            "grid_gap": null,
            "grid_row": null,
            "grid_template_areas": null,
            "grid_template_columns": null,
            "grid_template_rows": null,
            "height": null,
            "justify_content": null,
            "justify_items": null,
            "left": null,
            "margin": null,
            "max_height": null,
            "max_width": null,
            "min_height": null,
            "min_width": null,
            "object_fit": null,
            "object_position": null,
            "order": null,
            "overflow": null,
            "overflow_x": null,
            "overflow_y": null,
            "padding": null,
            "right": null,
            "top": null,
            "visibility": null,
            "width": null
          }
        },
        "5765cb316e9641539fe434c29c34bb51": {
          "model_module": "@jupyter-widgets/controls",
          "model_name": "ButtonStyleModel",
          "model_module_version": "1.5.0",
          "state": {
            "_model_module": "@jupyter-widgets/controls",
            "_model_module_version": "1.5.0",
            "_model_name": "ButtonStyleModel",
            "_view_count": null,
            "_view_module": "@jupyter-widgets/base",
            "_view_module_version": "1.2.0",
            "_view_name": "StyleView",
            "button_color": null,
            "font_weight": ""
          }
        }
      }
    }
  },
  "cells": [
    {
      "cell_type": "markdown",
      "metadata": {
        "id": "view-in-github",
        "colab_type": "text"
      },
      "source": [
        "<a href=\"https://colab.research.google.com/github/VladimirPakhomov2000/Base-syntaxis-Python/blob/main/%D0%9A%D0%BE%D0%BF%D0%B8%D1%8F_%D0%B1%D0%BB%D0%BE%D0%BA%D0%BD%D0%BE%D1%82%D0%B0_%22%D0%91%D0%B0%D0%B7%D0%BE%D0%B2%D1%8B%D0%B9_%D0%B1%D0%BB%D0%BE%D0%BA_%7C_%D0%98%D0%BD%D1%82%D0%B5%D0%B3%D1%80%D0%B0%D1%86%D0%B8%D1%8F_%D0%BD%D0%B5%D0%B9%D1%80%D0%BE%D0%BD%D0%BD%D0%BE%D0%B9_%D1%81%D0%B5%D1%82%D0%B8_%D0%BD%D0%B0_%D0%94%D0%95%D0%9C%D0%9E_%D0%9F%D0%90%D0%9D%D0%95%D0%9B%D0%AC_%7C_%D0%94%D0%97_Ultra_Lite_(%D0%A2%D0%B5%D1%81%D1%82%D0%B8%D1%80%D0%BE%D0%B2%D0%B0%D0%BD%D0%B8%D0%B5)_%7C_%D0%A3%D0%98%D0%98%22.ipynb\" target=\"_parent\"><img src=\"https://colab.research.google.com/assets/colab-badge.svg\" alt=\"Open In Colab\"/></a>"
      ]
    },
    {
      "cell_type": "markdown",
      "source": [
        "<h1> <b> Инстуркция для сдачи домашнего задания «УльтраЛайт» </b> </h1>\n",
        "<p> <ul>\n",
        "<li> Запустите ячейку Установка инструментов». <br><i> (Начнется процесс установки необходимых инструментов, который займет несколько секунд)</i> </li>\n",
        "<li> Нажмите кнопку «Тестирование» </li>\n",
        "<li> При первом запуске появится окошко авторизации. <br> Введите свой логин (email) от учебной платформы и нажмите на кнопку «Приступить» </li>\n",
        "<li> После успешной авторизации появится тест из 10 вопросов <br> <i>Не забудьте прокрурить ползунок вверх, чтобы увидеть первые вопросы :) </i> </i>\n",
        "<li> Выберите по одному варианту ответа в каждом вопросе и нажмите кнопку «Проверить» </i>\n",
        "<li> После получения результата Вы можете пересдать тест или зачесть полученные баллы <i>(соответствующие кнопки «Пересдать» и «Зачесть ДЗ») </i> </li>\n",
        "<p> P.s. Вы можете в любой момент вернуться и пересдать домашнее задание для получения более высоких баллов\n",
        "<p> Успехов!"
      ],
      "metadata": {
        "id": "dB9Zs5moSNuA"
      }
    },
    {
      "cell_type": "code",
      "source": [
        "#@title Установка инструментов\n",
        "!rm -rf sample_data\n",
        "!rm -rf terraai\n",
        "!git clone -q https://github.com/gitterra/terrai-self-checking-homework terraai\n",
        "from terraai import autocheck\n",
        "worker = autocheck.Worker(11531, globals())"
      ],
      "metadata": {
        "id": "qL72bgDmxhbC"
      },
      "execution_count": 1,
      "outputs": []
    },
    {
      "cell_type": "code",
      "source": [
        "#@title Тестирование\n",
        "from IPython.display import Javascript\n",
        "worker.start()\n",
        "display(Javascript('''google.colab.output.setIframeHeight(0, true, {maxHeight: 5000})'''))"
      ],
      "metadata": {
        "cellView": "form",
        "id": "lxGv5JjDzVzH",
        "colab": {
          "base_uri": "https://localhost:8080/",
          "height": 2689,
          "referenced_widgets": [
            "f64ab991619f424fa70fdfbefdf2e13d",
            "6ef3ccd4c50f4f9fad2881655bd6ce0b",
            "95aee9c78ed64be787edd80ac21f21a8",
            "bd1594c0c33e43138035f547fa57201c",
            "e299555ccb314619aa262981a37b7769",
            "9ad85c0891ef4002afaad015f4561cbf",
            "957354b6cb394316beaa058cfaf75125",
            "255cb53470d043c2ba5b67feb33fc0cc",
            "635eac54b4a747b68651d6d83818bc0b",
            "b3d261627cc54917be903e222e2c49d5",
            "c82e389fb5a34f49b26152eed104f794",
            "4fbefb0e101b4d02bb29e61c4d8082c6",
            "7cbe51479a444da5bbaecc89969c157b",
            "62210274857b4c3982c1e5e75d61d59e",
            "d4df44ea53214b04a796977bba1edd7f",
            "5bad8e38a2524f108ccbfc3b5bdc0578",
            "95d068171c6f465eaaea2ea02e2350ef",
            "04f1800a684e460ea42697258fa2e4df",
            "aad71221d18f4577bd5e7d09ffc09b15",
            "f15d902ede8f41a8a42b79402cada601",
            "f78571dc58a24f568995440216aeb1b8",
            "de5e768e7e79420eb17870b1d2c230f2",
            "4d3fe42f0de54de6b91a8be264a6d273",
            "160d444471ef4de1b686549bd6247bbb",
            "9ddee7045da5428badcbe4fe17f5aa93",
            "0103d3de2a1847298dd0cc6351e53055",
            "f013b7f89f9d4abead3e6e976438b90c",
            "c67e4e648280460e8dba871c62e9ba9d",
            "6a9b2f3f46e84a37a1aa41e9bcb70b13",
            "272d5d5e0293443aa6a97389fa9b50bb",
            "6ef2ce7408134ec8964446119c1b3a1b",
            "a3bfe3c9a8064d07beb1d76cb616c1be",
            "daa12204816b4141b8a75ea2b8a234d6",
            "a52e4e806434477eb558fb14a34ea759",
            "483a67472a6e418199c27f799f018101",
            "a8c3539e14f247369d247011398adcca",
            "3dede105e6fb4100b4770b1130361db1",
            "e3767c28e57046f1b2026ab200d00c73",
            "0c71114bcd0d4410897ef0321f07b755",
            "f36f3c1ba3ad41529e841dcfcc65d5e7",
            "8aa0923b1b154c44930f66474e1761c3",
            "0e03650459c2485c94c5879ce85229ad",
            "ecf7df0aadf54ced806f45983f0562bc",
            "a23ff024382c4b1da5fadd3f0c35316e",
            "5765cb316e9641539fe434c29c34bb51"
          ]
        },
        "outputId": "4184a7bc-e164-43de-f448-31a042cd5bdb"
      },
      "execution_count": 2,
      "outputs": [
        {
          "output_type": "stream",
          "name": "stdout",
          "text": [
            "Вопрос №1: \n",
            "С помощью какой конструкции можно запустить модуль \"test.py\" из командной строки Google Colaboratory?:\n",
            "\n",
            "\n",
            "      a) %python test.py\n",
            "      b) %%python test\n",
            "      c) !python test.py\n",
            "      d) _python test\n"
          ]
        },
        {
          "output_type": "display_data",
          "data": {
            "text/plain": [
              "ToggleButtons(options=('a', 'b', 'c', 'd'), tooltips=('%python test.py', '%%python test', '!python test.py', '…"
            ],
            "application/vnd.jupyter.widget-view+json": {
              "version_major": 2,
              "version_minor": 0,
              "model_id": "957354b6cb394316beaa058cfaf75125"
            }
          },
          "metadata": {}
        },
        {
          "output_type": "stream",
          "name": "stdout",
          "text": [
            "\n",
            "\n",
            "\n",
            "\n",
            "Вопрос №2: \n",
            "Что означает аббревиатура CPU?:\n",
            "\n",
            "\n",
            "      a) один из видов архитектуры нейронной сети\n",
            "      b) минимальный шаг при расчете весов\n",
            "      c) библиотека для интеграции\n",
            "      d) центральный процессор\n"
          ]
        },
        {
          "output_type": "display_data",
          "data": {
            "text/plain": [
              "ToggleButtons(options=('a', 'b', 'c', 'd'), tooltips=('один из видов архитектуры нейронной сети', 'минимальный…"
            ],
            "application/vnd.jupyter.widget-view+json": {
              "version_major": 2,
              "version_minor": 0,
              "model_id": "b3d261627cc54917be903e222e2c49d5"
            }
          },
          "metadata": {}
        },
        {
          "output_type": "stream",
          "name": "stdout",
          "text": [
            "\n",
            "\n",
            "\n",
            "\n",
            "Вопрос №3: \n",
            "Как работает конструкция «with ... as...» при работе с файлами?:\n",
            "\n",
            "\n",
            "      a) после завршения кода внутри блока произойдет автоматическое закрытие файла\n",
            "      b) открывает файл для чтения\n",
            "      c) открыавет файл для записи\n",
            "      d) очищает содержимое файла после выполнения кода внутри блока\n"
          ]
        },
        {
          "output_type": "display_data",
          "data": {
            "text/plain": [
              "ToggleButtons(options=('a', 'b', 'c', 'd'), tooltips=('после завршения кода внутри блока произойдет автоматиче…"
            ],
            "application/vnd.jupyter.widget-view+json": {
              "version_major": 2,
              "version_minor": 0,
              "model_id": "7cbe51479a444da5bbaecc89969c157b"
            }
          },
          "metadata": {}
        },
        {
          "output_type": "stream",
          "name": "stdout",
          "text": [
            "\n",
            "\n",
            "\n",
            "\n",
            "Вопрос №4: \n",
            "Что такой модуль?:\n",
            "\n",
            "\n",
            "      a) набор переменных\n",
            "      b) обученная нейронная сеть\n",
            "      c) ноутбук Google Colaboratory\n",
            "      d) файл с расширением .py, содержащий набор функций, классов и методов\n"
          ]
        },
        {
          "output_type": "display_data",
          "data": {
            "text/plain": [
              "ToggleButtons(options=('a', 'b', 'c', 'd'), tooltips=('набор переменных', 'обученная нейронная сеть', 'ноутбук…"
            ],
            "application/vnd.jupyter.widget-view+json": {
              "version_major": 2,
              "version_minor": 0,
              "model_id": "5bad8e38a2524f108ccbfc3b5bdc0578"
            }
          },
          "metadata": {}
        },
        {
          "output_type": "stream",
          "name": "stdout",
          "text": [
            "\n",
            "\n",
            "\n",
            "\n",
            "Вопрос №5: \n",
            "В каком виде необходимо подготовить данные для загрузки на демо-панель?:\n",
            "\n",
            "\n",
            "      a) в виде модели .h5\n",
            "      b) в виде архива\n",
            "      c) в виде исполняемого файла для linux\n",
            "      d) в виде исполняемого файла Windows\n"
          ]
        },
        {
          "output_type": "display_data",
          "data": {
            "text/plain": [
              "ToggleButtons(options=('a', 'b', 'c', 'd'), tooltips=('в виде модели .h5', 'в виде архива', 'в виде исполняемо…"
            ],
            "application/vnd.jupyter.widget-view+json": {
              "version_major": 2,
              "version_minor": 0,
              "model_id": "aad71221d18f4577bd5e7d09ffc09b15"
            }
          },
          "metadata": {}
        },
        {
          "output_type": "stream",
          "name": "stdout",
          "text": [
            "\n",
            "\n",
            "\n",
            "\n",
            "Вопрос №6: \n",
            "Каким методом можно вызвать пространство имен объекта (другими словами, получить список всех доступных в модуле объектов)?:\n",
            "\n",
            "\n",
            "      a) len()\n",
            "      b) dir()\n",
            "      c) dict()\n",
            "      d) __dir__()\n"
          ]
        },
        {
          "output_type": "display_data",
          "data": {
            "text/plain": [
              "ToggleButtons(options=('a', 'b', 'c', 'd'), tooltips=('len()', 'dir()', 'dict()', '__dir__()'), value=None)"
            ],
            "application/vnd.jupyter.widget-view+json": {
              "version_major": 2,
              "version_minor": 0,
              "model_id": "de5e768e7e79420eb17870b1d2c230f2"
            }
          },
          "metadata": {}
        },
        {
          "output_type": "stream",
          "name": "stdout",
          "text": [
            "\n",
            "\n",
            "\n",
            "\n",
            "Вопрос №7: \n",
            "С помощью какой библиотеки можно осуществить загрузку данных с удаленного хранилища?:\n",
            "\n",
            "\n",
            "      a) gdown\n",
            "      b) gup\n",
            "      c) gdrive\n",
            "      d) os\n"
          ]
        },
        {
          "output_type": "display_data",
          "data": {
            "text/plain": [
              "ToggleButtons(options=('a', 'b', 'c', 'd'), tooltips=('gdown', 'gup', 'gdrive', 'os'), value=None)"
            ],
            "application/vnd.jupyter.widget-view+json": {
              "version_major": 2,
              "version_minor": 0,
              "model_id": "9ddee7045da5428badcbe4fe17f5aa93"
            }
          },
          "metadata": {}
        },
        {
          "output_type": "stream",
          "name": "stdout",
          "text": [
            "\n",
            "\n",
            "\n",
            "\n",
            "Вопрос №8: \n",
            "Что означает аббревиатура GPU?:\n",
            "\n",
            "\n",
            "      a) алгоритм обратного распространения ошибки\n",
            "      b) графическое устройство ввода/вывода (например, планшет)\n",
            "      c) библиотека для работы с видеокартами\n",
            "      d) графический процессор\n"
          ]
        },
        {
          "output_type": "display_data",
          "data": {
            "text/plain": [
              "ToggleButtons(options=('a', 'b', 'c', 'd'), tooltips=('алгоритм обратного распространения ошибки', 'графическо…"
            ],
            "application/vnd.jupyter.widget-view+json": {
              "version_major": 2,
              "version_minor": 0,
              "model_id": "c67e4e648280460e8dba871c62e9ba9d"
            }
          },
          "metadata": {}
        },
        {
          "output_type": "stream",
          "name": "stdout",
          "text": [
            "\n",
            "\n",
            "\n",
            "\n",
            "Вопрос №9: \n",
            "При работе с файлом вы используете следующий код:\n",
            "\n",
            "with open(\"test.txt\", \"w\") as f:\n",
            "      f.write(\"Hello\")\n",
            "\n",
            "Изначально в файле \"test.txt\" уже хранилась текстовая информация. Что произойдет с файлом, после выполнения кода?:\n",
            "\n",
            "\n",
            "      a) в конец файла добавится слово \"Hello\"\n",
            "      b) файл перезапишется и будет содержать только слово \"Hello\"\n",
            "      c) программа выполнится с ошибкой, так как файл уже существует\n",
            "      d) файл не изменится\n"
          ]
        },
        {
          "output_type": "display_data",
          "data": {
            "text/plain": [
              "ToggleButtons(options=('a', 'b', 'c', 'd'), tooltips=('в конец файла добавится слово \"Hello\"', 'файл перезапиш…"
            ],
            "application/vnd.jupyter.widget-view+json": {
              "version_major": 2,
              "version_minor": 0,
              "model_id": "6ef2ce7408134ec8964446119c1b3a1b"
            }
          },
          "metadata": {}
        },
        {
          "output_type": "stream",
          "name": "stdout",
          "text": [
            "\n",
            "\n",
            "\n",
            "\n",
            "Вопрос №10: \n",
            "С помощью какого метода можно произвести оценку качества модели?:\n",
            "\n",
            "\n",
            "      a) predict\n",
            "      b) fit\n",
            "      c) evaluate\n",
            "      d) fit_on_batch\n"
          ]
        },
        {
          "output_type": "display_data",
          "data": {
            "text/plain": [
              "ToggleButtons(options=('a', 'b', 'c', 'd'), tooltips=('predict', 'fit', 'evaluate', 'fit_on_batch'), value=Non…"
            ],
            "application/vnd.jupyter.widget-view+json": {
              "version_major": 2,
              "version_minor": 0,
              "model_id": "a52e4e806434477eb558fb14a34ea759"
            }
          },
          "metadata": {}
        },
        {
          "output_type": "stream",
          "name": "stdout",
          "text": [
            "\n",
            "\n",
            "\n",
            "\n"
          ]
        },
        {
          "output_type": "display_data",
          "data": {
            "text/plain": [
              "Button(button_style='success', description='Проверить', icon='search', layout=Layout(display='block'), style=B…"
            ],
            "application/vnd.jupyter.widget-view+json": {
              "version_major": 2,
              "version_minor": 0,
              "model_id": "3dede105e6fb4100b4770b1130361db1"
            }
          },
          "metadata": {}
        },
        {
          "output_type": "stream",
          "name": "stdout",
          "text": [
            "\n",
            "\n",
            "\n",
            "Ваш результат составил 7 баллов\n",
            "   * Для повторного тестирования нажмите «Пересдать»\n",
            "   * Для сдачи домшней работы нажмите «Зачесть ДЗ»\n",
            "Вы можете вернуться и пересдать домашнее задание в любое время\n"
          ]
        },
        {
          "output_type": "display_data",
          "data": {
            "text/plain": [
              "Button(button_style='warning', description='Пересдать', icon='refresh', layout=Layout(display='block'), style=…"
            ],
            "application/vnd.jupyter.widget-view+json": {
              "version_major": 2,
              "version_minor": 0,
              "model_id": "f36f3c1ba3ad41529e841dcfcc65d5e7"
            }
          },
          "metadata": {}
        },
        {
          "output_type": "display_data",
          "data": {
            "text/plain": [
              "Button(button_style='info', description='Зачесть ДЗ', icon='check-circle', layout=Layout(display='block'), sty…"
            ],
            "application/vnd.jupyter.widget-view+json": {
              "version_major": 2,
              "version_minor": 0,
              "model_id": "ecf7df0aadf54ced806f45983f0562bc"
            }
          },
          "metadata": {}
        }
      ]
    }
  ]
}