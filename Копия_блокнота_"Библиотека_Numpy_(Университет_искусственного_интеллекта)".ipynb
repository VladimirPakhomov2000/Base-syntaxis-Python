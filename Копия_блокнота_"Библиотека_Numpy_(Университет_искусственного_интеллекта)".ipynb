{
  "nbformat": 4,
  "nbformat_minor": 0,
  "metadata": {
    "kernelspec": {
      "display_name": "Python 3",
      "language": "python",
      "name": "python3"
    },
    "language_info": {
      "codemirror_mode": {
        "name": "ipython",
        "version": 3
      },
      "file_extension": ".py",
      "mimetype": "text/x-python",
      "name": "python",
      "nbconvert_exporter": "python",
      "pygments_lexer": "ipython3",
      "version": "3.6.8"
    },
    "colab": {
      "provenance": [],
      "include_colab_link": true
    }
  },
  "cells": [
    {
      "cell_type": "markdown",
      "metadata": {
        "id": "view-in-github",
        "colab_type": "text"
      },
      "source": [
        "<a href=\"https://colab.research.google.com/github/VladimirPakhomov2000/Base-syntaxis-Python/blob/main/%D0%9A%D0%BE%D0%BF%D0%B8%D1%8F_%D0%B1%D0%BB%D0%BE%D0%BA%D0%BD%D0%BE%D1%82%D0%B0_%22%D0%91%D0%B8%D0%B1%D0%BB%D0%B8%D0%BE%D1%82%D0%B5%D0%BA%D0%B0_Numpy_(%D0%A3%D0%BD%D0%B8%D0%B2%D0%B5%D1%80%D1%81%D0%B8%D1%82%D0%B5%D1%82_%D0%B8%D1%81%D0%BA%D1%83%D1%81%D1%81%D1%82%D0%B2%D0%B5%D0%BD%D0%BD%D0%BE%D0%B3%D0%BE_%D0%B8%D0%BD%D1%82%D0%B5%D0%BB%D0%BB%D0%B5%D0%BA%D1%82%D0%B0)%22.ipynb\" target=\"_parent\"><img src=\"https://colab.research.google.com/assets/colab-badge.svg\" alt=\"Open In Colab\"/></a>"
      ]
    },
    {
      "cell_type": "markdown",
      "metadata": {
        "id": "E9ChODg2zkJV"
      },
      "source": [
        "# Библиотека NumPy\n",
        "\n",
        "*Разбор данного раздела:* https://youtu.be/g1Wa_1iKRPY?t=1\n",
        "\n",
        "NumPy - векторные/научные вычисления. Пакет содержит функциональные средства для работы с многомерными массивами и высокоуровневыми математическими функциями.\n",
        "\n",
        "Справочные материалы по numpy: https://pythonworld.ru/numpy"
      ]
    },
    {
      "cell_type": "markdown",
      "metadata": {
        "id": "JJeKd0vGzkJh"
      },
      "source": [
        "Импортирование библиотеки:\n",
        "\n",
        "*Разбор данного раздела:* https://youtu.be/g1Wa_1iKRPY?t=38"
      ]
    },
    {
      "cell_type": "code",
      "metadata": {
        "id": "SkVigyK3zkJr"
      },
      "source": [
        "import numpy as np # Подключаем библиотеку numpy и задаем ей псевдоним np"
      ],
      "execution_count": null,
      "outputs": []
    },
    {
      "cell_type": "markdown",
      "metadata": {
        "id": "k7o1YfhczkKR"
      },
      "source": [
        "### 1. Структура np.ndarray\n",
        "\n",
        "*Разбор данного раздела:* https://youtu.be/g1Wa_1iKRPY?t=480"
      ]
    },
    {
      "cell_type": "markdown",
      "metadata": {
        "id": "eyKMt5dhkmvU"
      },
      "source": [
        "\n",
        "\n",
        "np.ndarray - это массив, содержащий элементы **одного типа**. \n",
        "\n",
        "Давайте посмотрим, что это значит:"
      ]
    },
    {
      "cell_type": "code",
      "metadata": {
        "id": "OsyJKygIzkKY",
        "colab": {
          "base_uri": "https://localhost:8080/",
          "height": 51
        },
        "outputId": "4946235c-c682-4768-ada5-aabdd082cdcd"
      },
      "source": [
        "my_list1 = [2, 4, 5] # Создаем переменную my_list1 и записываем в нее список из трех значений\n",
        "print (my_list1) # Выводим на экран созданный список\n",
        "print (type(my_list1)) # Выводим на экран тип переменной my_list1"
      ],
      "execution_count": null,
      "outputs": [
        {
          "output_type": "stream",
          "text": [
            "[2, 4, 5]\n",
            "<class 'list'>\n"
          ],
          "name": "stdout"
        }
      ]
    },
    {
      "cell_type": "code",
      "metadata": {
        "id": "c_0_L0AczkK3",
        "colab": {
          "base_uri": "https://localhost:8080/",
          "height": 68
        },
        "outputId": "9694025f-a777-41e7-ef81-5addbe9752fc"
      },
      "source": [
        "my_numpy1 = np.array(my_list1) # Создаем numpy-массив из списка my_list1\n",
        "print(my_numpy1) # Выводим на экран созданный numpy-массив\n",
        "print(type(my_numpy1)) # Выводим на экран тип переменной my_numpy1\n",
        "print(my_numpy1.dtype) # Выводим на экран тип элементов массива my_numpy1"
      ],
      "execution_count": null,
      "outputs": [
        {
          "output_type": "stream",
          "text": [
            "[2 4 5]\n",
            "<class 'numpy.ndarray'>\n",
            "int64\n"
          ],
          "name": "stdout"
        }
      ]
    },
    {
      "cell_type": "code",
      "metadata": {
        "id": "hm9M-T93zkLT",
        "colab": {
          "base_uri": "https://localhost:8080/",
          "height": 34
        },
        "outputId": "c1d9af6c-9972-4fd1-e5dd-a5fe79841b22"
      },
      "source": [
        "my_list2 = [2, 3.14] # Создаем переменную my_list_float и записываем в нее список из двух значений (типа int и типа float)\n",
        "my_numpy2 = np.array(my_list2) #  Создаем numpy-массив из списка my_list2\n",
        "print(my_numpy2.dtype)  # Выводим на экран тип элементов массива my_numpy2"
      ],
      "execution_count": null,
      "outputs": [
        {
          "output_type": "stream",
          "text": [
            "float64\n"
          ],
          "name": "stdout"
        }
      ]
    },
    {
      "cell_type": "code",
      "metadata": {
        "id": "WoVA6pMWL6mF",
        "colab": {
          "base_uri": "https://localhost:8080/",
          "height": 51
        },
        "outputId": "def3906a-901e-41f0-cbb3-5900b42cce83"
      },
      "source": [
        "print(my_list2) # Выводим на экран созданный список my_list2\n",
        "print(my_numpy2) # Выводим на экран созданный массив my_numpy2"
      ],
      "execution_count": null,
      "outputs": [
        {
          "output_type": "stream",
          "text": [
            "[2, 3.14]\n",
            "[2.   3.14]\n"
          ],
          "name": "stdout"
        }
      ]
    },
    {
      "cell_type": "code",
      "metadata": {
        "id": "lT40BgvRzkLw",
        "colab": {
          "base_uri": "https://localhost:8080/",
          "height": 68
        },
        "outputId": "88cade0d-8cff-4034-db3f-7dcb674ff6d1"
      },
      "source": [
        "my_list3 = [2, 3.14, 'text data'] # Создаем переменную my_list2 и записываем в нее список из трех значений (типа int, типа float и типа str)\n",
        "my_numpy3 = np.array(my_list3) # Создаем numpy-массив из списка my_list3\n",
        "print(my_list3) # Выводим на экран созданный список my_list3\n",
        "print(my_numpy3) # Выводим на экран созданный массив my_numpy3\n",
        "print(my_numpy3.dtype) # Выводим на экран тип элементов массва my_numpy3"
      ],
      "execution_count": null,
      "outputs": [
        {
          "output_type": "stream",
          "text": [
            "[2, 3.14, 'text data']\n",
            "['2' '3.14' 'text data']\n",
            "<U32\n"
          ],
          "name": "stdout"
        }
      ]
    },
    {
      "cell_type": "code",
      "metadata": {
        "id": "78Bj6ZqwzkMM",
        "colab": {
          "base_uri": "https://localhost:8080/",
          "height": 34
        },
        "outputId": "ce240ee2-a228-478e-cb13-276e3fec5d31"
      },
      "source": [
        "my_list4 = [2, 3.14, 'text data', [2,3,4]] # Создаем переменную my_list4 и записываем в нее список из четырех значений (типа int, типа float, типа str  и список)\n",
        "print(my_list4) # Выводим на экран созданный список my_list4"
      ],
      "execution_count": null,
      "outputs": [
        {
          "output_type": "stream",
          "text": [
            "[2, 3.14, 'text data', [2, 3, 4]]\n"
          ],
          "name": "stdout"
        }
      ]
    },
    {
      "cell_type": "code",
      "metadata": {
        "id": "t06Ka9lwQl4I",
        "colab": {
          "base_uri": "https://localhost:8080/",
          "height": 51
        },
        "outputId": "1e6eab59-5b0f-4217-c11c-2f99dc5b79aa"
      },
      "source": [
        "my_numpy4 = np.array(my_list4) # Создаем numpy-массив из списка my_list3\n",
        "print(my_numpy4) # Выводим на экран созданный массив my_numpy4\n",
        "print(my_numpy4.dtype) # Выводим на экран тип элементов массива my_numpy4"
      ],
      "execution_count": null,
      "outputs": [
        {
          "output_type": "stream",
          "text": [
            "[2 3.14 'text data' list([2, 3, 4])]\n",
            "object\n"
          ],
          "name": "stdout"
        }
      ]
    },
    {
      "cell_type": "code",
      "metadata": {
        "id": "Lfm8dLdNzkMw",
        "colab": {
          "base_uri": "https://localhost:8080/",
          "height": 51
        },
        "outputId": "c6648fb4-1da0-4b2b-8d17-74f28c6a0dbd"
      },
      "source": [
        "my_numpy5 = np.array([2, 3.14, 'text data', [2, 4, 5]], dtype='object') # Создаем numpy-массив из списка и указываем тип элементов - 'object'\n",
        "print(my_numpy5) # Выводим на экран созданный массив my_numpy5\n",
        "print(my_numpy5.dtype) # Выводим на экран тип элементов массива my_numpy5"
      ],
      "execution_count": null,
      "outputs": [
        {
          "output_type": "stream",
          "text": [
            "[2 3.14 'text data' list([2, 4, 5])]\n",
            "object\n"
          ],
          "name": "stdout"
        }
      ]
    },
    {
      "cell_type": "code",
      "metadata": {
        "id": "qBpkCfn5NYBG",
        "colab": {
          "base_uri": "https://localhost:8080/",
          "height": 163
        },
        "outputId": "d17b5b29-9a10-41f9-e970-85eb00466b58"
      },
      "source": [
        "my_numpy6 = np.array([2, 3.14, 'text data', [2, 4, 5]], dtype='int64') # Создаем numpy-массив из списка и указываем тип элементов - 'int'"
      ],
      "execution_count": null,
      "outputs": [
        {
          "output_type": "error",
          "ename": "ValueError",
          "evalue": "ignored",
          "traceback": [
            "\u001b[0;31m---------------------------------------------------------------------------\u001b[0m",
            "\u001b[0;31mValueError\u001b[0m                                Traceback (most recent call last)",
            "\u001b[0;32m<ipython-input-10-1a2ea646e2c3>\u001b[0m in \u001b[0;36m<module>\u001b[0;34m()\u001b[0m\n\u001b[0;32m----> 1\u001b[0;31m \u001b[0mmy_numpy6\u001b[0m \u001b[0;34m=\u001b[0m \u001b[0mnp\u001b[0m\u001b[0;34m.\u001b[0m\u001b[0marray\u001b[0m\u001b[0;34m(\u001b[0m\u001b[0;34m[\u001b[0m\u001b[0;36m2\u001b[0m\u001b[0;34m,\u001b[0m \u001b[0;36m3.14\u001b[0m\u001b[0;34m,\u001b[0m \u001b[0;34m'text data'\u001b[0m\u001b[0;34m,\u001b[0m \u001b[0;34m[\u001b[0m\u001b[0;36m2\u001b[0m\u001b[0;34m,\u001b[0m \u001b[0;36m4\u001b[0m\u001b[0;34m,\u001b[0m \u001b[0;36m5\u001b[0m\u001b[0;34m]\u001b[0m\u001b[0;34m]\u001b[0m\u001b[0;34m,\u001b[0m \u001b[0mdtype\u001b[0m\u001b[0;34m=\u001b[0m\u001b[0;34m'int64'\u001b[0m\u001b[0;34m)\u001b[0m \u001b[0;31m# Создаем numpy-массив из списка и указываем тип элементов - 'int'\u001b[0m\u001b[0;34m\u001b[0m\u001b[0;34m\u001b[0m\u001b[0m\n\u001b[0m",
            "\u001b[0;31mValueError\u001b[0m: invalid literal for int() with base 10: 'text data'"
          ]
        }
      ]
    },
    {
      "cell_type": "code",
      "metadata": {
        "id": "jVxfyT48OXvm",
        "colab": {
          "base_uri": "https://localhost:8080/",
          "height": 51
        },
        "outputId": "39ec0c30-24a3-4222-9477-92b41fb079a9"
      },
      "source": [
        "my_numpy7 = np.array([2, 3.14], dtype='int64') # Создаем numpy-массив из списка и указываем тип элементов - 'int'\n",
        "print(my_numpy7) # Выводим на экран созданный массив my_numpy5\n",
        "print(my_numpy7.dtype) # Выводим на экран тип элементов массива my_numpy5"
      ],
      "execution_count": null,
      "outputs": [
        {
          "output_type": "stream",
          "text": [
            "[2 3]\n",
            "int64\n"
          ],
          "name": "stdout"
        }
      ]
    },
    {
      "cell_type": "markdown",
      "metadata": {
        "id": "925upZABzkNS"
      },
      "source": [
        "### 2. Типы данных\n",
        "\n",
        "*Разбор данного раздела:* https://youtu.be/g1Wa_1iKRPY?t=1306"
      ]
    },
    {
      "cell_type": "markdown",
      "metadata": {
        "id": "ErHSzDspkosS"
      },
      "source": [
        "В NumPy реализованы свои типы данных, которые отличаются от встроенных в Python.\n",
        "\n",
        "Подробнее о типах: https://docs.scipy.org/doc/numpy/user/basics.types.html\n",
        "\n",
        "Например, встроенный тип int ничем не ограничен (кроме вашей памяти). Целые числа в numpy имеют фиксированный размер: np.int8, np.int16...\n",
        "\n",
        "Другое различие кроется во встроенных методах:"
      ]
    },
    {
      "cell_type": "code",
      "metadata": {
        "id": "rczIuSjjzkNY"
      },
      "source": [
        "value = -167 # Создаем переменную value и записываем в нее значение\n",
        "numpy_value = np.uint8(value) # Преобразуем переменную value к типу np.uint8"
      ],
      "execution_count": null,
      "outputs": []
    },
    {
      "cell_type": "code",
      "metadata": {
        "id": "9Ym3FrLBzkNu",
        "colab": {
          "base_uri": "https://localhost:8080/",
          "height": 34
        },
        "outputId": "40e9b210-f491-40ae-e5e8-e8c71fd4a13a"
      },
      "source": [
        "print(value) # Выводим на экран значение переменной value"
      ],
      "execution_count": null,
      "outputs": [
        {
          "output_type": "stream",
          "text": [
            "-167\n"
          ],
          "name": "stdout"
        }
      ]
    },
    {
      "cell_type": "code",
      "metadata": {
        "id": "XnAAetu0zkPW",
        "colab": {
          "base_uri": "https://localhost:8080/",
          "height": 34
        },
        "outputId": "a88179b4-0343-42fc-b0eb-cf0f270c195b"
      },
      "source": [
        "print(numpy_value) # Выводим на экран значение переменной numpy_value"
      ],
      "execution_count": null,
      "outputs": [
        {
          "output_type": "stream",
          "text": [
            "89\n"
          ],
          "name": "stdout"
        }
      ]
    },
    {
      "cell_type": "code",
      "metadata": {
        "id": "d3WSRnDpzkQh",
        "colab": {
          "base_uri": "https://localhost:8080/",
          "height": 34
        },
        "outputId": "395f97d5-693d-4802-f4c5-1ef164d3c9bd"
      },
      "source": [
        "print(type(value)) # Выводим на экран тип переменной value"
      ],
      "execution_count": null,
      "outputs": [
        {
          "output_type": "stream",
          "text": [
            "<class 'int'>\n"
          ],
          "name": "stdout"
        }
      ]
    },
    {
      "cell_type": "code",
      "metadata": {
        "id": "Noboyp83zkRc",
        "colab": {
          "base_uri": "https://localhost:8080/",
          "height": 34
        },
        "outputId": "4837dc40-c108-4478-ef1a-0cb01c0376a6"
      },
      "source": [
        "print(type(numpy_value)) # Выводим на экран тип переменной numpy_value"
      ],
      "execution_count": null,
      "outputs": [
        {
          "output_type": "stream",
          "text": [
            "<class 'numpy.uint8'>\n"
          ],
          "name": "stdout"
        }
      ]
    },
    {
      "cell_type": "markdown",
      "metadata": {
        "id": "LrLBflWAzkTd"
      },
      "source": [
        "### 3. Одномерные массивы"
      ]
    },
    {
      "cell_type": "markdown",
      "metadata": {
        "id": "wPpt1J0hzkTq"
      },
      "source": [
        "#### Одномерные numpy массивы\n",
        "\n",
        "*Разбор данного раздела:* https://youtu.be/g1Wa_1iKRPY?t=1691\n"
      ]
    },
    {
      "cell_type": "code",
      "metadata": {
        "id": "V41MALm5zkT9"
      },
      "source": [
        "numpy_digital = np.array([1, 2, 3, 4, 5]) # Создаем numpy-массив из списка цифр"
      ],
      "execution_count": null,
      "outputs": []
    },
    {
      "cell_type": "code",
      "metadata": {
        "id": "pHidHr6bzkUw"
      },
      "source": [
        "numpy_str = np.array(['cat', 'mouse', 'dog', 'rat']) # Создаем numpy-массив из списка слов "
      ],
      "execution_count": null,
      "outputs": []
    },
    {
      "cell_type": "code",
      "metadata": {
        "id": "VMll2qtYzkVB",
        "colab": {
          "base_uri": "https://localhost:8080/",
          "height": 34
        },
        "outputId": "9f21be1a-9c7d-4ad0-dc38-654092c57567"
      },
      "source": [
        "print(numpy_digital.dtype) # Выводим на экран тип элементов массива numpy_digital"
      ],
      "execution_count": null,
      "outputs": [
        {
          "output_type": "stream",
          "text": [
            "int64\n"
          ],
          "name": "stdout"
        }
      ]
    },
    {
      "cell_type": "code",
      "metadata": {
        "id": "ANIFml-azkVh",
        "colab": {
          "base_uri": "https://localhost:8080/",
          "height": 34
        },
        "outputId": "487e5e8d-886b-4c0f-d80a-e0d9d340deb6"
      },
      "source": [
        "print(numpy_str.dtype) # Выводим на экран тип элементов массива numpy_str"
      ],
      "execution_count": null,
      "outputs": [
        {
          "output_type": "stream",
          "text": [
            "<U5\n"
          ],
          "name": "stdout"
        }
      ]
    },
    {
      "cell_type": "code",
      "metadata": {
        "id": "675X1EPPzkV8",
        "colab": {
          "base_uri": "https://localhost:8080/",
          "height": 34
        },
        "outputId": "4d31f6ba-215a-4a4e-8eb9-1d932dbd55ae"
      },
      "source": [
        "print(numpy_digital.shape) # Выводим на экран размерность массива numpy_digital"
      ],
      "execution_count": null,
      "outputs": [
        {
          "output_type": "stream",
          "text": [
            "(5,)\n"
          ],
          "name": "stdout"
        }
      ]
    },
    {
      "cell_type": "code",
      "metadata": {
        "id": "VoT8RQ0lPXKF",
        "colab": {
          "base_uri": "https://localhost:8080/",
          "height": 34
        },
        "outputId": "98ce1d79-a068-4e7e-9265-c3f0328a99a2"
      },
      "source": [
        "print(numpy_str.shape) # Выводим на экран размерность массива numpy_str"
      ],
      "execution_count": null,
      "outputs": [
        {
          "output_type": "stream",
          "text": [
            "(4,)\n"
          ],
          "name": "stdout"
        }
      ]
    },
    {
      "cell_type": "code",
      "metadata": {
        "id": "IjtJVWhwzkWv",
        "colab": {
          "base_uri": "https://localhost:8080/",
          "height": 34
        },
        "outputId": "4b2f000a-5711-4115-d834-d00229724313"
      },
      "source": [
        "print(numpy_digital.size) # Выводим на экран количество элементов массива numpy_digital"
      ],
      "execution_count": null,
      "outputs": [
        {
          "output_type": "stream",
          "text": [
            "5\n"
          ],
          "name": "stdout"
        }
      ]
    },
    {
      "cell_type": "code",
      "metadata": {
        "id": "fHXfcBrrzkXb",
        "colab": {
          "base_uri": "https://localhost:8080/",
          "height": 51
        },
        "outputId": "4d3e3732-447b-4d0c-dd2f-d0517b868fd1"
      },
      "source": [
        "numpy_digital2 = np.array([1, 2, 3, 4, 5, 6]) # Создаем numpy-массив из списка цифр\n",
        "print(numpy_digital2) # Выводим на экран массив numpy_digital\n",
        "print(numpy_digital2.shape) # Выводим на экран размерность массива numpy_digital"
      ],
      "execution_count": null,
      "outputs": [
        {
          "output_type": "stream",
          "text": [
            "[1 2 3 4 5 6]\n",
            "(6,)\n"
          ],
          "name": "stdout"
        }
      ]
    },
    {
      "cell_type": "code",
      "metadata": {
        "id": "82WeJ5kwzkYY",
        "colab": {
          "base_uri": "https://localhost:8080/",
          "height": 102
        },
        "outputId": "98dbe4f7-c5ee-40d8-acd6-555f4150eb43"
      },
      "source": [
        "numpy_new = numpy_digital2.reshape((3, 2)) # Изменяем размерность массива numpy_digital2 из (6,) -> (3, 2)\n",
        "print(numpy_new) # Выводим на экран массив numpy_new\n",
        "print(numpy_new.shape) # Выводим на экран размерность массива numpy_new\n",
        "print(numpy_new.size) # Выводим на экран количество элементов массива numpy_new"
      ],
      "execution_count": null,
      "outputs": [
        {
          "output_type": "stream",
          "text": [
            "[[1 2]\n",
            " [3 4]\n",
            " [5 6]]\n",
            "(3, 2)\n",
            "6\n"
          ],
          "name": "stdout"
        }
      ]
    },
    {
      "cell_type": "code",
      "metadata": {
        "id": "bQ7LjBX4P2Yl",
        "colab": {
          "base_uri": "https://localhost:8080/",
          "height": 85
        },
        "outputId": "851f108f-a8b2-4047-9e7a-83fc0159a9fd"
      },
      "source": [
        "numpy_new2 = numpy_digital2.reshape((2, 3)) # Изменяем размерность массива numpy_digital2 из (6,) -> (2, 3)\n",
        "print(numpy_new2) # Выводим на экран массив numpy_new2\n",
        "print(numpy_new2.shape) # Выводим на экран размерность массива numpy_new2\n",
        "print(numpy_new2.size) # Выводим на экран количество элементов массива numpy_new2"
      ],
      "execution_count": null,
      "outputs": [
        {
          "output_type": "stream",
          "text": [
            "[[1 2 3]\n",
            " [4 5 6]]\n",
            "(2, 3)\n",
            "6\n"
          ],
          "name": "stdout"
        }
      ]
    },
    {
      "cell_type": "code",
      "metadata": {
        "id": "igGGkBAoQA9q",
        "colab": {
          "base_uri": "https://localhost:8080/",
          "height": 68
        },
        "outputId": "c736c1ff-75d0-4162-e0c7-e43fa4a19643"
      },
      "source": [
        "numpy_new3 = numpy_digital2.reshape((1, 6)) # Изменяем размерность массива numpy_digital2 из (6,) -> (1, 6)\n",
        "print(numpy_new3) # Выводим на экран массив numpy_new3\n",
        "print(numpy_new3.shape) # Выводим на экран размерность массива numpy_new3\n",
        "print(numpy_new3.size) # Выводим на экран количество элементов массива numpy_new3"
      ],
      "execution_count": null,
      "outputs": [
        {
          "output_type": "stream",
          "text": [
            "[[1 2 3 4 5 6]]\n",
            "(1, 6)\n",
            "6\n"
          ],
          "name": "stdout"
        }
      ]
    },
    {
      "cell_type": "code",
      "metadata": {
        "id": "Ye8UKfqfQDMs",
        "colab": {
          "base_uri": "https://localhost:8080/",
          "height": 68
        },
        "outputId": "937e08c2-6c89-4577-a676-d25fc7c0ba52"
      },
      "source": [
        "print(numpy_digital2) # Выводим на экран массив numpy_new\n",
        "print(numpy_digital2.shape) # Выводим на экран размерность массива numpy_new\n",
        "print(numpy_digital2.size) # Выводим на экран количество элементов массива numpy_new"
      ],
      "execution_count": null,
      "outputs": [
        {
          "output_type": "stream",
          "text": [
            "[1 2 3 4 5 6]\n",
            "(6,)\n",
            "6\n"
          ],
          "name": "stdout"
        }
      ]
    },
    {
      "cell_type": "code",
      "metadata": {
        "id": "lJa5jICiYppC",
        "colab": {
          "base_uri": "https://localhost:8080/",
          "height": 51
        },
        "outputId": "1bc5984c-f4bc-4c49-f072-b80e5bff870f"
      },
      "source": [
        "print(numpy_digital) # Выводим на экран массив numpy_new\n",
        "print(numpy_digital.shape) # Выводим на экран размерность массива numpy_digital"
      ],
      "execution_count": null,
      "outputs": [
        {
          "output_type": "stream",
          "text": [
            "[1 2 3 4 5]\n",
            "(5,)\n"
          ],
          "name": "stdout"
        }
      ]
    },
    {
      "cell_type": "code",
      "metadata": {
        "id": "JYT39VhYRKR7",
        "colab": {
          "base_uri": "https://localhost:8080/",
          "height": 163
        },
        "outputId": "0bf2843b-ac86-49d2-ace9-9bad06228fd9"
      },
      "source": [
        "numpy_new4 = numpy_digital.reshape((2, 3)) # Изменяем размерность массива numpy_digital из (5,) -> (2, 3)"
      ],
      "execution_count": null,
      "outputs": [
        {
          "output_type": "error",
          "ename": "ValueError",
          "evalue": "ignored",
          "traceback": [
            "\u001b[0;31m---------------------------------------------------------------------------\u001b[0m",
            "\u001b[0;31mValueError\u001b[0m                                Traceback (most recent call last)",
            "\u001b[0;32m<ipython-input-33-61ef1ae1b692>\u001b[0m in \u001b[0;36m<module>\u001b[0;34m()\u001b[0m\n\u001b[0;32m----> 1\u001b[0;31m \u001b[0mnumpy_new4\u001b[0m \u001b[0;34m=\u001b[0m \u001b[0mnumpy_digital\u001b[0m\u001b[0;34m.\u001b[0m\u001b[0mreshape\u001b[0m\u001b[0;34m(\u001b[0m\u001b[0;34m(\u001b[0m\u001b[0;36m2\u001b[0m\u001b[0;34m,\u001b[0m \u001b[0;36m3\u001b[0m\u001b[0;34m)\u001b[0m\u001b[0;34m)\u001b[0m \u001b[0;31m# Изменяем размерность массива numpy_digital из (5,) -> (2, 3)\u001b[0m\u001b[0;34m\u001b[0m\u001b[0;34m\u001b[0m\u001b[0m\n\u001b[0m",
            "\u001b[0;31mValueError\u001b[0m: cannot reshape array of size 5 into shape (2,3)"
          ]
        }
      ]
    },
    {
      "cell_type": "markdown",
      "metadata": {
        "id": "NFth5t1IzkZU"
      },
      "source": [
        "#### Индексация\n",
        "\n",
        "*Разбор данного раздела:* https://youtu.be/g1Wa_1iKRPY?t=2363\n"
      ]
    },
    {
      "cell_type": "code",
      "metadata": {
        "id": "ZUGqIMCjzkZY",
        "colab": {
          "base_uri": "https://localhost:8080/",
          "height": 34
        },
        "outputId": "cef4514d-88ba-46bc-db15-5cf734d9e553"
      },
      "source": [
        "numpy_new5 = np.array([102,123,33,54,25,136]) # Создаем numpy-массив из списка цифр\n",
        "print(numpy_new5) # Выводим на экран массив numpy_new5"
      ],
      "execution_count": null,
      "outputs": [
        {
          "output_type": "stream",
          "text": [
            "[102 123  33  54  25 136]\n"
          ],
          "name": "stdout"
        }
      ]
    },
    {
      "cell_type": "code",
      "metadata": {
        "id": "wvTCNtY3zkat",
        "colab": {
          "base_uri": "https://localhost:8080/",
          "height": 34
        },
        "outputId": "a9351883-cc9d-42a3-a8da-ba6e87062f34"
      },
      "source": [
        "print(numpy_new5[0]) # Выводим на экран нулевой элемент массива numpy_new5"
      ],
      "execution_count": null,
      "outputs": [
        {
          "output_type": "stream",
          "text": [
            "102\n"
          ],
          "name": "stdout"
        }
      ]
    },
    {
      "cell_type": "code",
      "metadata": {
        "id": "PwCpYv_rzkbq",
        "colab": {
          "base_uri": "https://localhost:8080/",
          "height": 34
        },
        "outputId": "1393649d-4931-4fa9-d035-ef8fc9fb2669"
      },
      "source": [
        "print(numpy_new5[1]) # Выводим на экран первый элемент массива numpy_new5"
      ],
      "execution_count": null,
      "outputs": [
        {
          "output_type": "stream",
          "text": [
            "123\n"
          ],
          "name": "stdout"
        }
      ]
    },
    {
      "cell_type": "code",
      "metadata": {
        "id": "v4Kk-4_3zkcR",
        "colab": {
          "base_uri": "https://localhost:8080/",
          "height": 34
        },
        "outputId": "85c35ec4-3ed5-49c9-acf4-56fd9ae10ed2"
      },
      "source": [
        "print(numpy_new5[-1]) # Выводим на экран последний (минус первый) элемент массива numpy_new5"
      ],
      "execution_count": null,
      "outputs": [
        {
          "output_type": "stream",
          "text": [
            "136\n"
          ],
          "name": "stdout"
        }
      ]
    },
    {
      "cell_type": "code",
      "metadata": {
        "id": "MM2QzoDzzkdJ",
        "colab": {
          "base_uri": "https://localhost:8080/",
          "height": 34
        },
        "outputId": "ec288198-5304-4f0f-8d66-6985cdbef2dd"
      },
      "source": [
        "print(numpy_new5[:]) # Выводим на экран все элементы массива numpy_new5"
      ],
      "execution_count": null,
      "outputs": [
        {
          "output_type": "stream",
          "text": [
            "[102 123  33  54  25 136]\n"
          ],
          "name": "stdout"
        }
      ]
    },
    {
      "cell_type": "code",
      "metadata": {
        "id": "TN3eR6BdYjdg",
        "colab": {
          "base_uri": "https://localhost:8080/",
          "height": 34
        },
        "outputId": "dc41bb7d-8e8c-4c95-e5b7-eb031ff112d9"
      },
      "source": [
        "print(numpy_new5[1:]) # Выводим на экран все элементы массива numpy_new5, начиная с первого"
      ],
      "execution_count": null,
      "outputs": [
        {
          "output_type": "stream",
          "text": [
            "[123  33  54  25 136]\n"
          ],
          "name": "stdout"
        }
      ]
    },
    {
      "cell_type": "code",
      "metadata": {
        "id": "6XmBq7kmYq9l",
        "colab": {
          "base_uri": "https://localhost:8080/",
          "height": 34
        },
        "outputId": "17ae2013-0cee-48fd-e0f0-6d5b517797e2"
      },
      "source": [
        "print(numpy_new5[:3]) # Выводим на экран с нулевого по третий элементы массива numpy_new5"
      ],
      "execution_count": null,
      "outputs": [
        {
          "output_type": "stream",
          "text": [
            "[102 123  33]\n"
          ],
          "name": "stdout"
        }
      ]
    },
    {
      "cell_type": "code",
      "metadata": {
        "id": "2cjQ4ZhEY_69",
        "colab": {
          "base_uri": "https://localhost:8080/",
          "height": 34
        },
        "outputId": "049c98a4-9d72-4b47-e221-aec004614876"
      },
      "source": [
        "print(numpy_new5[-2:]) # Выводим на экран все элементы массива numpy_new5, начиная с предпоследнего"
      ],
      "execution_count": null,
      "outputs": [
        {
          "output_type": "stream",
          "text": [
            "[ 25 136]\n"
          ],
          "name": "stdout"
        }
      ]
    },
    {
      "cell_type": "code",
      "metadata": {
        "id": "FFpnr4Igzkd4",
        "colab": {
          "base_uri": "https://localhost:8080/",
          "height": 34
        },
        "outputId": "3b5171bf-1ed3-4abb-90af-1642530c6e96"
      },
      "source": [
        "print(numpy_new5[1:4]) # Выводим на экран с первого по четвертый элемент массива numpy_new5"
      ],
      "execution_count": null,
      "outputs": [
        {
          "output_type": "stream",
          "text": [
            "[123  33  54]\n"
          ],
          "name": "stdout"
        }
      ]
    },
    {
      "cell_type": "code",
      "metadata": {
        "id": "CJWaNQCjv1ws",
        "colab": {
          "base_uri": "https://localhost:8080/",
          "height": 34
        },
        "outputId": "98748aea-44c9-413d-db6e-4b5d7c3fb981"
      },
      "source": [
        "print(numpy_new5 > 55) # Выводим маску массива numpy_new5 для условия: значение элемента больше 55"
      ],
      "execution_count": null,
      "outputs": [
        {
          "output_type": "stream",
          "text": [
            "[ True  True False False False  True]\n"
          ],
          "name": "stdout"
        }
      ]
    },
    {
      "cell_type": "code",
      "metadata": {
        "id": "qDAzKBhdzkea",
        "colab": {
          "base_uri": "https://localhost:8080/",
          "height": 34
        },
        "outputId": "f1cfd1c4-eb4b-405c-838d-8123e4f7e047"
      },
      "source": [
        "print(numpy_new5[(numpy_new5 > 25) & (numpy_new5 < 67)]) # Производим подвыборку элементов массива, значения которых больше 25 и меньше 67"
      ],
      "execution_count": null,
      "outputs": [
        {
          "output_type": "stream",
          "text": [
            "[33 54]\n"
          ],
          "name": "stdout"
        }
      ]
    },
    {
      "cell_type": "code",
      "metadata": {
        "id": "T-TlCpLaxFXl",
        "colab": {
          "base_uri": "https://localhost:8080/",
          "height": 51
        },
        "outputId": "882310f3-f210-4868-9d47-e479359286f0"
      },
      "source": [
        "arr1 = np.array([2, 3, 12]) # Создаем numpy-массива из списка\n",
        "arr2 = np.array([i for i in range(7)]) # Создаем numpy-массив с помощью генератора цикла\n",
        "\n",
        "print(arr1) # Выводим массив arr1\n",
        "print(arr2) # Выводим массив arr2"
      ],
      "execution_count": null,
      "outputs": [
        {
          "output_type": "stream",
          "text": [
            "[ 2  3 12]\n",
            "[0 1 2 3 4 5 6]\n"
          ],
          "name": "stdout"
        }
      ]
    },
    {
      "cell_type": "code",
      "metadata": {
        "id": "tjVL5tgVb-zt",
        "colab": {
          "base_uri": "https://localhost:8080/",
          "height": 34
        },
        "outputId": "8ece63af-dc50-4400-b72b-8e01041f7311"
      },
      "source": [
        "mask = np.array([(i in arr2) for i in arr1]) # Создаем маску для массива arr1 по наличию элемента в массиве arr2\n",
        "\n",
        "print(mask) # Выводим маску "
      ],
      "execution_count": null,
      "outputs": [
        {
          "output_type": "stream",
          "text": [
            "[ True  True False]\n"
          ],
          "name": "stdout"
        }
      ]
    },
    {
      "cell_type": "code",
      "metadata": {
        "id": "zgZme6FobrnD",
        "colab": {
          "base_uri": "https://localhost:8080/",
          "height": 34
        },
        "outputId": "0d776466-d462-4f21-9048-07a3c50ee1e8"
      },
      "source": [
        "arr1[mask]"
      ],
      "execution_count": null,
      "outputs": [
        {
          "output_type": "execute_result",
          "data": {
            "text/plain": [
              "array([2, 3])"
            ]
          },
          "metadata": {
            "tags": []
          },
          "execution_count": 47
        }
      ]
    },
    {
      "cell_type": "markdown",
      "metadata": {
        "id": "fkhgXy-3zkfF"
      },
      "source": [
        "#### Встроенные методы\n",
        "\n",
        "*Разбор данного раздела:* https://youtu.be/g1Wa_1iKRPY?t=3129\n"
      ]
    },
    {
      "cell_type": "markdown",
      "metadata": {
        "id": "gV742wB-zkfJ"
      },
      "source": [
        "чтобы увидеть все доступные методы, после точки нажмите \"Tab\""
      ]
    },
    {
      "cell_type": "code",
      "metadata": {
        "id": "QMGNr6JYzkfM",
        "colab": {
          "base_uri": "https://localhost:8080/",
          "height": 34
        },
        "outputId": "b9109d9e-5850-425c-8b97-49f1d9fa6333"
      },
      "source": [
        "numpy_array = np.array([1,2,3,4,5,6,7,8,9,10]) # Создаем numpy-массив из целых чисел\n",
        "print(numpy_array) # Выводим на экран массив numpu_array"
      ],
      "execution_count": null,
      "outputs": [
        {
          "output_type": "stream",
          "text": [
            "[ 1  2  3  4  5  6  7  8  9 10]\n"
          ],
          "name": "stdout"
        }
      ]
    },
    {
      "cell_type": "code",
      "metadata": {
        "id": "eH8LzxCNzkff",
        "colab": {
          "base_uri": "https://localhost:8080/",
          "height": 34
        },
        "outputId": "7b04ddef-42ab-4543-91f1-a5285363749c"
      },
      "source": [
        "print(numpy_array.sum()) # Выводим на экран сумму всех элементов массива numpy_array"
      ],
      "execution_count": null,
      "outputs": [
        {
          "output_type": "stream",
          "text": [
            "55\n"
          ],
          "name": "stdout"
        }
      ]
    },
    {
      "cell_type": "code",
      "metadata": {
        "id": "WauQX4-wzkgY",
        "colab": {
          "base_uri": "https://localhost:8080/",
          "height": 34
        },
        "outputId": "ebce5c83-7984-44bc-b61f-1033f6cd6b3e"
      },
      "source": [
        "print(numpy_array.mean()) # Выводим на экран среднее значение всех элементов массива numpy_array"
      ],
      "execution_count": null,
      "outputs": [
        {
          "output_type": "stream",
          "text": [
            "5.5\n"
          ],
          "name": "stdout"
        }
      ]
    },
    {
      "cell_type": "code",
      "metadata": {
        "id": "gV2WNNlczkgq",
        "colab": {
          "base_uri": "https://localhost:8080/",
          "height": 34
        },
        "outputId": "4ea5160c-38bf-4b4e-a596-2f6d39b9af73"
      },
      "source": [
        "print(numpy_array.max()) # Выводим на экран максимальный элемент массива numpy_array"
      ],
      "execution_count": null,
      "outputs": [
        {
          "output_type": "stream",
          "text": [
            "10\n"
          ],
          "name": "stdout"
        }
      ]
    },
    {
      "cell_type": "code",
      "metadata": {
        "id": "jAEE26SozkhO",
        "colab": {
          "base_uri": "https://localhost:8080/",
          "height": 34
        },
        "outputId": "bbfc1b4f-58f9-4c3d-e48d-208e08b9bd4b"
      },
      "source": [
        "print(numpy_array.min()) # Выводим на экран минимальный элемент массива numpy_array"
      ],
      "execution_count": null,
      "outputs": [
        {
          "output_type": "stream",
          "text": [
            "1\n"
          ],
          "name": "stdout"
        }
      ]
    },
    {
      "cell_type": "code",
      "metadata": {
        "id": "AwcpEyAXzkhc",
        "colab": {
          "base_uri": "https://localhost:8080/",
          "height": 34
        },
        "outputId": "b1327bf5-4de9-4450-9564-c06bb689e242"
      },
      "source": [
        "print(numpy_array.prod()) # Выводим на экран произведение всех элементов массива numpy_array"
      ],
      "execution_count": null,
      "outputs": [
        {
          "output_type": "stream",
          "text": [
            "3628800\n"
          ],
          "name": "stdout"
        }
      ]
    },
    {
      "cell_type": "code",
      "metadata": {
        "id": "RC_GCKINzkhr",
        "colab": {
          "base_uri": "https://localhost:8080/",
          "height": 34
        },
        "outputId": "98472e04-eb5a-4043-ca95-a26213bb589b"
      },
      "source": [
        "str_array = np.array(['Один', 'Два','Три','Четыре']) # Создаем numpy-массив из четырех строковых значений\n",
        "print(str_array) # Выводим на экран массив str_array"
      ],
      "execution_count": null,
      "outputs": [
        {
          "output_type": "stream",
          "text": [
            "['Один' 'Два' 'Три' 'Четыре']\n"
          ],
          "name": "stdout"
        }
      ]
    },
    {
      "cell_type": "code",
      "metadata": {
        "id": "DoVqk1yezkiD",
        "colab": {
          "base_uri": "https://localhost:8080/",
          "height": 34
        },
        "outputId": "e6d3f5de-4709-4918-ef3a-e1b5f7711b43"
      },
      "source": [
        "str_array.sort() # Сортируем массив str_array\n",
        "print(str_array) # Выводим на экран массив str_array"
      ],
      "execution_count": null,
      "outputs": [
        {
          "output_type": "stream",
          "text": [
            "['Два' 'Один' 'Три' 'Четыре']\n"
          ],
          "name": "stdout"
        }
      ]
    },
    {
      "cell_type": "code",
      "metadata": {
        "id": "nyRmGTc6eawB",
        "colab": {
          "base_uri": "https://localhost:8080/",
          "height": 34
        },
        "outputId": "449c5aaa-b140-49e3-bc53-b17d2979e34c"
      },
      "source": [
        "my_type = [('city', '<U32'), ('region', np.int32)] # Создадим список, где укажем тип данных будущего массива\n",
        "values = [('Москва', 99), ('Пенза', 58), ('Рязань', 62)] # Создадим список со значениями будущего массива\n",
        "regions = np.array(values, dtype=my_type) # Создаем numpy-массива из указанных значений и задаем тип данных для каждого столбца\n",
        "print(regions) # Выводим на экрам массив regions"
      ],
      "execution_count": null,
      "outputs": [
        {
          "output_type": "stream",
          "text": [
            "[('Москва', 99) ('Пенза', 58) ('Рязань', 62)]\n"
          ],
          "name": "stdout"
        }
      ]
    },
    {
      "cell_type": "code",
      "metadata": {
        "id": "b1aJOg8vf7XX",
        "colab": {
          "base_uri": "https://localhost:8080/",
          "height": 34
        },
        "outputId": "ceae172d-c77f-4579-d155-0ea778189b67"
      },
      "source": [
        "regions['city'] # Обращаемся к столбцу массива по заданному имени"
      ],
      "execution_count": null,
      "outputs": [
        {
          "output_type": "execute_result",
          "data": {
            "text/plain": [
              "array(['Москва', 'Пенза', 'Рязань'], dtype='<U32')"
            ]
          },
          "metadata": {
            "tags": []
          },
          "execution_count": 57
        }
      ]
    },
    {
      "cell_type": "code",
      "metadata": {
        "id": "SNBTWGS2zkid",
        "colab": {
          "base_uri": "https://localhost:8080/",
          "height": 51
        },
        "outputId": "13108340-17e7-4b56-8ac7-483226d98708"
      },
      "source": [
        "%%timeit\n",
        "numpy_array.sum() # Считаем сумму элементов массива numpy_array и смотрим на время выполнения операции с помощью магической команды timeit"
      ],
      "execution_count": null,
      "outputs": [
        {
          "output_type": "stream",
          "text": [
            "The slowest run took 31.62 times longer than the fastest. This could mean that an intermediate result is being cached.\n",
            "100000 loops, best of 3: 2.11 µs per loop\n"
          ],
          "name": "stdout"
        }
      ]
    },
    {
      "cell_type": "code",
      "metadata": {
        "id": "P5WZP8rmzkiv",
        "colab": {
          "base_uri": "https://localhost:8080/",
          "height": 51
        },
        "outputId": "423ddc61-b469-48ed-c497-b9a148c839d3"
      },
      "source": [
        "%%timeit\n",
        "numpy_array.mean() # Считаем среднее значение элементов массива numpy_array и смотрим на время выполнения операции с помощью магической команды timeit"
      ],
      "execution_count": null,
      "outputs": [
        {
          "output_type": "stream",
          "text": [
            "The slowest run took 24.64 times longer than the fastest. This could mean that an intermediate result is being cached.\n",
            "100000 loops, best of 3: 5.58 µs per loop\n"
          ],
          "name": "stdout"
        }
      ]
    },
    {
      "cell_type": "code",
      "metadata": {
        "id": "BRZkRD8kzkjK",
        "colab": {
          "base_uri": "https://localhost:8080/",
          "height": 51
        },
        "outputId": "3877efb2-1c7f-4aa8-b4b0-3279d812c517"
      },
      "source": [
        "%%timeit\n",
        "numpy_array.sum()\n",
        "numpy_array.mean()"
      ],
      "execution_count": null,
      "outputs": [
        {
          "output_type": "stream",
          "text": [
            "The slowest run took 19.51 times longer than the fastest. This could mean that an intermediate result is being cached.\n",
            "100000 loops, best of 3: 7.94 µs per loop\n"
          ],
          "name": "stdout"
        }
      ]
    },
    {
      "cell_type": "code",
      "metadata": {
        "id": "mvwPh0YjzkjW"
      },
      "source": [
        "# Задаем параметры \n",
        "## n - кол-во циклов повторений\n",
        "## r - кол-во повторений в одном цикле"
      ],
      "execution_count": null,
      "outputs": []
    },
    {
      "cell_type": "code",
      "metadata": {
        "id": "fpol-WcAzkjg",
        "colab": {
          "base_uri": "https://localhost:8080/",
          "height": 51
        },
        "outputId": "aaac2eb1-a269-4ca1-d19a-746d929ab0f2"
      },
      "source": [
        "%%timeit -n 5 -r 10\n",
        "numpy_array.sum()"
      ],
      "execution_count": null,
      "outputs": [
        {
          "output_type": "stream",
          "text": [
            "The slowest run took 4.06 times longer than the fastest. This could mean that an intermediate result is being cached.\n",
            "5 loops, best of 10: 3.57 µs per loop\n"
          ],
          "name": "stdout"
        }
      ]
    },
    {
      "cell_type": "markdown",
      "metadata": {
        "id": "aeggEjNhzkj5"
      },
      "source": [
        "#### Операции с массивами\n",
        "\n",
        "*Разбор данного раздела:* https://youtu.be/g1Wa_1iKRPY?t=3653\n"
      ]
    },
    {
      "cell_type": "code",
      "metadata": {
        "id": "KTfz6S9KzkkC",
        "colab": {
          "base_uri": "https://localhost:8080/",
          "height": 34
        },
        "outputId": "937f0498-e9a4-46e3-a6b0-4007ff4fffe9"
      },
      "source": [
        "numpy_10 = np.arange(5) # Создаем numpy-массив из последовательности элементов от 0 до 4 (5 не включается)\n",
        "print(numpy_10) # Выводим на экран массив numpy_10"
      ],
      "execution_count": null,
      "outputs": [
        {
          "output_type": "stream",
          "text": [
            "[0 1 2 3 4]\n"
          ],
          "name": "stdout"
        }
      ]
    },
    {
      "cell_type": "code",
      "metadata": {
        "id": "l5UOE6JrzkkU",
        "colab": {
          "base_uri": "https://localhost:8080/",
          "height": 34
        },
        "outputId": "0c906be6-9232-4edd-ed91-afb6e66443c7"
      },
      "source": [
        "numpy_11 = np.arange(3, 6) # Создаем numpy-массив из последовательности элементов от 3 до 5 (6 не включается)\n",
        "print(numpy_11) # Выводим на экран массив numpy_11"
      ],
      "execution_count": null,
      "outputs": [
        {
          "output_type": "stream",
          "text": [
            "[3 4 5]\n"
          ],
          "name": "stdout"
        }
      ]
    },
    {
      "cell_type": "code",
      "metadata": {
        "id": "4bNYF87Qzkkh",
        "colab": {
          "base_uri": "https://localhost:8080/",
          "height": 34
        },
        "outputId": "7d8f20a2-2110-40a5-efe5-9b71a4fcddae"
      },
      "source": [
        "numpy_12 = np.arange(3, 16, 4) # Создаем numpy-массив из последовательности элементов от 3 до 15 с шагом 4\n",
        "print(numpy_12) # Выводим на экран массив numpy_12"
      ],
      "execution_count": null,
      "outputs": [
        {
          "output_type": "stream",
          "text": [
            "[ 3  7 11 15]\n"
          ],
          "name": "stdout"
        }
      ]
    },
    {
      "cell_type": "markdown",
      "metadata": {
        "id": "C9FKdEnrzklW"
      },
      "source": [
        "#### Векторные операции\n",
        "\n",
        "*Разбор данного раздела:* https://youtu.be/g1Wa_1iKRPY?t=3719\n"
      ]
    },
    {
      "cell_type": "code",
      "metadata": {
        "id": "gvl9s6jFzklY",
        "colab": {
          "base_uri": "https://localhost:8080/",
          "height": 51
        },
        "outputId": "adb7af98-c9b3-4171-b59e-ab408d1c6ffa"
      },
      "source": [
        "my_list1 = [0,1,2,3,4,5] # Создаем список из 5 элементов\n",
        "my_list2 = [6,7,8,9,10,11] # Создаем еще один список также из 5 элементов\n",
        "my_numpy1 = np.array(my_list1) # Создаем массив из списка my_list1\n",
        "my_numpy2 = np.array(my_list2) # Создаем массив из списка my_list2\n",
        "print(my_list1 + my_list2) # Выводим результат сложения двух списков\n",
        "print(my_numpy1 + my_numpy2) # Выводим результат сложения двух массивов"
      ],
      "execution_count": null,
      "outputs": [
        {
          "output_type": "stream",
          "text": [
            "[0, 1, 2, 3, 4, 5, 6, 7, 8, 9, 10, 11]\n",
            "[ 6  8 10 12 14 16]\n"
          ],
          "name": "stdout"
        }
      ]
    },
    {
      "cell_type": "code",
      "metadata": {
        "id": "KMfJmZZ3zklk",
        "colab": {
          "base_uri": "https://localhost:8080/",
          "height": 34
        },
        "outputId": "5b0d4545-1c9f-4f72-fca0-01b801229bd5"
      },
      "source": [
        "print(my_numpy1 - my_numpy2) # Выводим разность двух массивов"
      ],
      "execution_count": null,
      "outputs": [
        {
          "output_type": "stream",
          "text": [
            "[-6 -6 -6 -6 -6 -6]\n"
          ],
          "name": "stdout"
        }
      ]
    },
    {
      "cell_type": "code",
      "metadata": {
        "id": "RY70Vu3KOyBI",
        "colab": {
          "base_uri": "https://localhost:8080/",
          "height": 163
        },
        "outputId": "a40d2dd1-b8c2-48f2-81c4-300a5c383a9d"
      },
      "source": [
        "print(my_list1 - my_list2) # Выводим рвзность двух списков"
      ],
      "execution_count": null,
      "outputs": [
        {
          "output_type": "error",
          "ename": "TypeError",
          "evalue": "ignored",
          "traceback": [
            "\u001b[0;31m---------------------------------------------------------------------------\u001b[0m",
            "\u001b[0;31mTypeError\u001b[0m                                 Traceback (most recent call last)",
            "\u001b[0;32m<ipython-input-68-90b547f5c99f>\u001b[0m in \u001b[0;36m<module>\u001b[0;34m()\u001b[0m\n\u001b[0;32m----> 1\u001b[0;31m \u001b[0mprint\u001b[0m\u001b[0;34m(\u001b[0m\u001b[0mmy_list1\u001b[0m \u001b[0;34m-\u001b[0m \u001b[0mmy_list2\u001b[0m\u001b[0;34m)\u001b[0m \u001b[0;31m# Выводим рвзность двух списков\u001b[0m\u001b[0;34m\u001b[0m\u001b[0;34m\u001b[0m\u001b[0m\n\u001b[0m",
            "\u001b[0;31mTypeError\u001b[0m: unsupported operand type(s) for -: 'list' and 'list'"
          ]
        }
      ]
    },
    {
      "cell_type": "code",
      "metadata": {
        "id": "ti4rEgUizklw",
        "colab": {
          "base_uri": "https://localhost:8080/",
          "height": 34
        },
        "outputId": "19156da5-bb8b-44d9-f044-da7f16a0d480"
      },
      "source": [
        "print(my_numpy1 / my_numpy2) # Выводим частное двух массивов"
      ],
      "execution_count": null,
      "outputs": [
        {
          "output_type": "stream",
          "text": [
            "[0.         0.14285714 0.25       0.33333333 0.4        0.45454545]\n"
          ],
          "name": "stdout"
        }
      ]
    },
    {
      "cell_type": "code",
      "metadata": {
        "id": "Hj_cyy5BzkmA",
        "colab": {
          "base_uri": "https://localhost:8080/",
          "height": 68
        },
        "outputId": "6103c151-44b7-4b2f-bd14-ca9ab28b4606"
      },
      "source": [
        "# обратите внимание, что python нормально обработал деление на ноль\n",
        "## inf - infinite value, бесконочность\n",
        "print(my_numpy2 / my_numpy1) # Выводим частное двух массивов"
      ],
      "execution_count": null,
      "outputs": [
        {
          "output_type": "stream",
          "text": [
            "[inf 7.  4.  3.  2.5 2.2]\n"
          ],
          "name": "stdout"
        },
        {
          "output_type": "stream",
          "text": [
            "/usr/local/lib/python3.6/dist-packages/ipykernel_launcher.py:3: RuntimeWarning: divide by zero encountered in true_divide\n",
            "  This is separate from the ipykernel package so we can avoid doing imports until\n"
          ],
          "name": "stderr"
        }
      ]
    },
    {
      "cell_type": "code",
      "metadata": {
        "id": "CEcKqysHzkmK",
        "colab": {
          "base_uri": "https://localhost:8080/",
          "height": 34
        },
        "outputId": "5abf0b39-156c-48db-bdca-56074b42423b"
      },
      "source": [
        "print(my_numpy1 * my_numpy2) # поэлементное умножение двух массивов"
      ],
      "execution_count": null,
      "outputs": [
        {
          "output_type": "stream",
          "text": [
            "[ 0  7 16 27 40 55]\n"
          ],
          "name": "stdout"
        }
      ]
    },
    {
      "cell_type": "code",
      "metadata": {
        "id": "ZVWBhoSmzkmW",
        "colab": {
          "base_uri": "https://localhost:8080/",
          "height": 34
        },
        "outputId": "1fb4ba5f-bcb7-46fc-dd39-0df914e5e541"
      },
      "source": [
        "print(my_numpy1 ** my_numpy2) # поэлементное возведение в степень"
      ],
      "execution_count": null,
      "outputs": [
        {
          "output_type": "stream",
          "text": [
            "[       0        1      256    19683  1048576 48828125]\n"
          ],
          "name": "stdout"
        }
      ]
    },
    {
      "cell_type": "code",
      "metadata": {
        "id": "Ibhvd42BzknC",
        "colab": {
          "base_uri": "https://localhost:8080/",
          "height": 34
        },
        "outputId": "2e1f82ea-327d-471b-bd08-c961948e6820"
      },
      "source": [
        "# методы работают и без создания новой переменной, но нужны скобочки ()\n",
        "print(((my_numpy1 * my_numpy2 - my_numpy1) ** 2).sum()) # Выведем сумму элементов \"составного\" массива"
      ],
      "execution_count": null,
      "outputs": [
        {
          "output_type": "stream",
          "text": [
            "4604\n"
          ],
          "name": "stdout"
        }
      ]
    },
    {
      "cell_type": "code",
      "metadata": {
        "id": "wh71K2JC0agB",
        "colab": {
          "base_uri": "https://localhost:8080/",
          "height": 34
        },
        "outputId": "262d3dde-28d8-4970-cd0f-e92fc3cce405"
      },
      "source": [
        "print(my_numpy1 * 5 + my_numpy2[0] * 17)"
      ],
      "execution_count": null,
      "outputs": [
        {
          "output_type": "stream",
          "text": [
            "[102 107 112 117 122 127]\n"
          ],
          "name": "stdout"
        }
      ]
    },
    {
      "cell_type": "markdown",
      "metadata": {
        "id": "b4UmXd1Kzknu"
      },
      "source": [
        "### 4. Многомерные массивы\n",
        "\n",
        "*Разбор данного раздела:* https://youtu.be/T8n-dZUL3wI?t=5"
      ]
    },
    {
      "cell_type": "markdown",
      "metadata": {
        "id": "OPJ9bIOJkrq4"
      },
      "source": [
        "2D - матрица\n",
        "\n",
        "3D, ..., nD - тензоры"
      ]
    },
    {
      "cell_type": "code",
      "metadata": {
        "id": "yb_hLRcqzknz",
        "colab": {
          "base_uri": "https://localhost:8080/",
          "height": 68
        },
        "outputId": "9df4d151-ed86-4d82-8769-925e00d78ce0"
      },
      "source": [
        "# создаем двумерный массив\n",
        "my_2d_array = np.array([[3, 6, 2, 7],\n",
        "                        [9, 2, 4, 8],\n",
        "                        [8, 2, 3, 6]])\n",
        "\n",
        "print(my_2d_array)"
      ],
      "execution_count": null,
      "outputs": [
        {
          "output_type": "stream",
          "text": [
            "[[3 6 2 7]\n",
            " [9 2 4 8]\n",
            " [8 2 3 6]]\n"
          ],
          "name": "stdout"
        }
      ]
    },
    {
      "cell_type": "code",
      "metadata": {
        "id": "2CaYMqYzPtpW",
        "colab": {
          "base_uri": "https://localhost:8080/",
          "height": 68
        },
        "outputId": "6f47b4e4-7116-4d76-8796-e6dbf350700a"
      },
      "source": [
        "# создаем трехмерный массив\n",
        "my_3d_array = np.array([[[3, 6, 2, 7],\n",
        "                        [9, 2, 4, 8],\n",
        "                        [8, 2, 3, 6]]])\n",
        "\n",
        "print(my_3d_array)"
      ],
      "execution_count": null,
      "outputs": [
        {
          "output_type": "stream",
          "text": [
            "[[[3 6 2 7]\n",
            "  [9 2 4 8]\n",
            "  [8 2 3 6]]]\n"
          ],
          "name": "stdout"
        }
      ]
    },
    {
      "cell_type": "code",
      "metadata": {
        "id": "odlOePP6zkoK",
        "colab": {
          "base_uri": "https://localhost:8080/",
          "height": 51
        },
        "outputId": "cd8bc76a-573a-4e52-b4fd-2ff8d986e40b"
      },
      "source": [
        "print(my_2d_array.shape) # Выводим на экран размерность массива my_2d_array\n",
        "print(my_3d_array.shape) # Выводим на экран размерность массива my_3d_array"
      ],
      "execution_count": null,
      "outputs": [
        {
          "output_type": "stream",
          "text": [
            "(3, 4)\n",
            "(1, 3, 4)\n"
          ],
          "name": "stdout"
        }
      ]
    },
    {
      "cell_type": "code",
      "metadata": {
        "id": "TukXkp9Gzkob",
        "colab": {
          "base_uri": "https://localhost:8080/",
          "height": 51
        },
        "outputId": "5f664b06-e82f-4778-c5c9-ae7f0c66c90f"
      },
      "source": [
        "# кол-во элементов массива\n",
        "print(my_2d_array.size) # Выводим на экран количество элементов массива my_2d_array\n",
        "print(my_3d_array.size) # Выводим на экран количество элементов массива my_3d_array"
      ],
      "execution_count": null,
      "outputs": [
        {
          "output_type": "stream",
          "text": [
            "12\n",
            "12\n"
          ],
          "name": "stdout"
        }
      ]
    },
    {
      "cell_type": "markdown",
      "metadata": {
        "id": "FnX1foWJzkoq"
      },
      "source": [
        "#### Индексация\n",
        "\n",
        "*Разбор данного раздела:* https://youtu.be/T8n-dZUL3wI?t=458"
      ]
    },
    {
      "cell_type": "markdown",
      "metadata": {
        "id": "8DWjRHayzkot"
      },
      "source": [
        "построчно"
      ]
    },
    {
      "cell_type": "code",
      "metadata": {
        "id": "xUcKXRAYzkov",
        "colab": {
          "base_uri": "https://localhost:8080/",
          "height": 68
        },
        "outputId": "ca10d422-de16-419b-b0bc-97ee2d08a04a"
      },
      "source": [
        "# Создадим двумерный массив\n",
        "my_2d_array2 = np.array([[3, 6, 2, 7],\n",
        "                        [9, 2, 4, 8],\n",
        "                        [8, 2, 3, 6]])\n",
        "\n",
        "print(my_2d_array2) # Выведем на экран массив my_2d_array2"
      ],
      "execution_count": null,
      "outputs": [
        {
          "output_type": "stream",
          "text": [
            "[[3 6 2 7]\n",
            " [9 2 4 8]\n",
            " [8 2 3 6]]\n"
          ],
          "name": "stdout"
        }
      ]
    },
    {
      "cell_type": "code",
      "metadata": {
        "id": "53IoMFztzkpF",
        "colab": {
          "base_uri": "https://localhost:8080/",
          "height": 34
        },
        "outputId": "7558682f-6492-42d8-e057-f4a07e3b9ffa"
      },
      "source": [
        "print(my_2d_array2[0]) # Выведем на экран нулевую строку"
      ],
      "execution_count": null,
      "outputs": [
        {
          "output_type": "stream",
          "text": [
            "[3 6 2 7]\n"
          ],
          "name": "stdout"
        }
      ]
    },
    {
      "cell_type": "code",
      "metadata": {
        "id": "H1P2iNEhzkpQ",
        "colab": {
          "base_uri": "https://localhost:8080/",
          "height": 51
        },
        "outputId": "2705ac08-252b-49eb-9f48-5e295d23ff4c"
      },
      "source": [
        "# первая строка\n",
        "print(my_2d_array2[1]) # Выведем на экран первую строку\n",
        "print(my_2d_array2[-1]) # Выведем на экран последнюю строку"
      ],
      "execution_count": null,
      "outputs": [
        {
          "output_type": "stream",
          "text": [
            "[9 2 4 8]\n",
            "[8 2 3 6]\n"
          ],
          "name": "stdout"
        }
      ]
    },
    {
      "cell_type": "markdown",
      "metadata": {
        "id": "pueCxTgkzkpu"
      },
      "source": [
        "поэлементно"
      ]
    },
    {
      "cell_type": "code",
      "metadata": {
        "id": "7J_njk56zkpv",
        "colab": {
          "base_uri": "https://localhost:8080/",
          "height": 68
        },
        "outputId": "8fd13c32-abdc-44ba-cc33-ec42c1f9ce75"
      },
      "source": [
        "print(my_2d_array2) # Выведем на экран массив my_2d_array2"
      ],
      "execution_count": null,
      "outputs": [
        {
          "output_type": "stream",
          "text": [
            "[[3 6 2 7]\n",
            " [9 2 4 8]\n",
            " [8 2 3 6]]\n"
          ],
          "name": "stdout"
        }
      ]
    },
    {
      "cell_type": "code",
      "metadata": {
        "id": "vqJjLvxszkqE",
        "colab": {
          "base_uri": "https://localhost:8080/",
          "height": 34
        },
        "outputId": "dd08055d-db72-4bf5-c8a4-7c79794030cf"
      },
      "source": [
        "print(my_2d_array2[0,0]) # Выведем на экран элемент с индексом [0,0] (нулевая строка, нулевой столбец)"
      ],
      "execution_count": null,
      "outputs": [
        {
          "output_type": "stream",
          "text": [
            "3\n"
          ],
          "name": "stdout"
        }
      ]
    },
    {
      "cell_type": "code",
      "metadata": {
        "id": "N29vELmHzkqQ",
        "colab": {
          "base_uri": "https://localhost:8080/",
          "height": 34
        },
        "outputId": "9875830f-0ced-405b-ddad-1868fa08c5f5"
      },
      "source": [
        "print(my_2d_array2[0,1]) # Выведем на экран элемент с индексом [0,1] (нулевая строка, первый столбец)"
      ],
      "execution_count": null,
      "outputs": [
        {
          "output_type": "stream",
          "text": [
            "6\n"
          ],
          "name": "stdout"
        }
      ]
    },
    {
      "cell_type": "code",
      "metadata": {
        "id": "my1ixcQxzkqd",
        "colab": {
          "base_uri": "https://localhost:8080/",
          "height": 34
        },
        "outputId": "ef1f4f35-969f-4d71-dc2a-6716fde1e434"
      },
      "source": [
        "print(my_2d_array2[1,2]) # Выведем на экран элемент с индексом [1,2] (первая строка, второй столбец)"
      ],
      "execution_count": null,
      "outputs": [
        {
          "output_type": "stream",
          "text": [
            "4\n"
          ],
          "name": "stdout"
        }
      ]
    },
    {
      "cell_type": "markdown",
      "metadata": {
        "id": "LBTMYwGyzkqn"
      },
      "source": [
        "по столбцам"
      ]
    },
    {
      "cell_type": "code",
      "metadata": {
        "id": "JeYr_72Azkqr",
        "colab": {
          "base_uri": "https://localhost:8080/",
          "height": 34
        },
        "outputId": "0a851c43-c950-4502-f48b-7c68df3cde28"
      },
      "source": [
        "print(my_2d_array2[:, 0]) # Выведем на экран нулевой столбец"
      ],
      "execution_count": null,
      "outputs": [
        {
          "output_type": "stream",
          "text": [
            "[3 9 8]\n"
          ],
          "name": "stdout"
        }
      ]
    },
    {
      "cell_type": "code",
      "metadata": {
        "id": "PmfkyXfazkrG",
        "colab": {
          "base_uri": "https://localhost:8080/",
          "height": 34
        },
        "outputId": "5f613e7c-6f24-4a1e-e551-1e4104c12c1d"
      },
      "source": [
        "print(my_2d_array2[:, 1]) # Выведем на экран первый столбец"
      ],
      "execution_count": null,
      "outputs": [
        {
          "output_type": "stream",
          "text": [
            "[6 2 2]\n"
          ],
          "name": "stdout"
        }
      ]
    },
    {
      "cell_type": "code",
      "metadata": {
        "id": "QycmbmWGRnX1",
        "colab": {
          "base_uri": "https://localhost:8080/",
          "height": 34
        },
        "outputId": "7c721580-f412-4644-c954-82255c490a91"
      },
      "source": [
        "print(my_2d_array2[1:, 1]) # Выведем на экран первый столбец  и все элементы этого столбца, начиная с первого"
      ],
      "execution_count": null,
      "outputs": [
        {
          "output_type": "stream",
          "text": [
            "[2 2]\n"
          ],
          "name": "stdout"
        }
      ]
    },
    {
      "cell_type": "markdown",
      "metadata": {
        "id": "vhMf-XP7zkrT"
      },
      "source": [
        "#### Операции с двумерными массивами и встроенные методы\n",
        "\n",
        "*Разбор данного раздела:* https://youtu.be/T8n-dZUL3wI?t=704\n"
      ]
    },
    {
      "cell_type": "code",
      "metadata": {
        "id": "Dk2M6MkQzkrX",
        "colab": {
          "base_uri": "https://localhost:8080/",
          "height": 68
        },
        "outputId": "83f72835-84eb-44e6-de3f-f4ca7188bda3"
      },
      "source": [
        "print(my_2d_array2) # Выведем на экран массив my_2d_array2"
      ],
      "execution_count": null,
      "outputs": [
        {
          "output_type": "stream",
          "text": [
            "[[3 6 2 7]\n",
            " [9 2 4 8]\n",
            " [8 2 3 6]]\n"
          ],
          "name": "stdout"
        }
      ]
    },
    {
      "cell_type": "code",
      "metadata": {
        "id": "dh4D3i2_zkrg",
        "colab": {
          "base_uri": "https://localhost:8080/",
          "height": 34
        },
        "outputId": "dda11ce3-5c44-4ba7-ac06-fbb8ef7599c1"
      },
      "source": [
        "print(my_2d_array2.sum()) # Выводим сумму элементов двумерного массива"
      ],
      "execution_count": null,
      "outputs": [
        {
          "output_type": "stream",
          "text": [
            "60\n"
          ],
          "name": "stdout"
        }
      ]
    },
    {
      "cell_type": "code",
      "metadata": {
        "id": "p3b6i3G-zkrv",
        "colab": {
          "base_uri": "https://localhost:8080/",
          "height": 34
        },
        "outputId": "36f9008b-8974-4e91-e491-bd3f86ae2005"
      },
      "source": [
        "print(my_2d_array2.min(axis=1)) # Выводим минимальный элемент в каждой строке"
      ],
      "execution_count": null,
      "outputs": [
        {
          "output_type": "stream",
          "text": [
            "[2 2 2]\n"
          ],
          "name": "stdout"
        }
      ]
    },
    {
      "cell_type": "code",
      "metadata": {
        "id": "kWFJ2pPzzkr7",
        "colab": {
          "base_uri": "https://localhost:8080/",
          "height": 34
        },
        "outputId": "917568d2-e5a1-436b-b01b-b846adee70cf"
      },
      "source": [
        "print(my_2d_array2.sum(axis=0)) # Выводим сумму каждого столбеца"
      ],
      "execution_count": null,
      "outputs": [
        {
          "output_type": "stream",
          "text": [
            "[20 10  9 21]\n"
          ],
          "name": "stdout"
        }
      ]
    },
    {
      "cell_type": "code",
      "metadata": {
        "id": "V66Mj_qizksR",
        "colab": {
          "base_uri": "https://localhost:8080/",
          "height": 68
        },
        "outputId": "51749f06-6837-40ee-ecaf-e992f271b12a"
      },
      "source": [
        "# np.ones_like создает массив из единиц такой же размерности как и массив а\n",
        "new_2d_array = np.ones_like(my_2d_array2) # Создаем массив той же размерности, что и my_2d_array2 и заполняем его единицами\n",
        "print(new_2d_array) # Выводим на экран массив new_2d_кarray"
      ],
      "execution_count": null,
      "outputs": [
        {
          "output_type": "stream",
          "text": [
            "[[1 1 1 1]\n",
            " [1 1 1 1]\n",
            " [1 1 1 1]]\n"
          ],
          "name": "stdout"
        }
      ]
    },
    {
      "cell_type": "code",
      "metadata": {
        "id": "hv2Nt_92zksd",
        "colab": {
          "base_uri": "https://localhost:8080/",
          "height": 102
        },
        "outputId": "e183f651-dc79-4c64-e149-ec441053e616"
      },
      "source": [
        "new_2d_array2 = np.zeros((5,3)) # Создаем массив из нулей заданной размерности (5,3)\n",
        "print (new_2d_array2) # Выводи на экран массив new_2d_array2"
      ],
      "execution_count": null,
      "outputs": [
        {
          "output_type": "stream",
          "text": [
            "[[0. 0. 0.]\n",
            " [0. 0. 0.]\n",
            " [0. 0. 0.]\n",
            " [0. 0. 0.]\n",
            " [0. 0. 0.]]\n"
          ],
          "name": "stdout"
        }
      ]
    },
    {
      "cell_type": "code",
      "metadata": {
        "id": "8Qri_oG4zksm",
        "colab": {
          "base_uri": "https://localhost:8080/",
          "height": 68
        },
        "outputId": "549ec67c-d5e8-4169-dd5c-da68e2e920d7"
      },
      "source": [
        "new_2d_array2 = new_2d_array * 2 # Умножим каждый элемент массива на 2\n",
        "print(new_2d_array2) # Выводим на экран массив new_2d_array2"
      ],
      "execution_count": null,
      "outputs": [
        {
          "output_type": "stream",
          "text": [
            "[[2 2 2 2]\n",
            " [2 2 2 2]\n",
            " [2 2 2 2]]\n"
          ],
          "name": "stdout"
        }
      ]
    },
    {
      "cell_type": "code",
      "metadata": {
        "id": "sLjQNK5Mzksv",
        "colab": {
          "base_uri": "https://localhost:8080/",
          "height": 68
        },
        "outputId": "eff53a26-009e-4ae9-86ac-54bc9c1ee9dd"
      },
      "source": [
        "print(new_2d_array)"
      ],
      "execution_count": null,
      "outputs": [
        {
          "output_type": "stream",
          "text": [
            "[[1 1 1 1]\n",
            " [1 1 1 1]\n",
            " [1 1 1 1]]\n"
          ],
          "name": "stdout"
        }
      ]
    },
    {
      "cell_type": "code",
      "metadata": {
        "id": "YbAtj3Ulzks_",
        "colab": {
          "base_uri": "https://localhost:8080/",
          "height": 51
        },
        "outputId": "aa158245-9dff-4c00-905e-2930465d6c45"
      },
      "source": [
        "# поэлементное умножение двух массивов\n",
        "arr1 = np.array([[1,2,3],\n",
        "                 [4,5,6]])\n",
        "arr2 = np.array([[4,3,2],\n",
        "                 [6,4,3]])\n",
        "print(arr1 * arr2) # Выведем на экран результат поэлементого умножения массивов"
      ],
      "execution_count": null,
      "outputs": [
        {
          "output_type": "stream",
          "text": [
            "[[ 4  6  6]\n",
            " [24 20 18]]\n"
          ],
          "name": "stdout"
        }
      ]
    },
    {
      "cell_type": "markdown",
      "metadata": {
        "id": "AxvH5kzazktL"
      },
      "source": [
        "#### Структура np.matrix\n",
        "\n",
        "*Разбор данного раздела:* https://youtu.be/T8n-dZUL3wI?t=1087\n",
        "\n",
        "Подробнее: https://docs.scipy.org/doc/numpy/reference/generated/numpy.matrix.html"
      ]
    },
    {
      "cell_type": "code",
      "metadata": {
        "id": "eOVm5xM-zktO",
        "colab": {
          "base_uri": "https://localhost:8080/",
          "height": 85
        },
        "outputId": "cbef551b-f81d-44b2-daa8-455de52b8b66"
      },
      "source": [
        "my_matrix = np.matrix(arr1) # Создадим матрицу из массива arr1\n",
        "print(my_matrix) # Выведем на экран матрицу my_matrix\n",
        "print(type(arr1)) # Выведем на экран тип переменной arr1\n",
        "print(type(my_matrix)) # Выведем на экран тип переменной my_matrix"
      ],
      "execution_count": null,
      "outputs": [
        {
          "output_type": "stream",
          "text": [
            "[[1 2 3]\n",
            " [4 5 6]]\n",
            "<class 'numpy.ndarray'>\n",
            "<class 'numpy.matrix'>\n"
          ],
          "name": "stdout"
        }
      ]
    },
    {
      "cell_type": "code",
      "metadata": {
        "id": "EcLPXc7X5_1i",
        "colab": {
          "base_uri": "https://localhost:8080/",
          "height": 68
        },
        "outputId": "f208cd42-7d6c-46b0-db8b-0b4a1bf8e0bf"
      },
      "source": [
        "print(my_matrix.T) # Выведем на экран транспонированную матрицу"
      ],
      "execution_count": null,
      "outputs": [
        {
          "output_type": "stream",
          "text": [
            "[[1 4]\n",
            " [2 5]\n",
            " [3 6]]\n"
          ],
          "name": "stdout"
        }
      ]
    },
    {
      "cell_type": "code",
      "metadata": {
        "id": "5XpKMQAyzkta",
        "colab": {
          "base_uri": "https://localhost:8080/",
          "height": 51
        },
        "outputId": "d23c6534-5f66-404e-ab3a-e37b80af8b6c"
      },
      "source": [
        "# в случае с np.matrix выполняется матричное умножение, а не поэлементное (!!!)\n",
        "print(my_matrix * my_matrix.T)\n"
      ],
      "execution_count": null,
      "outputs": [
        {
          "output_type": "stream",
          "text": [
            "[[14 32]\n",
            " [32 77]]\n"
          ],
          "name": "stdout"
        }
      ]
    },
    {
      "cell_type": "markdown",
      "metadata": {
        "id": "VgtDImiPzktu"
      },
      "source": [
        "#### Тензоры a.k.a. многомерные массивы\n",
        "\n",
        "*Разбор данного раздела:* https://youtu.be/T8n-dZUL3wI?t=1471\n"
      ]
    },
    {
      "cell_type": "code",
      "metadata": {
        "id": "4o-OcMOIzktz",
        "colab": {
          "base_uri": "https://localhost:8080/",
          "height": 527
        },
        "outputId": "e9d57bb2-8a8a-46eb-f04e-295e58a3a5f2"
      },
      "source": [
        "# создаем четыркхмерный массив из случайных значений размерности 2 на 3 на 4 на 5\n",
        "my_tensor = np.random.random((2, 3, 4, 5))\n",
        "print(my_tensor)"
      ],
      "execution_count": null,
      "outputs": [
        {
          "output_type": "stream",
          "text": [
            "[[[[0.6031097  0.43092699 0.49457809 0.96770088 0.96881228]\n",
            "   [0.88334282 0.41943086 0.74994302 0.99992443 0.89027972]\n",
            "   [0.90926832 0.63720241 0.27521601 0.02527586 0.13176135]\n",
            "   [0.401371   0.73118929 0.99043974 0.84558549 0.69519924]]\n",
            "\n",
            "  [[0.7462484  0.41661635 0.20061416 0.6585187  0.40823389]\n",
            "   [0.65565998 0.88365918 0.18409938 0.02362182 0.46696212]\n",
            "   [0.85816538 0.27540374 0.4329541  0.05516921 0.6796949 ]\n",
            "   [0.50081884 0.21926231 0.85063953 0.52004753 0.02312587]]\n",
            "\n",
            "  [[0.12175731 0.30942525 0.45025321 0.70389175 0.71120046]\n",
            "   [0.52355839 0.19442352 0.69983017 0.2830477  0.47753994]\n",
            "   [0.10791838 0.40228388 0.42829902 0.7717735  0.94921038]\n",
            "   [0.33951051 0.26880622 0.74061038 0.93553858 0.97008438]]]\n",
            "\n",
            "\n",
            " [[[0.8173511  0.58582754 0.77915891 0.81752335 0.76420317]\n",
            "   [0.208228   0.98736894 0.94451237 0.91365519 0.09197298]\n",
            "   [0.68225178 0.85838584 0.83615206 0.21216032 0.68151576]\n",
            "   [0.11847151 0.87581894 0.17912256 0.37466628 0.80453631]]\n",
            "\n",
            "  [[0.14869881 0.51817266 0.14533044 0.69526336 0.33999519]\n",
            "   [0.6406586  0.31502289 0.07606976 0.76685617 0.62661633]\n",
            "   [0.69758509 0.35972428 0.42126852 0.4012511  0.54820524]\n",
            "   [0.26063166 0.80350664 0.88271577 0.41695769 0.11259613]]\n",
            "\n",
            "  [[0.17357814 0.68942508 0.74043566 0.48164269 0.45886016]\n",
            "   [0.57769691 0.55177416 0.35516407 0.00326837 0.3834118 ]\n",
            "   [0.51500676 0.41638059 0.68525973 0.04358376 0.6297938 ]\n",
            "   [0.92502309 0.41650858 0.83793337 0.30098029 0.33960886]]]]\n"
          ],
          "name": "stdout"
        }
      ]
    },
    {
      "cell_type": "code",
      "metadata": {
        "id": "7P4LXHmjzkuS",
        "colab": {
          "base_uri": "https://localhost:8080/",
          "height": 34
        },
        "outputId": "415c274b-02ef-47dd-88c8-58e5408006bb"
      },
      "source": [
        "# проверяем размерность\n",
        "print(my_tensor.shape) # Выводим на экран размерность массива my_tensor"
      ],
      "execution_count": null,
      "outputs": [
        {
          "output_type": "stream",
          "text": [
            "(2, 3, 4, 5)\n"
          ],
          "name": "stdout"
        }
      ]
    },
    {
      "cell_type": "markdown",
      "metadata": {
        "id": "N-tfxwVHzkug"
      },
      "source": [
        "Как поэлементно обращаться к тензорам?"
      ]
    },
    {
      "cell_type": "code",
      "metadata": {
        "id": "uPFr6zQgzkul",
        "colab": {
          "base_uri": "https://localhost:8080/",
          "height": 34
        },
        "outputId": "b48532ac-3016-4bbc-e95a-67edfff699b2"
      },
      "source": [
        "# элемент с индексами 0 по всем осям\n",
        "my_tensor[0, 0, 0, 0]"
      ],
      "execution_count": null,
      "outputs": [
        {
          "output_type": "execute_result",
          "data": {
            "text/plain": [
              "0.603109697348081"
            ]
          },
          "metadata": {
            "tags": []
          },
          "execution_count": 106
        }
      ]
    },
    {
      "cell_type": "code",
      "metadata": {
        "id": "PNG7g7z6zkux",
        "colab": {
          "base_uri": "https://localhost:8080/",
          "height": 136
        },
        "outputId": "4e1ccd5f-bbcd-4700-d308-ad34c1d9aab3"
      },
      "source": [
        "# только первые строки\n",
        "my_tensor[:,  :, :, 0]"
      ],
      "execution_count": null,
      "outputs": [
        {
          "output_type": "execute_result",
          "data": {
            "text/plain": [
              "array([[[0.6031097 , 0.88334282, 0.90926832, 0.401371  ],\n",
              "        [0.7462484 , 0.65565998, 0.85816538, 0.50081884],\n",
              "        [0.12175731, 0.52355839, 0.10791838, 0.33951051]],\n",
              "\n",
              "       [[0.8173511 , 0.208228  , 0.68225178, 0.11847151],\n",
              "        [0.14869881, 0.6406586 , 0.69758509, 0.26063166],\n",
              "        [0.17357814, 0.57769691, 0.51500676, 0.92502309]]])"
            ]
          },
          "metadata": {
            "tags": []
          },
          "execution_count": 107
        }
      ]
    },
    {
      "cell_type": "code",
      "metadata": {
        "id": "pZPs0QzyzkvG",
        "colab": {
          "base_uri": "https://localhost:8080/",
          "height": 136
        },
        "outputId": "328de617-256d-40d8-a2a3-90f7249ab825"
      },
      "source": [
        "# сумма элементов по второй оси\n",
        "my_tensor.sum(axis=3)"
      ],
      "execution_count": null,
      "outputs": [
        {
          "output_type": "execute_result",
          "data": {
            "text/plain": [
              "array([[[3.46512793, 3.94292085, 1.97872395, 3.66378476],\n",
              "        [2.4302315 , 2.21400247, 2.30138733, 2.11389408],\n",
              "        [2.29652798, 2.17839971, 2.65948516, 3.25455007]],\n",
              "\n",
              "       [[3.76406407, 3.14573747, 3.27046576, 2.35261561],\n",
              "        [1.84746046, 2.42522376, 2.42803423, 2.47640789],\n",
              "        [2.54394172, 1.8713153 , 2.29002466, 2.8200542 ]]])"
            ]
          },
          "metadata": {
            "tags": []
          },
          "execution_count": 108
        }
      ]
    },
    {
      "cell_type": "markdown",
      "metadata": {
        "id": "AjtoLgd-zkvT"
      },
      "source": [
        "### 5. Матричные операции\n",
        "\n",
        "*Разбор данного раздела:* https://youtu.be/T8n-dZUL3wI?t=1685"
      ]
    },
    {
      "cell_type": "markdown",
      "metadata": {
        "id": "VGAqmU0mzkvx"
      },
      "source": [
        "Умножение двух матриц\n",
        "\n",
        "метод .dot"
      ]
    },
    {
      "cell_type": "code",
      "metadata": {
        "id": "tF0ZLfO8zkv1",
        "colab": {
          "base_uri": "https://localhost:8080/",
          "height": 51
        },
        "outputId": "7961a343-07d2-4c6d-eef7-d9c96c5a2e4d"
      },
      "source": [
        "print(arr1)"
      ],
      "execution_count": null,
      "outputs": [
        {
          "output_type": "stream",
          "text": [
            "[[1 2 3]\n",
            " [4 5 6]]\n"
          ],
          "name": "stdout"
        }
      ]
    },
    {
      "cell_type": "code",
      "metadata": {
        "id": "2fybvch-zkwB",
        "colab": {
          "base_uri": "https://localhost:8080/",
          "height": 51
        },
        "outputId": "52462a43-c32c-47df-ae12-909d6d9d0c3f"
      },
      "source": [
        "print(arr2)"
      ],
      "execution_count": null,
      "outputs": [
        {
          "output_type": "stream",
          "text": [
            "[[4 3 2]\n",
            " [6 4 3]]\n"
          ],
          "name": "stdout"
        }
      ]
    },
    {
      "cell_type": "code",
      "metadata": {
        "id": "SLUsk1z0zkwK",
        "colab": {
          "base_uri": "https://localhost:8080/",
          "height": 51
        },
        "outputId": "5b7609c8-5e1c-4e12-8ee2-1364580adaf5"
      },
      "source": [
        "# это не умножение(!!!)\n",
        "## это поэлементное умножение\n",
        "arr1 * arr2"
      ],
      "execution_count": null,
      "outputs": [
        {
          "output_type": "execute_result",
          "data": {
            "text/plain": [
              "array([[ 4,  6,  6],\n",
              "       [24, 20, 18]])"
            ]
          },
          "metadata": {
            "tags": []
          },
          "execution_count": 111
        }
      ]
    },
    {
      "cell_type": "code",
      "metadata": {
        "id": "qR1N3UF_zkwX",
        "colab": {
          "base_uri": "https://localhost:8080/",
          "height": 68
        },
        "outputId": "34c92e5a-76f2-474e-c7dd-b623a4359d54"
      },
      "source": [
        "# вот это умножение:\n",
        "## метод .dot\n",
        "arrT = arr1.T\n",
        "arr3 = arrT.dot(arr2)\n",
        "print(arr3)"
      ],
      "execution_count": null,
      "outputs": [
        {
          "output_type": "stream",
          "text": [
            "[[28 19 14]\n",
            " [38 26 19]\n",
            " [48 33 24]]\n"
          ],
          "name": "stdout"
        }
      ]
    },
    {
      "cell_type": "markdown",
      "metadata": {
        "id": "Y2_Fa3GLzkwu"
      },
      "source": [
        "### 6. Семплирование из распределений\n",
        "\n",
        "*Разбор данного раздела:* https://youtu.be/T8n-dZUL3wI?t=1862\n",
        "\n"
      ]
    },
    {
      "cell_type": "markdown",
      "metadata": {
        "id": "-YeINmX7zkwx"
      },
      "source": [
        "Описание всех возможностей модуля np.random:\n",
        "\n",
        "https://docs.scipy.org/doc/numpy-1.15.0/reference/routines.random.html\n"
      ]
    },
    {
      "cell_type": "code",
      "metadata": {
        "id": "fIL1gWXVzkwz",
        "colab": {
          "base_uri": "https://localhost:8080/",
          "height": 102
        },
        "outputId": "90ac2509-9ddd-40d6-fe14-e0e42e63b280"
      },
      "source": [
        "# создаем массив размера 5 на 5 со случайными числами из стандартного нормального распределения\n",
        "rr = np.random.normal(0, 1, (5,5))\n",
        "print(rr)"
      ],
      "execution_count": null,
      "outputs": [
        {
          "output_type": "stream",
          "text": [
            "[[-1.64876244  2.42815208 -0.28614529 -1.35202448 -0.14275906]\n",
            " [-1.47437539  0.01475247  0.21786697  1.5704047   1.33769413]\n",
            " [-0.72312308 -1.47467266  0.33075339  1.26642598 -1.11924887]\n",
            " [ 0.23786207  0.66396048 -0.64602133 -0.63776405 -1.7738886 ]\n",
            " [ 0.40537837 -0.3534063  -0.19555161 -0.31322363 -1.15463436]]\n"
          ],
          "name": "stdout"
        }
      ]
    },
    {
      "cell_type": "code",
      "metadata": {
        "id": "iEWNRPh-zkw6",
        "colab": {
          "base_uri": "https://localhost:8080/",
          "height": 102
        },
        "outputId": "c0f598f5-d550-42e7-9fa3-59b254752e96"
      },
      "source": [
        "rr = np.random.randint(0, 10, (5,5))\n",
        "print(rr)"
      ],
      "execution_count": null,
      "outputs": [
        {
          "output_type": "stream",
          "text": [
            "[[1 8 4 1 4]\n",
            " [0 2 2 5 2]\n",
            " [3 0 6 9 5]\n",
            " [8 1 9 5 1]\n",
            " [4 2 8 8 6]]\n"
          ],
          "name": "stdout"
        }
      ]
    },
    {
      "cell_type": "code",
      "metadata": {
        "id": "PVLjpyGmDJyu",
        "colab": {
          "base_uri": "https://localhost:8080/",
          "height": 85
        },
        "outputId": "3f24124d-13d8-4095-eb73-83e504279382"
      },
      "source": [
        "rr = np.random.uniform(-4.33, 2.35, (4,4))\n",
        "print(rr)"
      ],
      "execution_count": null,
      "outputs": [
        {
          "output_type": "stream",
          "text": [
            "[[-4.0500854   0.52905296 -0.93547943 -3.03734992]\n",
            " [ 0.33852648  1.09680788 -3.79664432  2.24413652]\n",
            " [-0.46155426  2.13241267 -2.82553722 -0.36551168]\n",
            " [ 2.04551211  1.80164279  0.19038021 -4.1574314 ]]\n"
          ],
          "name": "stdout"
        }
      ]
    },
    {
      "cell_type": "markdown",
      "metadata": {
        "id": "ryzPlVHlzkxA"
      },
      "source": [
        "### 7. Чтение файлов\n",
        "\n",
        "*Разбор данного раздела:* https://youtu.be/T8n-dZUL3wI?t=2151"
      ]
    },
    {
      "cell_type": "code",
      "metadata": {
        "id": "SLXOnJJqlIQY",
        "colab": {
          "base_uri": "https://localhost:8080/",
          "height": 34
        },
        "outputId": "cf4c892a-20bf-4222-d7d5-918119ee3e3a"
      },
      "source": [
        "from google.colab import drive\n",
        "drive.mount('/content/drive')"
      ],
      "execution_count": null,
      "outputs": [
        {
          "output_type": "stream",
          "text": [
            "Mounted at /content/drive\n"
          ],
          "name": "stdout"
        }
      ]
    },
    {
      "cell_type": "code",
      "metadata": {
        "id": "hNzYcuhtzkxE"
      },
      "source": [
        "# грузим массив из файла .csv\n",
        "my_data = np.loadtxt('/content/drive/My Drive/Базы/iris.csv', delimiter=',', skiprows=1) # skiprows=1 - пропускаем первую строку, поскольку в ней названия колонок базы "
      ],
      "execution_count": null,
      "outputs": []
    },
    {
      "cell_type": "code",
      "metadata": {
        "id": "Y5O-OcQbzkxS",
        "colab": {
          "base_uri": "https://localhost:8080/",
          "height": 1000
        },
        "outputId": "8ad00821-84a4-4659-c58d-ae22bc0f0bc8"
      },
      "source": [
        "# вот то, что мы подгрузили\n",
        "print(my_data)"
      ],
      "execution_count": null,
      "outputs": [
        {
          "output_type": "stream",
          "text": [
            "[[0.00e+00 5.10e+00 3.50e+00 1.40e+00 2.00e-01]\n",
            " [1.00e+00 4.90e+00 3.00e+00 1.40e+00 2.00e-01]\n",
            " [2.00e+00 4.70e+00 3.20e+00 1.30e+00 2.00e-01]\n",
            " [3.00e+00 4.60e+00 3.10e+00 1.50e+00 2.00e-01]\n",
            " [4.00e+00 5.00e+00 3.60e+00 1.40e+00 2.00e-01]\n",
            " [5.00e+00 5.40e+00 3.90e+00 1.70e+00 4.00e-01]\n",
            " [6.00e+00 4.60e+00 3.40e+00 1.40e+00 3.00e-01]\n",
            " [7.00e+00 5.00e+00 3.40e+00 1.50e+00 2.00e-01]\n",
            " [8.00e+00 4.40e+00 2.90e+00 1.40e+00 2.00e-01]\n",
            " [9.00e+00 4.90e+00 3.10e+00 1.50e+00 1.00e-01]\n",
            " [1.00e+01 5.40e+00 3.70e+00 1.50e+00 2.00e-01]\n",
            " [1.10e+01 4.80e+00 3.40e+00 1.60e+00 2.00e-01]\n",
            " [1.20e+01 4.80e+00 3.00e+00 1.40e+00 1.00e-01]\n",
            " [1.30e+01 4.30e+00 3.00e+00 1.10e+00 1.00e-01]\n",
            " [1.40e+01 5.80e+00 4.00e+00 1.20e+00 2.00e-01]\n",
            " [1.50e+01 5.70e+00 4.40e+00 1.50e+00 4.00e-01]\n",
            " [1.60e+01 5.40e+00 3.90e+00 1.30e+00 4.00e-01]\n",
            " [1.70e+01 5.10e+00 3.50e+00 1.40e+00 3.00e-01]\n",
            " [1.80e+01 5.70e+00 3.80e+00 1.70e+00 3.00e-01]\n",
            " [1.90e+01 5.10e+00 3.80e+00 1.50e+00 3.00e-01]\n",
            " [2.00e+01 5.40e+00 3.40e+00 1.70e+00 2.00e-01]\n",
            " [2.10e+01 5.10e+00 3.70e+00 1.50e+00 4.00e-01]\n",
            " [2.20e+01 4.60e+00 3.60e+00 1.00e+00 2.00e-01]\n",
            " [2.30e+01 5.10e+00 3.30e+00 1.70e+00 5.00e-01]\n",
            " [2.40e+01 4.80e+00 3.40e+00 1.90e+00 2.00e-01]\n",
            " [2.50e+01 5.00e+00 3.00e+00 1.60e+00 2.00e-01]\n",
            " [2.60e+01 5.00e+00 3.40e+00 1.60e+00 4.00e-01]\n",
            " [2.70e+01 5.20e+00 3.50e+00 1.50e+00 2.00e-01]\n",
            " [2.80e+01 5.20e+00 3.40e+00 1.40e+00 2.00e-01]\n",
            " [2.90e+01 4.70e+00 3.20e+00 1.60e+00 2.00e-01]\n",
            " [3.00e+01 4.80e+00 3.10e+00 1.60e+00 2.00e-01]\n",
            " [3.10e+01 5.40e+00 3.40e+00 1.50e+00 4.00e-01]\n",
            " [3.20e+01 5.20e+00 4.10e+00 1.50e+00 1.00e-01]\n",
            " [3.30e+01 5.50e+00 4.20e+00 1.40e+00 2.00e-01]\n",
            " [3.40e+01 4.90e+00 3.10e+00 1.50e+00 2.00e-01]\n",
            " [3.50e+01 5.00e+00 3.20e+00 1.20e+00 2.00e-01]\n",
            " [3.60e+01 5.50e+00 3.50e+00 1.30e+00 2.00e-01]\n",
            " [3.70e+01 4.90e+00 3.60e+00 1.40e+00 1.00e-01]\n",
            " [3.80e+01 4.40e+00 3.00e+00 1.30e+00 2.00e-01]\n",
            " [3.90e+01 5.10e+00 3.40e+00 1.50e+00 2.00e-01]\n",
            " [4.00e+01 5.00e+00 3.50e+00 1.30e+00 3.00e-01]\n",
            " [4.10e+01 4.50e+00 2.30e+00 1.30e+00 3.00e-01]\n",
            " [4.20e+01 4.40e+00 3.20e+00 1.30e+00 2.00e-01]\n",
            " [4.30e+01 5.00e+00 3.50e+00 1.60e+00 6.00e-01]\n",
            " [4.40e+01 5.10e+00 3.80e+00 1.90e+00 4.00e-01]\n",
            " [4.50e+01 4.80e+00 3.00e+00 1.40e+00 3.00e-01]\n",
            " [4.60e+01 5.10e+00 3.80e+00 1.60e+00 2.00e-01]\n",
            " [4.70e+01 4.60e+00 3.20e+00 1.40e+00 2.00e-01]\n",
            " [4.80e+01 5.30e+00 3.70e+00 1.50e+00 2.00e-01]\n",
            " [4.90e+01 5.00e+00 3.30e+00 1.40e+00 2.00e-01]\n",
            " [5.00e+01 7.00e+00 3.20e+00 4.70e+00 1.40e+00]\n",
            " [5.10e+01 6.40e+00 3.20e+00 4.50e+00 1.50e+00]\n",
            " [5.20e+01 6.90e+00 3.10e+00 4.90e+00 1.50e+00]\n",
            " [5.30e+01 5.50e+00 2.30e+00 4.00e+00 1.30e+00]\n",
            " [5.40e+01 6.50e+00 2.80e+00 4.60e+00 1.50e+00]\n",
            " [5.50e+01 5.70e+00 2.80e+00 4.50e+00 1.30e+00]\n",
            " [5.60e+01 6.30e+00 3.30e+00 4.70e+00 1.60e+00]\n",
            " [5.70e+01 4.90e+00 2.40e+00 3.30e+00 1.00e+00]\n",
            " [5.80e+01 6.60e+00 2.90e+00 4.60e+00 1.30e+00]\n",
            " [5.90e+01 5.20e+00 2.70e+00 3.90e+00 1.40e+00]\n",
            " [6.00e+01 5.00e+00 2.00e+00 3.50e+00 1.00e+00]\n",
            " [6.10e+01 5.90e+00 3.00e+00 4.20e+00 1.50e+00]\n",
            " [6.20e+01 6.00e+00 2.20e+00 4.00e+00 1.00e+00]\n",
            " [6.30e+01 6.10e+00 2.90e+00 4.70e+00 1.40e+00]\n",
            " [6.40e+01 5.60e+00 2.90e+00 3.60e+00 1.30e+00]\n",
            " [6.50e+01 6.70e+00 3.10e+00 4.40e+00 1.40e+00]\n",
            " [6.60e+01 5.60e+00 3.00e+00 4.50e+00 1.50e+00]\n",
            " [6.70e+01 5.80e+00 2.70e+00 4.10e+00 1.00e+00]\n",
            " [6.80e+01 6.20e+00 2.20e+00 4.50e+00 1.50e+00]\n",
            " [6.90e+01 5.60e+00 2.50e+00 3.90e+00 1.10e+00]\n",
            " [7.00e+01 5.90e+00 3.20e+00 4.80e+00 1.80e+00]\n",
            " [7.10e+01 6.10e+00 2.80e+00 4.00e+00 1.30e+00]\n",
            " [7.20e+01 6.30e+00 2.50e+00 4.90e+00 1.50e+00]\n",
            " [7.30e+01 6.10e+00 2.80e+00 4.70e+00 1.20e+00]\n",
            " [7.40e+01 6.40e+00 2.90e+00 4.30e+00 1.30e+00]\n",
            " [7.50e+01 6.60e+00 3.00e+00 4.40e+00 1.40e+00]\n",
            " [7.60e+01 6.80e+00 2.80e+00 4.80e+00 1.40e+00]\n",
            " [7.70e+01 6.70e+00 3.00e+00 5.00e+00 1.70e+00]\n",
            " [7.80e+01 6.00e+00 2.90e+00 4.50e+00 1.50e+00]\n",
            " [7.90e+01 5.70e+00 2.60e+00 3.50e+00 1.00e+00]\n",
            " [8.00e+01 5.50e+00 2.40e+00 3.80e+00 1.10e+00]\n",
            " [8.10e+01 5.50e+00 2.40e+00 3.70e+00 1.00e+00]\n",
            " [8.20e+01 5.80e+00 2.70e+00 3.90e+00 1.20e+00]\n",
            " [8.30e+01 6.00e+00 2.70e+00 5.10e+00 1.60e+00]\n",
            " [8.40e+01 5.40e+00 3.00e+00 4.50e+00 1.50e+00]\n",
            " [8.50e+01 6.00e+00 3.40e+00 4.50e+00 1.60e+00]\n",
            " [8.60e+01 6.70e+00 3.10e+00 4.70e+00 1.50e+00]\n",
            " [8.70e+01 6.30e+00 2.30e+00 4.40e+00 1.30e+00]\n",
            " [8.80e+01 5.60e+00 3.00e+00 4.10e+00 1.30e+00]\n",
            " [8.90e+01 5.50e+00 2.50e+00 4.00e+00 1.30e+00]\n",
            " [9.00e+01 5.50e+00 2.60e+00 4.40e+00 1.20e+00]\n",
            " [9.10e+01 6.10e+00 3.00e+00 4.60e+00 1.40e+00]\n",
            " [9.20e+01 5.80e+00 2.60e+00 4.00e+00 1.20e+00]\n",
            " [9.30e+01 5.00e+00 2.30e+00 3.30e+00 1.00e+00]\n",
            " [9.40e+01 5.60e+00 2.70e+00 4.20e+00 1.30e+00]\n",
            " [9.50e+01 5.70e+00 3.00e+00 4.20e+00 1.20e+00]\n",
            " [9.60e+01 5.70e+00 2.90e+00 4.20e+00 1.30e+00]\n",
            " [9.70e+01 6.20e+00 2.90e+00 4.30e+00 1.30e+00]\n",
            " [9.80e+01 5.10e+00 2.50e+00 3.00e+00 1.10e+00]\n",
            " [9.90e+01 5.70e+00 2.80e+00 4.10e+00 1.30e+00]\n",
            " [1.00e+02 6.30e+00 3.30e+00 6.00e+00 2.50e+00]\n",
            " [1.01e+02 5.80e+00 2.70e+00 5.10e+00 1.90e+00]\n",
            " [1.02e+02 7.10e+00 3.00e+00 5.90e+00 2.10e+00]\n",
            " [1.03e+02 6.30e+00 2.90e+00 5.60e+00 1.80e+00]\n",
            " [1.04e+02 6.50e+00 3.00e+00 5.80e+00 2.20e+00]\n",
            " [1.05e+02 7.60e+00 3.00e+00 6.60e+00 2.10e+00]\n",
            " [1.06e+02 4.90e+00 2.50e+00 4.50e+00 1.70e+00]\n",
            " [1.07e+02 7.30e+00 2.90e+00 6.30e+00 1.80e+00]\n",
            " [1.08e+02 6.70e+00 2.50e+00 5.80e+00 1.80e+00]\n",
            " [1.09e+02 7.20e+00 3.60e+00 6.10e+00 2.50e+00]\n",
            " [1.10e+02 6.50e+00 3.20e+00 5.10e+00 2.00e+00]\n",
            " [1.11e+02 6.40e+00 2.70e+00 5.30e+00 1.90e+00]\n",
            " [1.12e+02 6.80e+00 3.00e+00 5.50e+00 2.10e+00]\n",
            " [1.13e+02 5.70e+00 2.50e+00 5.00e+00 2.00e+00]\n",
            " [1.14e+02 5.80e+00 2.80e+00 5.10e+00 2.40e+00]\n",
            " [1.15e+02 6.40e+00 3.20e+00 5.30e+00 2.30e+00]\n",
            " [1.16e+02 6.50e+00 3.00e+00 5.50e+00 1.80e+00]\n",
            " [1.17e+02 7.70e+00 3.80e+00 6.70e+00 2.20e+00]\n",
            " [1.18e+02 7.70e+00 2.60e+00 6.90e+00 2.30e+00]\n",
            " [1.19e+02 6.00e+00 2.20e+00 5.00e+00 1.50e+00]\n",
            " [1.20e+02 6.90e+00 3.20e+00 5.70e+00 2.30e+00]\n",
            " [1.21e+02 5.60e+00 2.80e+00 4.90e+00 2.00e+00]\n",
            " [1.22e+02 7.70e+00 2.80e+00 6.70e+00 2.00e+00]\n",
            " [1.23e+02 6.30e+00 2.70e+00 4.90e+00 1.80e+00]\n",
            " [1.24e+02 6.70e+00 3.30e+00 5.70e+00 2.10e+00]\n",
            " [1.25e+02 7.20e+00 3.20e+00 6.00e+00 1.80e+00]\n",
            " [1.26e+02 6.20e+00 2.80e+00 4.80e+00 1.80e+00]\n",
            " [1.27e+02 6.10e+00 3.00e+00 4.90e+00 1.80e+00]\n",
            " [1.28e+02 6.40e+00 2.80e+00 5.60e+00 2.10e+00]\n",
            " [1.29e+02 7.20e+00 3.00e+00 5.80e+00 1.60e+00]\n",
            " [1.30e+02 7.40e+00 2.80e+00 6.10e+00 1.90e+00]\n",
            " [1.31e+02 7.90e+00 3.80e+00 6.40e+00 2.00e+00]\n",
            " [1.32e+02 6.40e+00 2.80e+00 5.60e+00 2.20e+00]\n",
            " [1.33e+02 6.30e+00 2.80e+00 5.10e+00 1.50e+00]\n",
            " [1.34e+02 6.10e+00 2.60e+00 5.60e+00 1.40e+00]\n",
            " [1.35e+02 7.70e+00 3.00e+00 6.10e+00 2.30e+00]\n",
            " [1.36e+02 6.30e+00 3.40e+00 5.60e+00 2.40e+00]\n",
            " [1.37e+02 6.40e+00 3.10e+00 5.50e+00 1.80e+00]\n",
            " [1.38e+02 6.00e+00 3.00e+00 4.80e+00 1.80e+00]\n",
            " [1.39e+02 6.90e+00 3.10e+00 5.40e+00 2.10e+00]\n",
            " [1.40e+02 6.70e+00 3.10e+00 5.60e+00 2.40e+00]\n",
            " [1.41e+02 6.90e+00 3.10e+00 5.10e+00 2.30e+00]\n",
            " [1.42e+02 5.80e+00 2.70e+00 5.10e+00 1.90e+00]\n",
            " [1.43e+02 6.80e+00 3.20e+00 5.90e+00 2.30e+00]\n",
            " [1.44e+02 6.70e+00 3.30e+00 5.70e+00 2.50e+00]\n",
            " [1.45e+02 6.70e+00 3.00e+00 5.20e+00 2.30e+00]\n",
            " [1.46e+02 6.30e+00 2.50e+00 5.00e+00 1.90e+00]\n",
            " [1.47e+02 6.50e+00 3.00e+00 5.20e+00 2.00e+00]\n",
            " [1.48e+02 6.20e+00 3.40e+00 5.40e+00 2.30e+00]\n",
            " [1.49e+02 5.90e+00 3.00e+00 5.10e+00 1.80e+00]]\n"
          ],
          "name": "stdout"
        }
      ]
    },
    {
      "cell_type": "code",
      "metadata": {
        "id": "4LmMitE1zkxe",
        "colab": {
          "base_uri": "https://localhost:8080/",
          "height": 34
        },
        "outputId": "7351c3ba-441a-4a41-d76e-d9c1dd07ecda"
      },
      "source": [
        "# массив имеет тип np.array сразу\n",
        "type(my_data)"
      ],
      "execution_count": null,
      "outputs": [
        {
          "output_type": "execute_result",
          "data": {
            "text/plain": [
              "numpy.ndarray"
            ]
          },
          "metadata": {
            "tags": []
          },
          "execution_count": 122
        }
      ]
    },
    {
      "cell_type": "code",
      "metadata": {
        "id": "CPyIiZ8bzkxn",
        "colab": {
          "base_uri": "https://localhost:8080/",
          "height": 34
        },
        "outputId": "476d29d9-62c7-4df6-da46-90f629f81f29"
      },
      "source": [
        "# тип подгруженных данных - float64\n",
        "my_data.dtype"
      ],
      "execution_count": null,
      "outputs": [
        {
          "output_type": "execute_result",
          "data": {
            "text/plain": [
              "dtype('float64')"
            ]
          },
          "metadata": {
            "tags": []
          },
          "execution_count": 123
        }
      ]
    },
    {
      "cell_type": "code",
      "metadata": {
        "id": "0s6rDAkz8ujZ",
        "colab": {
          "base_uri": "https://localhost:8080/",
          "height": 34
        },
        "outputId": "94389491-14bd-4497-ad9c-6449a62020d8"
      },
      "source": [
        "my_data.shape"
      ],
      "execution_count": null,
      "outputs": [
        {
          "output_type": "execute_result",
          "data": {
            "text/plain": [
              "(150, 5)"
            ]
          },
          "metadata": {
            "tags": []
          },
          "execution_count": 124
        }
      ]
    },
    {
      "cell_type": "markdown",
      "metadata": {
        "id": "dPl6bnPF1rBz"
      },
      "source": [
        "# **Глоссарий**\n",
        "array[n1:n2] - срез массива с элемента n1 по n2 (не включительно)\n",
        "\n",
        "-----------------------\n",
        "\n",
        "**Основные методы для ndarray **\n",
        "\n",
        ".dtype - узнать тип данных массива\n",
        "\n",
        ".shape - узнать размер массива\n",
        "\n",
        ".reshape((*новый размер*))  - поменять размер массива\n",
        "\n",
        ".sum() сумма всех элементов\n",
        "\n",
        ".mean() среднее всех элементов\n",
        "\n",
        ".min() минимальное значение массива\n",
        "\n",
        ".max() максимальное значение\n",
        "\n",
        ".prod() произведение всех элементов\n",
        "\n",
        "-------------------\n",
        "\n",
        "np.arange(n) - генерация массива со значениями от 0 до n (не включительно)\n",
        "\n",
        "np.loadtxt(адрес расположения файла+параметры загрузки)\n",
        "\n",
        "\n"
      ]
    }
  ]
}