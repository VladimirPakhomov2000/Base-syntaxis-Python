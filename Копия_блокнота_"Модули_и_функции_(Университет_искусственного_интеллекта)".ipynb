{
  "nbformat": 4,
  "nbformat_minor": 0,
  "metadata": {
    "colab": {
      "provenance": [],
      "collapsed_sections": [
        "dsoCNQSYpAD8",
        "XymPsEkFpYK0",
        "Xw_eYymspYLC",
        "S91WnxxVpYLG",
        "xtVGTYPjtXzV",
        "D4pw70qJjp9r",
        "Yoy1bjyZjzq-",
        "dPrao-GHAXSw",
        "4RV5jxJiAXSx",
        "tFBs9vQC6XNK",
        "rrE8Wp993_83",
        "qZdhdKjunmeP",
        "JbEBGGGa-GpA",
        "tNeFrfsH-AmH",
        "uzq4MPDdJgGP",
        "T5PYaeN1N3y0",
        "gyK-DKnqOGFz",
        "TgAoR0mJtAXL",
        "iQ5kdSe9yudN",
        "cT1QmmfvthHP",
        "smqTPHI4ySPM",
        "LXMx_ny1Cg88"
      ],
      "include_colab_link": true
    },
    "kernelspec": {
      "name": "python3",
      "display_name": "Python 3"
    }
  },
  "cells": [
    {
      "cell_type": "markdown",
      "metadata": {
        "id": "view-in-github",
        "colab_type": "text"
      },
      "source": [
        "<a href=\"https://colab.research.google.com/github/VladimirPakhomov2000/Base-syntaxis-Python/blob/main/%D0%9A%D0%BE%D0%BF%D0%B8%D1%8F_%D0%B1%D0%BB%D0%BE%D0%BA%D0%BD%D0%BE%D1%82%D0%B0_%22%D0%9C%D0%BE%D0%B4%D1%83%D0%BB%D0%B8_%D0%B8_%D1%84%D1%83%D0%BD%D0%BA%D1%86%D0%B8%D0%B8_(%D0%A3%D0%BD%D0%B8%D0%B2%D0%B5%D1%80%D1%81%D0%B8%D1%82%D0%B5%D1%82_%D0%B8%D1%81%D0%BA%D1%83%D1%81%D1%81%D1%82%D0%B2%D0%B5%D0%BD%D0%BD%D0%BE%D0%B3%D0%BE_%D0%B8%D0%BD%D1%82%D0%B5%D0%BB%D0%BB%D0%B5%D0%BA%D1%82%D0%B0)%22.ipynb\" target=\"_parent\"><img src=\"https://colab.research.google.com/assets/colab-badge.svg\" alt=\"Open In Colab\"/></a>"
      ]
    },
    {
      "cell_type": "markdown",
      "metadata": {
        "id": "KE3wBYjwpYKy"
      },
      "source": [
        "### Функции:\n",
        "\n",
        "*Разбор данного раздела:* https://youtu.be/nE0X9AGwghw?t=61\n",
        "\n",
        "\n",
        "* Сигнатура\n",
        "* Область видимости\n",
        "* Аргументы по умолчанию\n",
        "* Передача аргументов\n",
        "* Lambda-функции"
      ]
    },
    {
      "cell_type": "code",
      "metadata": {
        "id": "mYfkB1-T4qZ8"
      },
      "source": [
        "kurs_dollara = 68.33"
      ],
      "execution_count": null,
      "outputs": []
    },
    {
      "cell_type": "code",
      "metadata": {
        "id": "gP1TehaC5BVj"
      },
      "source": [
        "rubles = 25467"
      ],
      "execution_count": null,
      "outputs": []
    },
    {
      "cell_type": "code",
      "metadata": {
        "id": "WJ4QQQ1Nv8qw",
        "colab": {
          "base_uri": "https://localhost:8080/",
          "height": 34
        },
        "outputId": "4282b6c4-e351-4b4c-d58e-3297a795762a"
      },
      "source": [
        "rubles/kurs_dollara"
      ],
      "execution_count": null,
      "outputs": [
        {
          "output_type": "execute_result",
          "data": {
            "text/plain": [
              "372.705985657837"
            ]
          },
          "metadata": {
            "tags": []
          },
          "execution_count": 91
        }
      ]
    },
    {
      "cell_type": "code",
      "metadata": {
        "id": "gGhvCYqO5Fib",
        "colab": {
          "base_uri": "https://localhost:8080/",
          "height": 34
        },
        "outputId": "92791206-914d-461b-cfe8-ebb701c2637f"
      },
      "source": [
        "dollars = int(rubles//kurs_dollara)\n",
        "cent = int((rubles/kurs_dollara - rubles//kurs_dollara)*100)\n",
        "print('Вы получите: ',dollars,'$ ',cent,'¢',sep='')"
      ],
      "execution_count": null,
      "outputs": [
        {
          "output_type": "stream",
          "text": [
            "Вы получите: 372$ 70¢\n"
          ],
          "name": "stdout"
        }
      ]
    },
    {
      "cell_type": "code",
      "metadata": {
        "id": "zmCW2l-j6BJv",
        "colab": {
          "base_uri": "https://localhost:8080/",
          "height": 34
        },
        "outputId": "6a2c9833-2134-4d0e-95f0-1cd59443564b"
      },
      "source": [
        "rubles2 = 56873\n",
        "dollars = int(rubles2//kurs_dollara)\n",
        "cent = int((rubles2/kurs_dollara - rubles2//kurs_dollara)*100)\n",
        "print('Вы получите: ',dollars,'$ ',cent,'¢',sep='')"
      ],
      "execution_count": null,
      "outputs": [
        {
          "output_type": "stream",
          "text": [
            "Вы получите: 832$ 32¢\n"
          ],
          "name": "stdout"
        }
      ]
    },
    {
      "cell_type": "code",
      "metadata": {
        "id": "RqX-8ntqwb5y"
      },
      "source": [
        "def Rub2Dol(x):\n",
        "  dollars = int(x//kurs_dollara)\n",
        "  cent = int((x/kurs_dollara - x//kurs_dollara)*100)\n",
        "  print('Вы получите: ',dollars,'$ ',cent,'¢',sep='')"
      ],
      "execution_count": null,
      "outputs": []
    },
    {
      "cell_type": "code",
      "metadata": {
        "id": "vPUqYEKExSaA",
        "colab": {
          "base_uri": "https://localhost:8080/",
          "height": 34
        },
        "outputId": "33288f57-b216-41d9-fba9-dc82e318044c"
      },
      "source": [
        "Rub2Dol(25467)"
      ],
      "execution_count": null,
      "outputs": [
        {
          "output_type": "stream",
          "text": [
            "Вы получите: 372$ 70¢\n"
          ],
          "name": "stdout"
        }
      ]
    },
    {
      "cell_type": "code",
      "metadata": {
        "id": "jdJYKtWxxahH",
        "colab": {
          "base_uri": "https://localhost:8080/",
          "height": 34
        },
        "outputId": "e19ba1d4-2d68-4ee4-8710-2971460b1a10"
      },
      "source": [
        "Rub2Dol(56873)"
      ],
      "execution_count": null,
      "outputs": [
        {
          "output_type": "stream",
          "text": [
            "Вы получите: 832$ 32¢\n"
          ],
          "name": "stdout"
        }
      ]
    },
    {
      "cell_type": "code",
      "metadata": {
        "id": "RFh2Bive6K8g"
      },
      "source": [
        "def ПосчитайДоллары(рубли, курсДоллара, перевестиВевро):\n",
        "  if перевестиВевро==0:\n",
        "    dollars = int(рубли//курсДоллара)\n",
        "    cent = int((рубли/курсДоллара - рубли//курсДоллара)*100)\n",
        "    return dollars, cent\n",
        "  elif перевестиВевро==1:\n",
        "    euro = int(рубли//курсДоллара)\n",
        "    cent = int((рубли/курсДоллара - рубли//курсДоллара)*100)\n",
        "    return euro, cent"
      ],
      "execution_count": null,
      "outputs": []
    },
    {
      "cell_type": "code",
      "metadata": {
        "id": "XVKQYtes6wVe",
        "colab": {
          "base_uri": "https://localhost:8080/",
          "height": 34
        },
        "outputId": "0bc5d543-5294-403b-f061-6710a2dbb7ce"
      },
      "source": [
        "dollars, cents = ПосчитайДоллары(56873, 77.33, 1)\n",
        "print(dollars, cents)"
      ],
      "execution_count": null,
      "outputs": [
        {
          "output_type": "stream",
          "text": [
            "735 45\n"
          ],
          "name": "stdout"
        }
      ]
    },
    {
      "cell_type": "code",
      "metadata": {
        "id": "dyOoTJIT6z4O",
        "colab": {
          "base_uri": "https://localhost:8080/",
          "height": 34
        },
        "outputId": "0e5e8949-a974-4855-a905-28589ec5abb2"
      },
      "source": [
        "ПосчитайДоллары(25467, 68.23, 0)"
      ],
      "execution_count": null,
      "outputs": [
        {
          "output_type": "execute_result",
          "data": {
            "text/plain": [
              "(373, 25)"
            ]
          },
          "metadata": {
            "tags": []
          },
          "execution_count": 103
        }
      ]
    },
    {
      "cell_type": "markdown",
      "metadata": {
        "id": "zeqr-uuTpYKz"
      },
      "source": [
        "**Сигнатура**\n",
        "\n",
        "Функции - это маленькие программы\n",
        "    \n",
        "Чтобы создать собственную функцию, нужно:\n",
        "* придумать и определить название функции\n",
        "* придумать и прописать переменные, которые будет принимать функция на вход (от которых она зависит)\n",
        "* придумать, что будет являться результатом работы функции, т.е. что она будет возвращать"
      ]
    },
    {
      "cell_type": "markdown",
      "metadata": {
        "id": "dsoCNQSYpAD8"
      },
      "source": [
        "### Общий вид глобальной функции\n",
        "\n",
        "*Разбор данного раздела:* https://youtu.be/nE0X9AGwghw?t=718"
      ]
    },
    {
      "cell_type": "markdown",
      "metadata": {
        "id": "gjUpYtLahyD7"
      },
      "source": [
        "Глобальные функции используются повсеместно, но вид их со стороны практически всегда одинаков:\n",
        "```\n",
        "def functionName(parameters):\n",
        "  suite\n",
        "```\n",
        "\n",
        "\n",
        "*   ```functionName``` - название (имя) функции\n",
        "*   ```parameters``` - параметры  являются необязательными и при наличии \n",
        "более одного параметра записываются как последовательность \n",
        "идентификаторов через запятую или в виде последовательности пар ```identifier=value```\n",
        "\n",
        "*   ```suite``` - тело функции, то есть последовательность выполнения определенных действий \n",
        "\n",
        "\n",
        " \n"
      ]
    },
    {
      "cell_type": "code",
      "metadata": {
        "id": "RqjYRamzpYKz"
      },
      "source": [
        "def my_function(var_1, var_2, var_3): # Создаем функцию с тремя параметрами   \n",
        "    return var_1 + var_2 * var_3    # Выводим математическое выражение с использованием наших параметров"
      ],
      "execution_count": null,
      "outputs": []
    },
    {
      "cell_type": "code",
      "metadata": {
        "id": "kk6Gk6pf4THZ",
        "colab": {
          "base_uri": "https://localhost:8080/",
          "height": 34
        },
        "outputId": "1a767df0-b9ae-487a-db05-148cd17972bb"
      },
      "source": [
        "x = my_function(4, 5, 5) # Присвоим переменной 'x' нашу функцию со значениями 4, 5, 5\n",
        "print(x)                 # Выведем 'x'"
      ],
      "execution_count": null,
      "outputs": [
        {
          "output_type": "stream",
          "text": [
            "29\n"
          ],
          "name": "stdout"
        }
      ]
    },
    {
      "cell_type": "code",
      "metadata": {
        "id": "qj4I2EyPbO_k",
        "colab": {
          "base_uri": "https://localhost:8080/",
          "height": 34
        },
        "outputId": "d175d23a-eb25-489c-b0a9-a260ce2a74a0"
      },
      "source": [
        "print(my_function)"
      ],
      "execution_count": null,
      "outputs": [
        {
          "output_type": "stream",
          "text": [
            "<function my_function at 0x7fdd5fae6048>\n"
          ],
          "name": "stdout"
        }
      ]
    },
    {
      "cell_type": "code",
      "metadata": {
        "id": "oxWnBfaGuLOr",
        "colab": {
          "base_uri": "https://localhost:8080/",
          "height": 51
        },
        "outputId": "3980db91-1ef1-4246-d1d6-ac511870c46b"
      },
      "source": [
        "print('Мы до функции')\n",
        "def my_function(var_1, var_2, var_3): # Создание функции     \n",
        "  print('Мы внутри функции')          # То, что находится внутри функции считается только тогда, когда эта функция вызывается\n",
        "  return var_1 + var_2 * var_3        # Вывод функции  \n",
        "print('Мы вне функции')"
      ],
      "execution_count": null,
      "outputs": [
        {
          "output_type": "stream",
          "text": [
            "Мы до функции\n",
            "Мы вне функции\n"
          ],
          "name": "stdout"
        }
      ]
    },
    {
      "cell_type": "code",
      "metadata": {
        "id": "mdJ7pSO24shc",
        "colab": {
          "base_uri": "https://localhost:8080/",
          "height": 51
        },
        "outputId": "a861366c-2bfe-4933-93f1-bb2ddd222c40"
      },
      "source": [
        "x = my_function(1, 2, 5) # Присвоим переменной 'x' нашу функцию со значениями 1, 2, 5\n",
        "print(x)                 # Выводим 'x'"
      ],
      "execution_count": null,
      "outputs": [
        {
          "output_type": "stream",
          "text": [
            "Мы внутри функции\n",
            "11\n"
          ],
          "name": "stdout"
        }
      ]
    },
    {
      "cell_type": "code",
      "metadata": {
        "id": "aUfmfdPX_x9j",
        "colab": {
          "base_uri": "https://localhost:8080/",
          "height": 51
        },
        "outputId": "e11a99ee-5a22-4605-af35-8210309a7689"
      },
      "source": [
        "print('2')\n",
        "x = 1 +2*5\n",
        "print(x) "
      ],
      "execution_count": null,
      "outputs": [
        {
          "output_type": "stream",
          "text": [
            "2\n",
            "11\n"
          ],
          "name": "stdout"
        }
      ]
    },
    {
      "cell_type": "code",
      "metadata": {
        "id": "QwZjXRiGb8CZ",
        "colab": {
          "base_uri": "https://localhost:8080/",
          "height": 357
        },
        "outputId": "773508b0-efd8-4b9a-a0c2-bce7d0498962"
      },
      "source": [
        "for i in range(10):         # Создаем цикл со значением i от 0 до 10\n",
        "  x = my_function(1, i, 5)  # Вставляем функцию в цикл, вывод которой будет меняться в зависимости от параметра i\n",
        "  print(x)                  # Выводим 'x'"
      ],
      "execution_count": null,
      "outputs": [
        {
          "output_type": "stream",
          "text": [
            "Мы внутри функции\n",
            "1\n",
            "Мы внутри функции\n",
            "6\n",
            "Мы внутри функции\n",
            "11\n",
            "Мы внутри функции\n",
            "16\n",
            "Мы внутри функции\n",
            "21\n",
            "Мы внутри функции\n",
            "26\n",
            "Мы внутри функции\n",
            "31\n",
            "Мы внутри функции\n",
            "36\n",
            "Мы внутри функции\n",
            "41\n",
            "Мы внутри функции\n",
            "46\n"
          ],
          "name": "stdout"
        }
      ]
    },
    {
      "cell_type": "markdown",
      "metadata": {
        "id": "XymPsEkFpYK0"
      },
      "source": [
        "#### **Пример 1:**\n",
        "\n",
        "*Разбор данного раздела:* https://youtu.be/nE0X9AGwghw?t=1252\n",
        "    \n",
        "Написать функцию, которая выполняет сложение двух чисел"
      ]
    },
    {
      "cell_type": "code",
      "metadata": {
        "id": "WvWfwxlKpYK0"
      },
      "source": [
        "def simple_sum(a, b): # Создание функции с двумя параметрами\n",
        "    return a + b      # Вывод функции сумма параметров"
      ],
      "execution_count": null,
      "outputs": []
    },
    {
      "cell_type": "code",
      "metadata": {
        "id": "SDONFDEwpYK1",
        "colab": {
          "base_uri": "https://localhost:8080/",
          "height": 34
        },
        "outputId": "f114ba78-5b0d-4c22-c37e-d1ae9f5b69ce"
      },
      "source": [
        "simple_sum(2, 5)     # Посчитаем значение функции с параметрами 10 и 3"
      ],
      "execution_count": null,
      "outputs": [
        {
          "output_type": "execute_result",
          "data": {
            "text/plain": [
              "7"
            ]
          },
          "metadata": {
            "tags": []
          },
          "execution_count": 113
        }
      ]
    },
    {
      "cell_type": "code",
      "metadata": {
        "id": "a6Urya80cOGL",
        "colab": {
          "base_uri": "https://localhost:8080/",
          "height": 34
        },
        "outputId": "67abd4df-098d-4735-f04d-addb1c198347"
      },
      "source": [
        "simple_sum(a=2, b=5) # Посчитаем значение функции с параметрами 10 и 3"
      ],
      "execution_count": null,
      "outputs": [
        {
          "output_type": "execute_result",
          "data": {
            "text/plain": [
              "7"
            ]
          },
          "metadata": {
            "tags": []
          },
          "execution_count": 114
        }
      ]
    },
    {
      "cell_type": "code",
      "metadata": {
        "id": "FYUCCSBVpYK2",
        "colab": {
          "base_uri": "https://localhost:8080/",
          "height": 34
        },
        "outputId": "ff65cff6-54b0-495b-fa3f-97e869fa2d65"
      },
      "source": [
        "simple_sum(b=2, a=5) # Посчитаем значение функции с параметрами 3 и 10"
      ],
      "execution_count": null,
      "outputs": [
        {
          "output_type": "execute_result",
          "data": {
            "text/plain": [
              "7"
            ]
          },
          "metadata": {
            "tags": []
          },
          "execution_count": 115
        }
      ]
    },
    {
      "cell_type": "code",
      "metadata": {
        "id": "4-twHLa8pYK3"
      },
      "source": [
        "def simple_sum_2():   # Создаем функцию без параметров\n",
        "    return aa + bb    # Вывод функции"
      ],
      "execution_count": null,
      "outputs": []
    },
    {
      "cell_type": "code",
      "metadata": {
        "id": "8d8WDKgD5DQ2",
        "colab": {
          "base_uri": "https://localhost:8080/",
          "height": 231
        },
        "outputId": "76699c4b-e342-4e4b-a404-5ff5f8a6c613"
      },
      "source": [
        "simple_sum_2()        # Функция не работает, т.к. в ней не определены переменные 'aa' и 'bb'"
      ],
      "execution_count": null,
      "outputs": [
        {
          "output_type": "error",
          "ename": "NameError",
          "evalue": "ignored",
          "traceback": [
            "\u001b[0;31m---------------------------------------------------------------------------\u001b[0m",
            "\u001b[0;31mNameError\u001b[0m                                 Traceback (most recent call last)",
            "\u001b[0;32m<ipython-input-2-55af01363b95>\u001b[0m in \u001b[0;36m<module>\u001b[0;34m()\u001b[0m\n\u001b[0;32m----> 1\u001b[0;31m \u001b[0msimple_sum_2\u001b[0m\u001b[0;34m(\u001b[0m\u001b[0;34m)\u001b[0m        \u001b[0;31m# Функция не работает, т.к. в ней не определены переменные 'aa' и 'bb'\u001b[0m\u001b[0;34m\u001b[0m\u001b[0;34m\u001b[0m\u001b[0m\n\u001b[0m",
            "\u001b[0;32m<ipython-input-1-1642679861df>\u001b[0m in \u001b[0;36msimple_sum_2\u001b[0;34m()\u001b[0m\n\u001b[1;32m      1\u001b[0m \u001b[0;32mdef\u001b[0m \u001b[0msimple_sum_2\u001b[0m\u001b[0;34m(\u001b[0m\u001b[0;34m)\u001b[0m\u001b[0;34m:\u001b[0m   \u001b[0;31m# Создаем функцию без параметров\u001b[0m\u001b[0;34m\u001b[0m\u001b[0;34m\u001b[0m\u001b[0m\n\u001b[0;32m----> 2\u001b[0;31m     \u001b[0;32mreturn\u001b[0m \u001b[0maa\u001b[0m \u001b[0;34m+\u001b[0m \u001b[0mbb\u001b[0m    \u001b[0;31m# Вывод функции\u001b[0m\u001b[0;34m\u001b[0m\u001b[0;34m\u001b[0m\u001b[0m\n\u001b[0m",
            "\u001b[0;31mNameError\u001b[0m: name 'aa' is not defined"
          ]
        }
      ]
    },
    {
      "cell_type": "code",
      "metadata": {
        "id": "MTAD0vCjpYK4",
        "colab": {
          "base_uri": "https://localhost:8080/",
          "height": 34
        },
        "outputId": "68accd91-73f9-4443-8b2d-0293645faca7"
      },
      "source": [
        "# Присваиваем переменным aa и bb значения\n",
        "aa = 13\n",
        "bb = 4\n",
        "simple_sum_2() # Запускаем функцию"
      ],
      "execution_count": null,
      "outputs": [
        {
          "output_type": "execute_result",
          "data": {
            "text/plain": [
              "17"
            ]
          },
          "metadata": {
            "tags": []
          },
          "execution_count": 3
        }
      ]
    },
    {
      "cell_type": "code",
      "metadata": {
        "id": "68d4_IpKpYK5"
      },
      "source": [
        "def simple_sub_3(aa, bb):  # Создание функции с двумя параметрами\n",
        "    return aa - bb         # Вывод функции"
      ],
      "execution_count": null,
      "outputs": []
    },
    {
      "cell_type": "code",
      "metadata": {
        "id": "0NiMa-cBpYK7",
        "colab": {
          "base_uri": "https://localhost:8080/",
          "height": 34
        },
        "outputId": "dcdd2dd1-8979-44d9-e952-c7b76bbdd1dd"
      },
      "source": [
        "simple_sub_3(5,9) # Запускаем функцию с присвоением параметрам переменных"
      ],
      "execution_count": null,
      "outputs": [
        {
          "output_type": "execute_result",
          "data": {
            "text/plain": [
              "-4"
            ]
          },
          "metadata": {
            "tags": []
          },
          "execution_count": 6
        }
      ]
    },
    {
      "cell_type": "code",
      "metadata": {
        "id": "XBMoY3z32J7n"
      },
      "source": [
        "def simple_sub_4(x):  # Создание функции с двумя параметрами\n",
        "    return x - bb         # Вывод функции"
      ],
      "execution_count": null,
      "outputs": []
    },
    {
      "cell_type": "code",
      "metadata": {
        "id": "kM4v1qxh2NAb",
        "colab": {
          "base_uri": "https://localhost:8080/",
          "height": 34
        },
        "outputId": "a18d4c4a-d98a-4045-86e8-d9c935fd9cb3"
      },
      "source": [
        "simple_sub_4(10)"
      ],
      "execution_count": null,
      "outputs": [
        {
          "output_type": "execute_result",
          "data": {
            "text/plain": [
              "6"
            ]
          },
          "metadata": {
            "tags": []
          },
          "execution_count": 8
        }
      ]
    },
    {
      "cell_type": "code",
      "metadata": {
        "id": "dXLCdSoUc27E"
      },
      "source": [
        "x = 10\n",
        "def my_func(x):  # Функция с одним параметром\n",
        "  print(x)\n",
        "def my_func2():  # Функция без параметров\n",
        "  print(x)\n",
        "def my_func3(y): # Функция с параметром, который не учавствует в функции\n",
        "  print(x)"
      ],
      "execution_count": null,
      "outputs": []
    },
    {
      "cell_type": "code",
      "metadata": {
        "id": "SjbfMtPQ3X2o",
        "colab": {
          "base_uri": "https://localhost:8080/",
          "height": 34
        },
        "outputId": "68d8e66c-48ea-4e78-d2e7-19ce11db2b5a"
      },
      "source": [
        "my_func(14)"
      ],
      "execution_count": null,
      "outputs": [
        {
          "output_type": "stream",
          "text": [
            "14\n"
          ],
          "name": "stdout"
        }
      ]
    },
    {
      "cell_type": "code",
      "metadata": {
        "id": "9l7wJDUX3jGc",
        "colab": {
          "base_uri": "https://localhost:8080/",
          "height": 34
        },
        "outputId": "e1b77ce9-adf6-43d1-b05a-4f265eadfa9e"
      },
      "source": [
        "my_func2()"
      ],
      "execution_count": null,
      "outputs": [
        {
          "output_type": "stream",
          "text": [
            "10\n"
          ],
          "name": "stdout"
        }
      ]
    },
    {
      "cell_type": "code",
      "metadata": {
        "id": "y39jRtgP3sOG",
        "colab": {
          "base_uri": "https://localhost:8080/",
          "height": 34
        },
        "outputId": "d9363b4e-9249-4b7d-f7ab-fa68afbe9f6e"
      },
      "source": [
        "my_func3(18)"
      ],
      "execution_count": null,
      "outputs": [
        {
          "output_type": "stream",
          "text": [
            "10\n"
          ],
          "name": "stdout"
        }
      ]
    },
    {
      "cell_type": "code",
      "metadata": {
        "id": "L7ihnh71pYK8"
      },
      "source": [
        "d = 10                      # d - глобальная переменная\n",
        "def my_functions(a, b):\n",
        "    c = 5                   # с - локальная переменная\n",
        "    return (a + b + c + d)"
      ],
      "execution_count": null,
      "outputs": []
    },
    {
      "cell_type": "code",
      "metadata": {
        "id": "for0tSHkpYK8",
        "colab": {
          "base_uri": "https://localhost:8080/",
          "height": 34
        },
        "outputId": "9944e737-b3c0-4080-e4ab-c38c3004c72e"
      },
      "source": [
        "my_functions(1, 1)"
      ],
      "execution_count": null,
      "outputs": [
        {
          "output_type": "execute_result",
          "data": {
            "text/plain": [
              "17"
            ]
          },
          "metadata": {
            "tags": []
          },
          "execution_count": 15
        }
      ]
    },
    {
      "cell_type": "code",
      "metadata": {
        "id": "e7xCltYopYK-",
        "colab": {
          "base_uri": "https://localhost:8080/",
          "height": 34
        },
        "outputId": "e697463b-f636-47ab-9aef-557b7215164e"
      },
      "source": [
        "# Вызов функции с локальными и глобольными переменными\n",
        "d = 10\n",
        "a = 4\n",
        "b = 4\n",
        "my_functions(1, 1)"
      ],
      "execution_count": null,
      "outputs": [
        {
          "output_type": "execute_result",
          "data": {
            "text/plain": [
              "17"
            ]
          },
          "metadata": {
            "tags": []
          },
          "execution_count": 16
        }
      ]
    },
    {
      "cell_type": "code",
      "metadata": {
        "id": "-sDyK-WDpYK_",
        "colab": {
          "base_uri": "https://localhost:8080/",
          "height": 34
        },
        "outputId": "8c90f324-0b22-4380-ea4f-9330835c687e"
      },
      "source": [
        "d = 10\n",
        "a = 4\n",
        "b = 4\n",
        "c = 50 # Если присваиваем значение переменной вне функции, \n",
        "       # во время вызова функции она будет имеет значение, \n",
        "       # которое ей присвоено в теле функции\n",
        "my_functions(1, 1)"
      ],
      "execution_count": null,
      "outputs": [
        {
          "output_type": "execute_result",
          "data": {
            "text/plain": [
              "17"
            ]
          },
          "metadata": {
            "tags": []
          },
          "execution_count": 17
        }
      ]
    },
    {
      "cell_type": "code",
      "metadata": {
        "id": "d7NAab4BpYLB",
        "colab": {
          "base_uri": "https://localhost:8080/",
          "height": 34
        },
        "outputId": "df8ca425-3ea7-4578-fffd-e280a45a3b0d"
      },
      "source": [
        "my_functions(a=a, b=b) # Присваиваем параметрам функции значения глобальных переменных"
      ],
      "execution_count": null,
      "outputs": [
        {
          "output_type": "execute_result",
          "data": {
            "text/plain": [
              "23"
            ]
          },
          "metadata": {
            "tags": []
          },
          "execution_count": 19
        }
      ]
    },
    {
      "cell_type": "code",
      "metadata": {
        "id": "tNrrd2Yi56KH"
      },
      "source": [
        "def my_func_default(a = 10, b = 20): # Функция с определенными параметрами \n",
        "  return a+b"
      ],
      "execution_count": null,
      "outputs": []
    },
    {
      "cell_type": "code",
      "metadata": {
        "id": "GW6wbgeD6Fos",
        "colab": {
          "base_uri": "https://localhost:8080/",
          "height": 34
        },
        "outputId": "7af17899-2130-46a7-ce6a-9977863509bd"
      },
      "source": [
        "my_func_default(1) # Если выставляем только один параметр, значение присваивается только первому, т.е. a=1, b=20"
      ],
      "execution_count": null,
      "outputs": [
        {
          "output_type": "execute_result",
          "data": {
            "text/plain": [
              "21"
            ]
          },
          "metadata": {
            "tags": []
          },
          "execution_count": 26
        }
      ]
    },
    {
      "cell_type": "code",
      "metadata": {
        "id": "xHIOZioi6JVZ",
        "colab": {
          "base_uri": "https://localhost:8080/",
          "height": 34
        },
        "outputId": "bed9f5b0-9bbb-4cc3-a56f-1cf4eaafbc53"
      },
      "source": [
        "my_func_default()  # Если запускаем функцию, не указывая параметры,\n",
        "                   # то значения параметров остаются теми же , что при создании функции"
      ],
      "execution_count": null,
      "outputs": [
        {
          "output_type": "execute_result",
          "data": {
            "text/plain": [
              "30"
            ]
          },
          "metadata": {
            "tags": []
          },
          "execution_count": 37
        }
      ]
    },
    {
      "cell_type": "code",
      "metadata": {
        "id": "ac-LeJ_Q6L36",
        "colab": {
          "base_uri": "https://localhost:8080/",
          "height": 34
        },
        "outputId": "f452521e-1a81-4afe-ad50-6e6cb621fd9c"
      },
      "source": [
        "my_func_default(b = 3)"
      ],
      "execution_count": null,
      "outputs": [
        {
          "output_type": "execute_result",
          "data": {
            "text/plain": [
              "13"
            ]
          },
          "metadata": {
            "tags": []
          },
          "execution_count": 38
        }
      ]
    },
    {
      "cell_type": "markdown",
      "metadata": {
        "id": "Xw_eYymspYLC"
      },
      "source": [
        "#### **Пример 2:**\n",
        "\n",
        "*Разбор данного раздела:* https://youtu.be/nE0X9AGwghw?t=2627\n",
        "\n",
        "Написать функцию, которая считает сумму чисел от a до b включительно"
      ]
    },
    {
      "cell_type": "code",
      "metadata": {
        "id": "QzE8wW9MpYLC"
      },
      "source": [
        "def sum_numbers(a, b): # Создание функции с двумя параметрами(значения последовательности range)\n",
        "    sum_ = 0\n",
        "    for i in range(a, b+1):\n",
        "        sum_ += i\n",
        "    return sum_"
      ],
      "execution_count": null,
      "outputs": []
    },
    {
      "cell_type": "code",
      "metadata": {
        "id": "yuPxVY_rpYLE",
        "colab": {
          "base_uri": "https://localhost:8080/",
          "height": 34
        },
        "outputId": "380fa001-e9d8-4396-e8c8-de7285ee2f8e"
      },
      "source": [
        "sum_numbers(9, 33) # Считаем значение функции с параметрами 1 и 3"
      ],
      "execution_count": null,
      "outputs": [
        {
          "output_type": "execute_result",
          "data": {
            "text/plain": [
              "525"
            ]
          },
          "metadata": {
            "tags": []
          },
          "execution_count": 32
        }
      ]
    },
    {
      "cell_type": "code",
      "metadata": {
        "id": "RzsFBHKlpYLF",
        "colab": {
          "base_uri": "https://localhost:8080/",
          "height": 34
        },
        "outputId": "7d072145-da11-4e41-b1cb-f36f1cf79f71"
      },
      "source": [
        "1 + 2 + 3 # Проверяем правильно ли работает функция"
      ],
      "execution_count": null,
      "outputs": [
        {
          "output_type": "execute_result",
          "data": {
            "text/plain": [
              "6"
            ]
          },
          "metadata": {
            "tags": []
          },
          "execution_count": 30
        }
      ]
    },
    {
      "cell_type": "markdown",
      "metadata": {
        "id": "S91WnxxVpYLG"
      },
      "source": [
        "## **Область видимости**\n",
        "\n",
        "\n",
        "* Локальная область видимости \n",
        "* Глобальная область видимости"
      ]
    },
    {
      "cell_type": "markdown",
      "metadata": {
        "id": "fMs5Q1-RpYLH"
      },
      "source": [
        "**Локальная область видимости**\n",
        "\n",
        "*Разбор данного раздела:* https://youtu.be/nE0X9AGwghw?t=2746"
      ]
    },
    {
      "cell_type": "code",
      "metadata": {
        "id": "7G5Gdx13pYLH"
      },
      "source": [
        "x = 10 # Глобальная переменная\n",
        "c = 5\n",
        "def my_function():\n",
        "  c = 22\n",
        "  z = 6\n",
        "  print(c)\n",
        "  print(x)\n",
        "  print(z)"
      ],
      "execution_count": null,
      "outputs": []
    },
    {
      "cell_type": "code",
      "metadata": {
        "id": "-14HoNGbHDut",
        "colab": {
          "base_uri": "https://localhost:8080/",
          "height": 102
        },
        "outputId": "f9a5ed5b-4892-47d9-bba5-0c7bfeed2305"
      },
      "source": [
        "my_function()\n",
        "print(x)\n",
        "print(c)  "
      ],
      "execution_count": null,
      "outputs": [
        {
          "output_type": "stream",
          "text": [
            "22\n",
            "10\n",
            "6\n",
            "10\n",
            "5\n"
          ],
          "name": "stdout"
        }
      ]
    },
    {
      "cell_type": "code",
      "metadata": {
        "id": "6ixejL5YpYLJ",
        "colab": {
          "base_uri": "https://localhost:8080/",
          "height": 163
        },
        "outputId": "4411552f-45b2-4aa1-91b8-edfc1baf28fa"
      },
      "source": [
        "my_function(1, 2)"
      ],
      "execution_count": null,
      "outputs": [
        {
          "output_type": "error",
          "ename": "TypeError",
          "evalue": "ignored",
          "traceback": [
            "\u001b[0;31m---------------------------------------------------------------------------\u001b[0m",
            "\u001b[0;31mTypeError\u001b[0m                                 Traceback (most recent call last)",
            "\u001b[0;32m<ipython-input-36-34659f2eba50>\u001b[0m in \u001b[0;36m<module>\u001b[0;34m()\u001b[0m\n\u001b[0;32m----> 1\u001b[0;31m \u001b[0mmy_function\u001b[0m\u001b[0;34m(\u001b[0m\u001b[0;36m1\u001b[0m\u001b[0;34m,\u001b[0m \u001b[0;36m2\u001b[0m\u001b[0;34m)\u001b[0m\u001b[0;34m\u001b[0m\u001b[0;34m\u001b[0m\u001b[0m\n\u001b[0m",
            "\u001b[0;31mTypeError\u001b[0m: my_function() takes 0 positional arguments but 2 were given"
          ]
        }
      ]
    },
    {
      "cell_type": "code",
      "metadata": {
        "id": "kxxnO-6G7KLy",
        "colab": {
          "base_uri": "https://localhost:8080/",
          "height": 163
        },
        "outputId": "bbf1fe66-88ea-4788-b41d-ec156d7a6e96"
      },
      "source": [
        "print(z)"
      ],
      "execution_count": null,
      "outputs": [
        {
          "output_type": "error",
          "ename": "NameError",
          "evalue": "ignored",
          "traceback": [
            "\u001b[0;31m---------------------------------------------------------------------------\u001b[0m",
            "\u001b[0;31mNameError\u001b[0m                                 Traceback (most recent call last)",
            "\u001b[0;32m<ipython-input-37-c01ac3f50fdc>\u001b[0m in \u001b[0;36m<module>\u001b[0;34m()\u001b[0m\n\u001b[0;32m----> 1\u001b[0;31m \u001b[0mprint\u001b[0m\u001b[0;34m(\u001b[0m\u001b[0mz\u001b[0m\u001b[0;34m)\u001b[0m\u001b[0;34m\u001b[0m\u001b[0;34m\u001b[0m\u001b[0m\n\u001b[0m",
            "\u001b[0;31mNameError\u001b[0m: name 'z' is not defined"
          ]
        }
      ]
    },
    {
      "cell_type": "markdown",
      "metadata": {
        "id": "EdeF4YuYpYLJ"
      },
      "source": [
        "z - не определена, т.е. **вне области видимости функции**"
      ]
    },
    {
      "cell_type": "code",
      "metadata": {
        "id": "r7nNqu_gpYLK"
      },
      "source": [
        "def my_function(a, b): # Функция с двумя параметрами и дной локальной переменной k\n",
        "    k = 10\n",
        "    print(a, b, k)"
      ],
      "execution_count": null,
      "outputs": []
    },
    {
      "cell_type": "code",
      "metadata": {
        "id": "-bs_e-dNpYLM",
        "colab": {
          "base_uri": "https://localhost:8080/",
          "height": 34
        },
        "outputId": "9b810717-31f0-4569-a720-afd47b932a34"
      },
      "source": [
        "my_function(1, 2)"
      ],
      "execution_count": null,
      "outputs": [
        {
          "output_type": "stream",
          "text": [
            "1 2 10\n"
          ],
          "name": "stdout"
        }
      ]
    },
    {
      "cell_type": "code",
      "metadata": {
        "id": "gsWNZEzupYLN",
        "colab": {
          "base_uri": "https://localhost:8080/",
          "height": 163
        },
        "outputId": "96b6c319-a2a7-4a96-b729-d13b2ff1b7cf"
      },
      "source": [
        "print(k)"
      ],
      "execution_count": null,
      "outputs": [
        {
          "output_type": "error",
          "ename": "NameError",
          "evalue": "ignored",
          "traceback": [
            "\u001b[0;31m---------------------------------------------------------------------------\u001b[0m",
            "\u001b[0;31mNameError\u001b[0m                                 Traceback (most recent call last)",
            "\u001b[0;32m<ipython-input-40-eb2fa875d160>\u001b[0m in \u001b[0;36m<module>\u001b[0;34m()\u001b[0m\n\u001b[0;32m----> 1\u001b[0;31m \u001b[0mprint\u001b[0m\u001b[0;34m(\u001b[0m\u001b[0mk\u001b[0m\u001b[0;34m)\u001b[0m\u001b[0;34m\u001b[0m\u001b[0;34m\u001b[0m\u001b[0m\n\u001b[0m",
            "\u001b[0;31mNameError\u001b[0m: name 'k' is not defined"
          ]
        }
      ]
    },
    {
      "cell_type": "markdown",
      "metadata": {
        "id": "kxWm13BcpYLO"
      },
      "source": [
        "k - определена **только внутри функции**"
      ]
    },
    {
      "cell_type": "markdown",
      "metadata": {
        "id": "bMWIjoRQpYLO"
      },
      "source": [
        "**Глобальная область видимости**\n",
        "\n",
        "*Разбор данного раздела:* https://youtu.be/nE0X9AGwghw?t=3116"
      ]
    },
    {
      "cell_type": "code",
      "metadata": {
        "id": "u_Xc1NF4pYLP"
      },
      "source": [
        "def my_function(a, b):\n",
        "    global k             # Присваиваем переменной k глобальную область видимости\n",
        "                         # т.е. она будет работать и вне нашей функции\n",
        "    k = 10\n",
        "    print(a, b, k)"
      ],
      "execution_count": null,
      "outputs": []
    },
    {
      "cell_type": "code",
      "metadata": {
        "id": "13wR8fBepYLP",
        "colab": {
          "base_uri": "https://localhost:8080/",
          "height": 34
        },
        "outputId": "035f5982-77e3-458a-f1c4-3ce767d5db3f"
      },
      "source": [
        "my_function(1, 2)"
      ],
      "execution_count": null,
      "outputs": [
        {
          "output_type": "stream",
          "text": [
            "1 2 10\n"
          ],
          "name": "stdout"
        }
      ]
    },
    {
      "cell_type": "code",
      "metadata": {
        "id": "H0Rb3pjDpYLQ",
        "colab": {
          "base_uri": "https://localhost:8080/",
          "height": 34
        },
        "outputId": "6eea5d76-ce25-46b6-ff02-e8f621309a9d"
      },
      "source": [
        "print(k)"
      ],
      "execution_count": null,
      "outputs": [
        {
          "output_type": "stream",
          "text": [
            "10\n"
          ],
          "name": "stdout"
        }
      ]
    },
    {
      "cell_type": "markdown",
      "metadata": {
        "id": "xtVGTYPjtXzV"
      },
      "source": [
        "## *Общий вид локальной функции*\n",
        "\n",
        "*Разбор данного раздела:* https://youtu.be/nE0X9AGwghw?t=3199"
      ]
    },
    {
      "cell_type": "markdown",
      "metadata": {
        "id": "5c_g3g0xtjM0"
      },
      "source": [
        "Локальные функции помогают реализовывать сложные задачи в глобальной функции, взяв на себя маленькую подзадачу. Важно то, что чем меньше функция будет брать на себя задач, тем легче ее написать и протестировать. Если при этом разместить ее в области видимости глобальной функции, где она только и применяется, то можно получить удобный скрытый инструмент.\n",
        "\n",
        "```\n",
        "def GlobalfunctionName(global_parameters):\n",
        "  ...\n",
        "  def LocalfunctionName(local_parameters):\n",
        "    suite\n",
        "  ...\n",
        "```"
      ]
    },
    {
      "cell_type": "markdown",
      "metadata": {
        "id": "D4pw70qJjp9r"
      },
      "source": [
        "### Что и как подавать на вход функции?\n",
        "\n",
        "*Разбор данного раздела:* https://youtu.be/nE0X9AGwghw?t=3254\n"
      ]
    },
    {
      "cell_type": "markdown",
      "metadata": {
        "id": "30pzOE7Tv4E3"
      },
      "source": [
        "Для изменения поведения функции необходимо использовать параметры, которые подаются ей на вход. Давайте посмотрим, как эти параметры можно передавать в функцию."
      ]
    },
    {
      "cell_type": "markdown",
      "metadata": {
        "id": "lHBBBLlukcQz"
      },
      "source": [
        "Позиционные аргументы"
      ]
    },
    {
      "cell_type": "code",
      "metadata": {
        "id": "2kX_vSWCco5e"
      },
      "source": [
        "# Подсчет периметра треугольника\n",
        "def perimetr(a, b, c):\n",
        "  p = a + b + c\n",
        "  print(p)"
      ],
      "execution_count": null,
      "outputs": []
    },
    {
      "cell_type": "code",
      "metadata": {
        "id": "tUVfTbFG8RPU",
        "colab": {
          "base_uri": "https://localhost:8080/",
          "height": 34
        },
        "outputId": "175892ae-156d-43ca-d4bb-fb4a3371ee7d"
      },
      "source": [
        "perimetr(3,4,5)"
      ],
      "execution_count": null,
      "outputs": [
        {
          "output_type": "stream",
          "text": [
            "12\n"
          ],
          "name": "stdout"
        }
      ]
    },
    {
      "cell_type": "code",
      "metadata": {
        "id": "z7RHDwm68e02"
      },
      "source": [
        "def perimetr(num):\n",
        "  def get_length(i):\n",
        "    return (int(input('Введите длину стороны ' + str(i+1)+': ')))\n",
        "  p=0\n",
        "  for i in range(num):\n",
        "    p+=get_length(i)  \n",
        "  print('Периметр равен: ', p)\n"
      ],
      "execution_count": null,
      "outputs": []
    },
    {
      "cell_type": "code",
      "metadata": {
        "id": "JrQc2NaC8vCA",
        "colab": {
          "base_uri": "https://localhost:8080/",
          "height": 153
        },
        "outputId": "3136f5dc-74df-4f62-dd28-7762e2696a8a"
      },
      "source": [
        "perimetr(7)"
      ],
      "execution_count": null,
      "outputs": [
        {
          "output_type": "stream",
          "text": [
            "Введите длину стороны 1: 4\n",
            "Введите длину стороны 2: 6\n",
            "Введите длину стороны 3: 2\n",
            "Введите длину стороны 4: 1\n",
            "Введите длину стороны 5: 3\n",
            "Введите длину стороны 6: 6\n",
            "Введите длину стороны 7: 7\n",
            "Периметр равен:  29\n"
          ],
          "name": "stdout"
        }
      ]
    },
    {
      "cell_type": "markdown",
      "metadata": {
        "id": "8YIUkX-nkuof"
      },
      "source": [
        "Все позиционные сразу - распаковка аргументов"
      ]
    },
    {
      "cell_type": "code",
      "metadata": {
        "id": "V5gS7gcAkl-I"
      },
      "source": [
        "# Подсчет суммы чисел\n",
        "def my_sum(*elements):\n",
        "  res = 0\n",
        "  for i in elements:\n",
        "    res += i\n",
        "  print(res)"
      ],
      "execution_count": null,
      "outputs": []
    },
    {
      "cell_type": "code",
      "metadata": {
        "id": "RJ39YVb0-fT5",
        "colab": {
          "base_uri": "https://localhost:8080/",
          "height": 85
        },
        "outputId": "9dbee007-2701-4ef8-dc22-a40f4008e8ba"
      },
      "source": [
        "my_sum(1)\n",
        "my_sum(1,3)\n",
        "my_sum(1,4,5,6)\n",
        "my_sum(1,3,7,9,12)"
      ],
      "execution_count": null,
      "outputs": [
        {
          "output_type": "stream",
          "text": [
            "1\n",
            "4\n",
            "16\n",
            "32\n"
          ],
          "name": "stdout"
        }
      ]
    },
    {
      "cell_type": "code",
      "metadata": {
        "id": "0Exox16eJvWu"
      },
      "source": [
        "def my_sum(*my_list):\n",
        "  print(sum(my_list))"
      ],
      "execution_count": null,
      "outputs": []
    },
    {
      "cell_type": "code",
      "metadata": {
        "id": "5OaewTynJ1bJ",
        "colab": {
          "base_uri": "https://localhost:8080/",
          "height": 34
        },
        "outputId": "04410268-8709-4a89-e3ba-326e6d7aed24"
      },
      "source": [
        "my_sum(1,2,3,4)"
      ],
      "execution_count": null,
      "outputs": [
        {
          "output_type": "stream",
          "text": [
            "10\n"
          ],
          "name": "stdout"
        }
      ]
    },
    {
      "cell_type": "markdown",
      "metadata": {
        "id": "Ic9SwhdakgfS"
      },
      "source": [
        "Именованные аргументы и аргументы по умолчанию"
      ]
    },
    {
      "cell_type": "code",
      "metadata": {
        "id": "8De63mCXk4nS",
        "colab": {
          "base_uri": "https://localhost:8080/",
          "height": 102
        },
        "outputId": "738d1fce-fc89-4e91-cc29-4c8fd437bb9f"
      },
      "source": [
        "# Площадь прямоугольника\n",
        "def sqr_pr(a=2, b=4):\n",
        "  s = a * b\n",
        "  print(s)\n",
        "sqr_pr()\n",
        "sqr_pr(a=3)\n",
        "sqr_pr(a=4,b=8)\n",
        "sqr_pr(4,8)\n",
        "sqr_pr(4)"
      ],
      "execution_count": null,
      "outputs": [
        {
          "output_type": "stream",
          "text": [
            "8\n",
            "12\n",
            "32\n",
            "32\n",
            "16\n"
          ],
          "name": "stdout"
        }
      ]
    },
    {
      "cell_type": "markdown",
      "metadata": {
        "id": "_yvcNK8-lYMz"
      },
      "source": [
        "Все именованные сразу - распаковка отображений"
      ]
    },
    {
      "cell_type": "code",
      "metadata": {
        "id": "HXRrW1tSlfH8"
      },
      "source": [
        "# Вывод всех параметров функции\n",
        "def param_list(**args):\n",
        "  print(args)"
      ],
      "execution_count": null,
      "outputs": []
    },
    {
      "cell_type": "code",
      "metadata": {
        "id": "yPyrCv39_cUL",
        "colab": {
          "base_uri": "https://localhost:8080/",
          "height": 34
        },
        "outputId": "3fafd175-68f9-40f6-acb4-1bdf0c4f9e78"
      },
      "source": [
        "param_list(a=2, b=4, c=6)"
      ],
      "execution_count": null,
      "outputs": [
        {
          "output_type": "stream",
          "text": [
            "{'a': 2, 'b': 4, 'c': 6}\n"
          ],
          "name": "stdout"
        }
      ]
    },
    {
      "cell_type": "code",
      "metadata": {
        "id": "cpiGZXoM_fB0",
        "colab": {
          "base_uri": "https://localhost:8080/",
          "height": 34
        },
        "outputId": "f5dea86c-4966-421d-dcc5-838da2046a6c"
      },
      "source": [
        "param_list(a=2)"
      ],
      "execution_count": null,
      "outputs": [
        {
          "output_type": "stream",
          "text": [
            "{'a': 2}\n"
          ],
          "name": "stdout"
        }
      ]
    },
    {
      "cell_type": "code",
      "metadata": {
        "id": "UEDOXjKE_hFc",
        "colab": {
          "base_uri": "https://localhost:8080/",
          "height": 34
        },
        "outputId": "01bfc442-3665-4ca7-a847-a0642f49c9cc"
      },
      "source": [
        "param_list()"
      ],
      "execution_count": null,
      "outputs": [
        {
          "output_type": "stream",
          "text": [
            "{}\n"
          ],
          "name": "stdout"
        }
      ]
    },
    {
      "cell_type": "code",
      "metadata": {
        "id": "0J6cnSKR_ke4",
        "colab": {
          "base_uri": "https://localhost:8080/",
          "height": 163
        },
        "outputId": "dfdb2482-5ba4-4b30-cfb7-f3741cd37a95"
      },
      "source": [
        "param_list(6)"
      ],
      "execution_count": null,
      "outputs": [
        {
          "output_type": "error",
          "ename": "TypeError",
          "evalue": "ignored",
          "traceback": [
            "\u001b[0;31m---------------------------------------------------------------------------\u001b[0m",
            "\u001b[0;31mTypeError\u001b[0m                                 Traceback (most recent call last)",
            "\u001b[0;32m<ipython-input-66-15c73f66ee06>\u001b[0m in \u001b[0;36m<module>\u001b[0;34m()\u001b[0m\n\u001b[0;32m----> 1\u001b[0;31m \u001b[0mparam_list\u001b[0m\u001b[0;34m(\u001b[0m\u001b[0;36m6\u001b[0m\u001b[0;34m)\u001b[0m\u001b[0;34m\u001b[0m\u001b[0;34m\u001b[0m\u001b[0m\n\u001b[0m",
            "\u001b[0;31mTypeError\u001b[0m: param_list() takes 0 positional arguments but 1 was given"
          ]
        }
      ]
    },
    {
      "cell_type": "markdown",
      "metadata": {
        "id": "Yoy1bjyZjzq-"
      },
      "source": [
        "### Что ждать на выходе функции?\n",
        "\n",
        "*Разбор данного раздела:* https://youtu.be/doEwujhBe9c?t=7\n"
      ]
    },
    {
      "cell_type": "markdown",
      "metadata": {
        "id": "URuSUQFunePd"
      },
      "source": [
        "Возращение значений - ```return```"
      ]
    },
    {
      "cell_type": "code",
      "metadata": {
        "id": "YQ9QpU4GoZQU",
        "colab": {
          "base_uri": "https://localhost:8080/",
          "height": 34
        },
        "outputId": "b9c9300a-4b11-486e-c60a-1f064e283f5b"
      },
      "source": [
        "# Площадь прямоугольника\n",
        "def sqr_pr(a=2,b=4):\n",
        "  s = a * b\n",
        "  return s\n",
        "\n",
        "s = sqr_pr()\n",
        "print(s)"
      ],
      "execution_count": null,
      "outputs": [
        {
          "output_type": "stream",
          "text": [
            "8\n"
          ],
          "name": "stdout"
        }
      ]
    },
    {
      "cell_type": "code",
      "metadata": {
        "id": "hSIjCT-G7f8v",
        "colab": {
          "base_uri": "https://localhost:8080/",
          "height": 51
        },
        "outputId": "3679e517-0dc1-4b4f-f274-90232e5c397d"
      },
      "source": [
        "# Площадь и периметр прямоугольника\n",
        "def sqr_pr(a=2,b=4):\n",
        "  s = a * b\n",
        "  p = 2*(a + b)\n",
        "  return s,p\n",
        "\n",
        "s, p = sqr_pr(4,6)\n",
        "print('s=', s)\n",
        "print('p=', p)"
      ],
      "execution_count": null,
      "outputs": [
        {
          "output_type": "stream",
          "text": [
            "s= 24\n",
            "p= 20\n"
          ],
          "name": "stdout"
        }
      ]
    },
    {
      "cell_type": "markdown",
      "metadata": {
        "id": "dPrao-GHAXSw"
      },
      "source": [
        "### Как назвать функцию?\n",
        "\n",
        "*Разбор данного раздела:* https://youtu.be/doEwujhBe9c?t=148"
      ]
    },
    {
      "cell_type": "markdown",
      "metadata": {
        "id": "F7uCUrODAXSw"
      },
      "source": [
        "Главное правило - используйте осмысленные имена функций и их параметров. И еще:\n",
        "\n",
        "*   Используйте единую схему именования и придерживайтесь ее \n",
        "неуклонно\n",
        "*   Избегайте использовать аббревиатуры в любых именах, если эти \n",
        "аббревиатуры не являются стандартными и не получили широкого\n",
        "распространения\n",
        "*   Имя должно\n",
        "описывать скорее назначение элемента данных, чем его тип\n",
        "*   Имена функций и методов должны говорить о том, что они делают\n",
        "или что они возвращают (в зависимости от их назначения), и \n",
        "никогда -\n",
        "как они это делают, потому что эта характеристика может \n",
        "измениться со временем.\n",
        "\n"
      ]
    },
    {
      "cell_type": "markdown",
      "metadata": {
        "id": "4RV5jxJiAXSx"
      },
      "source": [
        "### Документирование функции\n",
        "\n",
        "*Разбор данного раздела:* https://youtu.be/doEwujhBe9c?t=249\n"
      ]
    },
    {
      "cell_type": "markdown",
      "metadata": {
        "id": "fr8BSiCTAXSy"
      },
      "source": [
        "Хорошим тоном, а чаще даже обязательным правилом, является добавление описания к любой функции, используя строки \n",
        "документирования -\n",
        "это обычные строки, которые следуют сразу за\n",
        "строкой с инструкцией def и перед программным кодом функции."
      ]
    },
    {
      "cell_type": "code",
      "metadata": {
        "id": "DqeKREDpsJs1"
      },
      "source": [
        "# Площадь и периметр прямоугольника\n",
        "def sqr_pr(a=2, b=4):\n",
        "  '''\n",
        "     sqr_pr - подсчет площади и периметра прямоугольника\n",
        "     вход:\n",
        "         a - длина\n",
        "         b - ширина\n",
        "     выход:\n",
        "         (s,p) - площадь и периметр прямоугольника\n",
        "  '''\n",
        "  s = a * b\n",
        "  p = 2*(a + b)\n",
        "  return s,p"
      ],
      "execution_count": null,
      "outputs": []
    },
    {
      "cell_type": "markdown",
      "metadata": {
        "id": "tFBs9vQC6XNK"
      },
      "source": [
        "## Lambda-Функции\n",
        "\n",
        "*Разбор данного раздела:* https://youtu.be/doEwujhBe9c?t=300"
      ]
    },
    {
      "cell_type": "markdown",
      "metadata": {
        "id": "vM1tYvax6il8"
      },
      "source": [
        "Лямбда-функция - это функция, которая используется только в одном месте и выполняет одну единственную задачу.\n",
        "\n",
        "Лямбда-функции используются для реализации короткого кода функции без необходимости создания для нее длинного описания и создания переменной, как для обычных функций. Часто используются в виде подфункций функций более высокого порядка, то есть в виде локальных функций.\n",
        "\n",
        "+Плюсы: лаконичность, автоматический возврат значения\n",
        "\n",
        "-Минусы: сложный для новичка синтаксис, ухудшение читаемости кода, ограниченная функциональность по сравнению с обычными функциями"
      ]
    },
    {
      "cell_type": "markdown",
      "metadata": {
        "id": "rrE8Wp993_83"
      },
      "source": [
        "### Общий вид лямбда-функций"
      ]
    },
    {
      "cell_type": "markdown",
      "metadata": {
        "id": "BQPz2EqJ4Gkr"
      },
      "source": [
        "Для создания лямбда-функций используется\n",
        "следующий синтаксис:\n",
        "\n",
        "```lambda parameters: expression```\n",
        "\n",
        "\n",
        "*   ```lambda``` - ключевое слово\n",
        "*   ```parameters``` - параметры являются необязательными, но если \n",
        "присутствуют, то обычно представляют собой простой\n",
        "список имен переменных, разделенных запятыми, то\n",
        "есть позиционных аргументов, хотя при необходимости допускается использовать полный синтаксис \n",
        "определения аргументов, используемый в инструкции def для глобальных переменных\n",
        "*   ```expression``` - тело функции (выражение). Лямбда-функция возвращает результат данного выражения\n",
        "\n"
      ]
    },
    {
      "cell_type": "markdown",
      "metadata": {
        "id": "qZdhdKjunmeP"
      },
      "source": [
        "### Использование лямбда-функций"
      ]
    },
    {
      "cell_type": "markdown",
      "metadata": {
        "id": "TIk3i3wfnyts"
      },
      "source": [
        "Простой пример"
      ]
    },
    {
      "cell_type": "code",
      "metadata": {
        "id": "u96jhE6syKsJ",
        "colab": {
          "base_uri": "https://localhost:8080/",
          "height": 51
        },
        "outputId": "865442ca-db69-4869-f903-e21358fe2e07"
      },
      "source": [
        "# Обычная функция(считает квадрат числа)\n",
        "def square(a):\n",
        "  return a**2\n",
        "\n",
        "# Лямбда-функция\n",
        "square_lambda = lambda a: a**2\n",
        "\n",
        "a = 2\n",
        "print('square(a) = ', square(a), type(square))\n",
        "print('square_lambda(a) = ', square_lambda(a), type(square_lambda))"
      ],
      "execution_count": null,
      "outputs": [
        {
          "output_type": "stream",
          "text": [
            "square(a) =  4 <class 'function'>\n",
            "square_lambda(a) =  4 <class 'function'>\n"
          ],
          "name": "stdout"
        }
      ]
    },
    {
      "cell_type": "markdown",
      "metadata": {
        "id": "3Kb9_mKZpw3Y"
      },
      "source": [
        "Создание и выполнение лямбда-функций"
      ]
    },
    {
      "cell_type": "code",
      "metadata": {
        "id": "WDPKrCsmzb8n",
        "colab": {
          "base_uri": "https://localhost:8080/",
          "height": 51
        },
        "outputId": "9e361b68-62d5-4323-d9cf-d444f9ec1b5a"
      },
      "source": [
        "# Способ №1\n",
        "square_lambda = lambda a: a**2\n",
        "print(square_lambda(a))\n",
        "\n",
        "# Способ №2\n",
        "print((lambda a: a**2)(a))\n"
      ],
      "execution_count": null,
      "outputs": [
        {
          "output_type": "stream",
          "text": [
            "4\n",
            "4\n"
          ],
          "name": "stdout"
        }
      ]
    },
    {
      "cell_type": "markdown",
      "metadata": {
        "id": "zdgKzk0Yq3o_"
      },
      "source": [
        "Классические конструкции с лямбда-функциями"
      ]
    },
    {
      "cell_type": "code",
      "metadata": {
        "id": "rAoqXA-e0EW9",
        "colab": {
          "base_uri": "https://localhost:8080/",
          "height": 34
        },
        "outputId": "f18b7383-edae-4018-93d8-618d926f4efd"
      },
      "source": [
        "# В паре с map\n",
        "list(map(lambda x: x.upper(),['cat','dog', 'cow']))"
      ],
      "execution_count": null,
      "outputs": [
        {
          "output_type": "execute_result",
          "data": {
            "text/plain": [
              "['CAT', 'DOG', 'COW']"
            ]
          },
          "metadata": {
            "tags": []
          },
          "execution_count": 62
        }
      ]
    },
    {
      "cell_type": "code",
      "metadata": {
        "id": "i_lMG4_E0qe3",
        "colab": {
          "base_uri": "https://localhost:8080/",
          "height": 34
        },
        "outputId": "aed1e99a-c0d6-4c43-c130-8d7fa450ed46"
      },
      "source": [
        "# В паре с filter\n",
        "list(filter(lambda x: 'o' in x, ['cat','dog', 'cow']))"
      ],
      "execution_count": null,
      "outputs": [
        {
          "output_type": "execute_result",
          "data": {
            "text/plain": [
              "['dog', 'cow']"
            ]
          },
          "metadata": {
            "tags": []
          },
          "execution_count": 63
        }
      ]
    },
    {
      "cell_type": "code",
      "metadata": {
        "id": "MFyK5QrB1Pzf",
        "colab": {
          "base_uri": "https://localhost:8080/",
          "height": 34
        },
        "outputId": "098b1cc7-9dda-49f9-daf2-72e83ab08c4f"
      },
      "source": [
        "# В паре с sorted\n",
        "ids = ['id1','id2','id3','id30','id22','id100']\n",
        "# Лексикографическая сортировка\n",
        "print(sorted(ids))"
      ],
      "execution_count": null,
      "outputs": [
        {
          "output_type": "stream",
          "text": [
            "['id1', 'id100', 'id2', 'id22', 'id3', 'id30']\n"
          ],
          "name": "stdout"
        }
      ]
    },
    {
      "cell_type": "code",
      "metadata": {
        "id": "YBUEYfSSNFoP",
        "colab": {
          "base_uri": "https://localhost:8080/",
          "height": 34
        },
        "outputId": "a75789aa-aefa-4654-c260-29550eae70c1"
      },
      "source": [
        "# Порядок целочисленных индексов\n",
        "sorted_ids = sorted(ids,key = lambda x: int(x[2:]) )\n",
        "print(sorted_ids)"
      ],
      "execution_count": null,
      "outputs": [
        {
          "output_type": "stream",
          "text": [
            "['id1', 'id2', 'id3', 'id22', 'id30', 'id100']\n"
          ],
          "name": "stdout"
        }
      ]
    },
    {
      "cell_type": "markdown",
      "metadata": {
        "id": "-qOUR__crHRD"
      },
      "source": [
        "Аргументы лямбда-функций"
      ]
    },
    {
      "cell_type": "code",
      "metadata": {
        "id": "dXt95_9J2c3g",
        "colab": {
          "base_uri": "https://localhost:8080/",
          "height": 102
        },
        "outputId": "04c7fb9b-60ff-433d-d3ae-eb09e97fdcfc"
      },
      "source": [
        "print((lambda x,y,z: x + y + z)(1,2,3))\n",
        "print((lambda x,y,z=3: x + y + z)(1,2))\n",
        "print((lambda x,y,z=3: x + y + z)(1, y=2))\n",
        "print((lambda *arg: arg[0] + arg[1])(1,2))\n",
        "print((lambda **kwarg: kwarg)(x=1,y=2))"
      ],
      "execution_count": null,
      "outputs": [
        {
          "output_type": "stream",
          "text": [
            "6\n",
            "6\n",
            "6\n",
            "3\n",
            "{'x': 1, 'y': 2}\n"
          ],
          "name": "stdout"
        }
      ]
    },
    {
      "cell_type": "markdown",
      "metadata": {
        "id": "JbEBGGGa-GpA"
      },
      "source": [
        "## Генераторы\n",
        "\n",
        "*Разбор данного раздела:* https://youtu.be/doEwujhBe9c?t=813"
      ]
    },
    {
      "cell_type": "markdown",
      "metadata": {
        "id": "0PUNFlgU-sgU"
      },
      "source": [
        "Очень полезными конструкциями являются объекты, которые можно перечислить, то есть последовательно считать их значения в цикле ```for...in...```\n",
        "\n",
        "Например, когда вы создаёте список, вы можете считывать его элементы один за другим — это называется итерацией:\n",
        "```\n",
        "mylist = [1, 2, 3]\n",
        "for i in mylist :\n",
        "  print(i)\n",
        "```\n",
        "\n",
        "Примерами таких объектов являются списки, строки, файлы.\n",
        "\n",
        "Очень удобно! НО!\n",
        "\n",
        "Все значения итерируемого объекта одновременно загружены в память. И что-то подсказывает, что ваша машина будет себя чувствовать не очень хорошо при попытке сделать\n",
        "```\n",
        "mylist = [x*x for x in range(1000000000)]\n",
        "``` \n",
        "\n",
        "Если же при этом стоит задача все же пройтись по списку ```mylist```?\n",
        "\n",
        "Ответ: использовать генераторы, которые не хранят все значения в памяти, а генерируют их на лету:\n",
        "```\n",
        "mygenerator = (x*x for x in range(3))\n",
        "for i in mygenerator :\n",
        "  print(i)\n",
        "```\n"
      ]
    },
    {
      "cell_type": "markdown",
      "metadata": {
        "id": "tNeFrfsH-AmH"
      },
      "source": [
        "### Общий вид функции генератора\n",
        "\n",
        "*Разбор данного раздела:* https://youtu.be/doEwujhBe9c?t=975\n",
        "\n"
      ]
    },
    {
      "cell_type": "markdown",
      "metadata": {
        "id": "_4gfpb0f-t79"
      },
      "source": [
        "```\n",
        "def generator_name(parameters):\n",
        "  generated_values = [...]\n",
        "  for one_generated_value in generated_values:\n",
        "    yield one_generated_value\n",
        "```\n",
        "\n",
        "\n",
        "*   ```generator_name``` - имя функции генератора\n",
        "*   ```parameters``` - параметры являются необязательными, но если \n",
        "присутствуют, то используются, как параметры обыкновенных функций\n",
        "*   ```generated_values = [...]```  - список тех значений, который необходимо обойти, генерируя очередное значение\n",
        "*   ```one_generated_value``` - очередное значение, выдаваемое генератором\n",
        "*   ```yield``` - ключевое слово, несущее смысл слова ```return```\n"
      ]
    },
    {
      "cell_type": "code",
      "metadata": {
        "id": "HKdOe7NH-GhE",
        "colab": {
          "base_uri": "https://localhost:8080/",
          "height": 68
        },
        "outputId": "8bc98e8e-7e86-4972-94b9-3daa219c9a79"
      },
      "source": [
        "# Пример генератора\n",
        "def square_num(nums):\n",
        "\tfor i in nums:\n",
        "\t\tyield i**2\n",
        "\n",
        "for i in square_num([1,2,3]):\n",
        "  print(i)"
      ],
      "execution_count": null,
      "outputs": [
        {
          "output_type": "stream",
          "text": [
            "1\n",
            "4\n",
            "9\n"
          ],
          "name": "stdout"
        }
      ]
    },
    {
      "cell_type": "markdown",
      "metadata": {
        "id": "zOjiJobRz50M"
      },
      "source": [
        "Важно знать, что повторно обратиться к генератору невозможно, так как значения не запоминаются."
      ]
    },
    {
      "cell_type": "code",
      "metadata": {
        "id": "7J-GUDY_5dvL",
        "colab": {
          "base_uri": "https://localhost:8080/",
          "height": 102
        },
        "outputId": "07ecaa4c-65ef-4332-abfe-8d9b69155e06"
      },
      "source": [
        "# Пример генератора\n",
        "my_generator = (x*x for x in range(3))\n",
        "print(my_generator)\n",
        "for i in my_generator:\n",
        "  print(i)\n",
        "\n",
        "# Повторное обращение к генератору\n",
        "# my_generator = (x*x for x in range(3))\n",
        "print(my_generator)\n",
        "for i in my_generator:\n",
        "  print(i)"
      ],
      "execution_count": null,
      "outputs": [
        {
          "output_type": "stream",
          "text": [
            "<generator object <genexpr> at 0x7fbeacde3678>\n",
            "0\n",
            "1\n",
            "4\n",
            "<generator object <genexpr> at 0x7fbeacde3678>\n"
          ],
          "name": "stdout"
        }
      ]
    },
    {
      "cell_type": "markdown",
      "metadata": {
        "id": "uzq4MPDdJgGP"
      },
      "source": [
        "## Модули\n",
        "\n",
        "*Разбор данного раздела:* https://youtu.be/doEwujhBe9c?t=1270"
      ]
    },
    {
      "cell_type": "markdown",
      "metadata": {
        "id": "iB7QYGhpKxMx"
      },
      "source": [
        "**Модуль** в языке Python - формально любой файл с исходным кодом, имеющий расширение ```.py```. Модульный подход в программировании на Python позволяет решать крупные проектные задачи путем их деления на небольшие подзадачи. \n",
        "\n",
        "Можно условно разделить модули и программы следующим образом: программы предназначены для непосредственного запуска, а модули для импортирования их в другие программы.\n",
        "\n",
        "Ниже представлен граф зависимостей отдельных модулей в небольшом проекте.\n",
        "\n",
        "![alt text](https://present5.com/presentation/1/9628002_14748444.pdf-img/9628002_14748444.pdf-42.jpg)"
      ]
    },
    {
      "cell_type": "markdown",
      "metadata": {
        "id": "CmpL7lIiJsBa"
      },
      "source": [
        "В более крупных проектах модули могут объединяться для решения более крупных подзадач в директории, которые называются **пакеты**. Часто обычную директория от пакета можно отличить по наличию в последнем файла инициализации ```__init__.py``` (с версии Python3.3+ он не обязателен).\n",
        "\n",
        "![alt text](https://drive.google.com/uc?id=1ynhNun5x0g1qbDpiQUpMiZpcqfM7iISL)"
      ]
    },
    {
      "cell_type": "markdown",
      "metadata": {
        "id": "knnGg3LLtp-i"
      },
      "source": [
        "### Основные манипуляции с модулями\n",
        "\n",
        "*Разбор данного раздела:* https://youtu.be/doEwujhBe9c?t=1364"
      ]
    },
    {
      "cell_type": "markdown",
      "metadata": {
        "id": "T5PYaeN1N3y0"
      },
      "source": [
        "#### Создание модуля"
      ]
    },
    {
      "cell_type": "markdown",
      "metadata": {
        "id": "Ai2iQ6FCOLyB"
      },
      "source": [
        "Создание модуля ничем не отличается от написания какой-либо другой программы на языке Python. Условное деление программ на модули и программы, о котором мы говорили выше, на практике осуществляется с фактическим указанием того, что делать модулю в случае его самостоятельной загрузки."
      ]
    },
    {
      "cell_type": "code",
      "metadata": {
        "id": "jjD59N9_dgb_",
        "colab": {
          "base_uri": "https://localhost:8080/",
          "height": 68
        },
        "outputId": "6f64012f-873e-4a66-e167-377831d0871f"
      },
      "source": [
        "# module_name.py\n",
        "print('Module!')\n",
        "def summ(a,b):\n",
        "  return a + b\n",
        "def diff(a,b):\n",
        "  return a - b\n",
        "\n",
        "if __name__ == '__main__':\n",
        "  a=5\n",
        "  b=7\n",
        "  print('{} + {} = {}'.format(a,b,summ(a,b)))\n",
        "  print('{} - {} = {}'.format(a,b,diff(a,b)))"
      ],
      "execution_count": null,
      "outputs": [
        {
          "output_type": "stream",
          "text": [
            "Module!\n",
            "5 + 7 = 12\n",
            "5 - 7 = -2\n"
          ],
          "name": "stdout"
        }
      ]
    },
    {
      "cell_type": "code",
      "metadata": {
        "id": "RPHGFTFFHc6P",
        "colab": {
          "base_uri": "https://localhost:8080/",
          "height": 68
        },
        "outputId": "3fc60641-501d-4b0b-bed9-8ab88e71ce3e"
      },
      "source": [
        "!python module.py"
      ],
      "execution_count": null,
      "outputs": [
        {
          "output_type": "stream",
          "text": [
            "Module!\n",
            "5 + 7 = 12\n",
            "5 - 7 = -2\n"
          ],
          "name": "stdout"
        }
      ]
    },
    {
      "cell_type": "code",
      "metadata": {
        "id": "pp8ZYUmMnLiV",
        "colab": {
          "base_uri": "https://localhost:8080/",
          "height": 51
        },
        "outputId": "3ed83d68-3c90-47d7-a688-eadef3e0a850"
      },
      "source": [
        "from module import * # Импортируем всё содержимое нашего модуля\n",
        "\n",
        "a=10\n",
        "b=24\n",
        "print('Результат: {} + {} = {}'.format(a,b,summ(a,b))) # Функции summ и diff описаны в модуле\n",
        "print('Результат: {} - {} = {}'.format(a,b,diff(a,b)))"
      ],
      "execution_count": null,
      "outputs": [
        {
          "output_type": "stream",
          "text": [
            "Результат: 10 + 24 = 34\n",
            "Результат: 10 - 24 = -14\n"
          ],
          "name": "stdout"
        }
      ]
    },
    {
      "cell_type": "markdown",
      "metadata": {
        "id": "gyK-DKnqOGFz"
      },
      "source": [
        "#### Подключение модуля к проекту"
      ]
    },
    {
      "cell_type": "markdown",
      "metadata": {
        "id": "3rCj0X-YOxkt"
      },
      "source": [
        "Основные конструкции при работе с модулями:\n",
        "```\n",
        "# 1. Импорт модуля или модулей целиком\n",
        "import имя_модуля\n",
        "import имя_модуля1, имя_модуля2\n",
        "\n",
        "# 2. Импорт модуля с присвоением псевдонима модулю\n",
        "import имя_модуля as новое_имя\n",
        "\n",
        "# 3. Импорт конкретного объекта из модуля\n",
        "from имя_модуля import имя_объекта\n",
        "from имя_модуля import имя_объекта1, имя_объекта2\n",
        "\n",
        "# 4. Импорт конкретного объекта из модуля с присвоением псевдонима объекту\n",
        "from имя_модуля import имя_объекта as псевдоним_объекта\n",
        "\n",
        "# 5. Импорт всех объектов из модуля\n",
        "from имя_модуля import *\n",
        "```"
      ]
    },
    {
      "cell_type": "code",
      "metadata": {
        "id": "p-YBDYBVfd3M",
        "colab": {
          "base_uri": "https://localhost:8080/",
          "height": 51
        },
        "outputId": "6205e56b-dfad-448d-8a16-7305dce9ac22"
      },
      "source": [
        "# 1. Импорт модуля или модулей целиком\n",
        "import math, datetime\n",
        "print(math.factorial(5))\n",
        "print(datetime.date(2019,11,30))\n"
      ],
      "execution_count": null,
      "outputs": [
        {
          "output_type": "stream",
          "text": [
            "120\n",
            "2019-11-30\n"
          ],
          "name": "stdout"
        }
      ]
    },
    {
      "cell_type": "code",
      "metadata": {
        "id": "DZ2sLnndgEos"
      },
      "source": [
        "# 2. Импорт модуля с присвоением псевдонима модулю\n",
        "import math as m\n",
        "m.sin(m.pi/3)"
      ],
      "execution_count": null,
      "outputs": []
    },
    {
      "cell_type": "code",
      "metadata": {
        "id": "VvuMJ4e7gSnf",
        "colab": {
          "base_uri": "https://localhost:8080/",
          "height": 34
        },
        "outputId": "70c7b79b-218f-4d2d-e923-933691dfbe44"
      },
      "source": [
        "# 3. Импорт конкретного объекта из модуля\n",
        "from math import cos\n",
        "cos(3.14)"
      ],
      "execution_count": null,
      "outputs": [
        {
          "output_type": "execute_result",
          "data": {
            "text/plain": [
              "-0.9999987317275395"
            ]
          },
          "metadata": {
            "tags": []
          },
          "execution_count": 6
        }
      ]
    },
    {
      "cell_type": "code",
      "metadata": {
        "id": "Rn0W2QYMggmu",
        "colab": {
          "base_uri": "https://localhost:8080/",
          "height": 34
        },
        "outputId": "38f05015-3a3b-4ce5-b90a-a881cdc81e2a"
      },
      "source": [
        "# 4. Импорт конкретного объекта из модуля с присвоением псевдонима объекту\n",
        "from math import factorial as f\n",
        "f(4)"
      ],
      "execution_count": null,
      "outputs": [
        {
          "output_type": "execute_result",
          "data": {
            "text/plain": [
              "24"
            ]
          },
          "metadata": {
            "tags": []
          },
          "execution_count": 7
        }
      ]
    },
    {
      "cell_type": "code",
      "metadata": {
        "id": "aLbY1nuTgvQw",
        "colab": {
          "base_uri": "https://localhost:8080/",
          "height": 34
        },
        "outputId": "83d93eed-3ddc-4577-8739-1461562ab5a3"
      },
      "source": [
        "# 5. Импорт всех объектов из модуля\n",
        "from math import *\n",
        "cos(pi/2)"
      ],
      "execution_count": null,
      "outputs": [
        {
          "output_type": "execute_result",
          "data": {
            "text/plain": [
              "6.123233995736766e-17"
            ]
          },
          "metadata": {
            "tags": []
          },
          "execution_count": 76
        }
      ]
    },
    {
      "cell_type": "code",
      "metadata": {
        "id": "u7RTxhAOyZbi"
      },
      "source": [
        "import module"
      ],
      "execution_count": null,
      "outputs": []
    },
    {
      "cell_type": "code",
      "metadata": {
        "id": "U82jxsHAUzCA",
        "colab": {
          "base_uri": "https://localhost:8080/",
          "height": 34
        },
        "outputId": "795142b8-2fac-4cdf-d596-f56a1056a2fa"
      },
      "source": [
        "module.diff(1, 8)"
      ],
      "execution_count": null,
      "outputs": [
        {
          "output_type": "execute_result",
          "data": {
            "text/plain": [
              "-7"
            ]
          },
          "metadata": {
            "tags": []
          },
          "execution_count": 9
        }
      ]
    },
    {
      "cell_type": "code",
      "metadata": {
        "id": "xEZY_L8gKwd5",
        "colab": {
          "base_uri": "https://localhost:8080/",
          "height": 163
        },
        "outputId": "b29e6e03-3a9f-4de2-9b54-4c0ca05c5a9c"
      },
      "source": [
        "module.prod(2, 3)"
      ],
      "execution_count": null,
      "outputs": [
        {
          "output_type": "error",
          "ename": "AttributeError",
          "evalue": "ignored",
          "traceback": [
            "\u001b[0;31m---------------------------------------------------------------------------\u001b[0m",
            "\u001b[0;31mAttributeError\u001b[0m                            Traceback (most recent call last)",
            "\u001b[0;32m<ipython-input-11-d7ed320ad480>\u001b[0m in \u001b[0;36m<module>\u001b[0;34m()\u001b[0m\n\u001b[0;32m----> 1\u001b[0;31m \u001b[0mmodule\u001b[0m\u001b[0;34m.\u001b[0m\u001b[0mprod\u001b[0m\u001b[0;34m(\u001b[0m\u001b[0;36m2\u001b[0m\u001b[0;34m,\u001b[0m \u001b[0;36m3\u001b[0m\u001b[0;34m)\u001b[0m\u001b[0;34m\u001b[0m\u001b[0;34m\u001b[0m\u001b[0m\n\u001b[0m",
            "\u001b[0;31mAttributeError\u001b[0m: module 'module' has no attribute 'prod'"
          ]
        }
      ]
    },
    {
      "cell_type": "markdown",
      "metadata": {
        "id": "TgAoR0mJtAXL"
      },
      "source": [
        "#### Перезагрузка модуля"
      ]
    },
    {
      "cell_type": "markdown",
      "metadata": {
        "id": "dEVxKHjNxnRd"
      },
      "source": [
        "Важно помнить, что после загрузки, модуль уже не будет перезагружаться при повторном вызове ```import```, даже если внести в него какие-нибудь изменения. Для перезагрузки модуля будем использовать функцию ```reload``` модуля ```imp```."
      ]
    },
    {
      "cell_type": "code",
      "metadata": {
        "id": "fTJjs-pJsqzs",
        "colab": {
          "base_uri": "https://localhost:8080/",
          "height": 51
        },
        "outputId": "2300c629-ba44-4a67-e3a6-466f8fb637b3"
      },
      "source": [
        "import module\n",
        "from imp import reload\n",
        "reload(module)"
      ],
      "execution_count": null,
      "outputs": [
        {
          "output_type": "stream",
          "text": [
            "Module!\n"
          ],
          "name": "stdout"
        },
        {
          "output_type": "execute_result",
          "data": {
            "text/plain": [
              "<module 'module' from '/content/module.py'>"
            ]
          },
          "metadata": {
            "tags": []
          },
          "execution_count": 12
        }
      ]
    },
    {
      "cell_type": "code",
      "metadata": {
        "id": "0vAttjU-U_eL",
        "colab": {
          "base_uri": "https://localhost:8080/",
          "height": 34
        },
        "outputId": "8f8e6aa1-e77f-4867-e7ac-933ce40769c2"
      },
      "source": [
        "module.prod(5,4)"
      ],
      "execution_count": null,
      "outputs": [
        {
          "output_type": "execute_result",
          "data": {
            "text/plain": [
              "20"
            ]
          },
          "metadata": {
            "tags": []
          },
          "execution_count": 13
        }
      ]
    },
    {
      "cell_type": "markdown",
      "metadata": {
        "id": "iQ5kdSe9yudN"
      },
      "source": [
        "#### Просмотр импортированного содержимого"
      ]
    },
    {
      "cell_type": "code",
      "metadata": {
        "id": "SKF8XZMXs5sI",
        "colab": {
          "base_uri": "https://localhost:8080/",
          "height": 204
        },
        "outputId": "6306ebd4-2fee-4031-e3bc-a82352d7afd4"
      },
      "source": [
        "dir(module)"
      ],
      "execution_count": null,
      "outputs": [
        {
          "output_type": "execute_result",
          "data": {
            "text/plain": [
              "['__builtins__',\n",
              " '__cached__',\n",
              " '__doc__',\n",
              " '__file__',\n",
              " '__loader__',\n",
              " '__name__',\n",
              " '__package__',\n",
              " '__spec__',\n",
              " 'diff',\n",
              " 'prod',\n",
              " 'summ']"
            ]
          },
          "metadata": {
            "tags": []
          },
          "execution_count": 16
        }
      ]
    },
    {
      "cell_type": "markdown",
      "metadata": {
        "id": "cT1QmmfvthHP"
      },
      "source": [
        "#### Местонахождение модулей в Python"
      ]
    },
    {
      "cell_type": "markdown",
      "metadata": {
        "id": "P5ouSHIR1-lm"
      },
      "source": [
        "При импорте модуля интерпретатор Python ищет его в следующих местах по порядку:\n",
        "\n",
        "*   в директории, в которой находится файл, в котором вызывается команда импорта\n",
        "\n",
        "*   в каждой директории, определенной в консольной переменной PYTHONPATH.\n",
        "\n",
        "*   в пути заданном по умолчанию\n"
      ]
    },
    {
      "cell_type": "code",
      "metadata": {
        "id": "dvfk0wQshuOy",
        "colab": {
          "base_uri": "https://localhost:8080/",
          "height": 170
        },
        "outputId": "68dc8c97-8a35-4502-fe16-c8988816dac5"
      },
      "source": [
        "import sys\n",
        "sys.path"
      ],
      "execution_count": null,
      "outputs": [
        {
          "output_type": "execute_result",
          "data": {
            "text/plain": [
              "['',\n",
              " '/env/python',\n",
              " '/usr/lib/python36.zip',\n",
              " '/usr/lib/python3.6',\n",
              " '/usr/lib/python3.6/lib-dynload',\n",
              " '/usr/local/lib/python3.6/dist-packages',\n",
              " '/usr/lib/python3/dist-packages',\n",
              " '/usr/local/lib/python3.6/dist-packages/IPython/extensions',\n",
              " '/root/.ipython']"
            ]
          },
          "metadata": {
            "tags": []
          },
          "execution_count": 17
        }
      ]
    },
    {
      "cell_type": "code",
      "metadata": {
        "id": "I4rEt2cxVfbD"
      },
      "source": [
        "import matplotlib.pyplot as plt"
      ],
      "execution_count": null,
      "outputs": []
    },
    {
      "cell_type": "markdown",
      "metadata": {
        "id": "smqTPHI4ySPM"
      },
      "source": [
        "### Подключение модулей из пакетов"
      ]
    },
    {
      "cell_type": "markdown",
      "metadata": {
        "id": "OetMM4-iYxo-"
      },
      "source": [
        "Пример структуры пакета\n",
        "```\n",
        "|- main.py\n",
        "|- my_package\n",
        "         |-  __init__.py\n",
        "         |- my_module.py\n",
        "```"
      ]
    },
    {
      "cell_type": "markdown",
      "metadata": {
        "id": "LXMx_ny1Cg88"
      },
      "source": [
        "# Глоссарий\n",
        "\n",
        "**структура функции:**\n",
        "\n",
        "```\n",
        "  def название(параметры):\n",
        "\n",
        "    *тело функции*\n",
        "\n",
        "    return результат \n",
        "  ```\n",
        "\n",
        "\n",
        "\n",
        "**структура лямбда-функции:**\n",
        "\n",
        "```\n",
        "lambda переменная: действие с вашей переменной\n",
        "```\n",
        "\n",
        "**пример:**\n",
        "\n",
        ">lambda x: (x+2)/3\n",
        "\n",
        "**структура генератора:**\n",
        "\n",
        "```\n",
        "def название(переменные):\n",
        "  генерируемые_значения = [...]\n",
        "  for генерируемое_значение in генерируемые_значения:\n",
        "    yield генерируемое_значение\n",
        "```\n"
      ]
    },
    {
      "cell_type": "markdown",
      "metadata": {
        "id": "j2CvsmvkE8a-"
      },
      "source": [
        "**Локальная переменная** - это переменная, которая имеет локальную область видимости.\n",
        "\n",
        "**Глобальная переменная** - это переменная, которая имеет глобальную область видимости.\n",
        "\n",
        "Область видимости переменной всегда определяется местом, где ей было присвоено значение. Например, переменная, объявленная внутри функции будет иметь локальную область видимости, а переменная вне этой функции будет иметь глобальную область видимости.\n"
      ]
    },
    {
      "cell_type": "markdown",
      "metadata": {
        "id": "bZZ1z0CxIcBN"
      },
      "source": [
        "*global* - позволяет присвоить переменной глобальную область видимости."
      ]
    },
    {
      "cell_type": "markdown",
      "metadata": {
        "id": "ektIYZSfJqRA"
      },
      "source": [
        "**Модуль** в Python это просто файл, содержащий код на Python. Каждый модуль в Python может содержать переменные, объявления классов и функций."
      ]
    },
    {
      "cell_type": "markdown",
      "metadata": {
        "id": "sHnNCfYNQy5N"
      },
      "source": [
        "*return* - возвращает значение функции"
      ]
    },
    {
      "cell_type": "markdown",
      "metadata": {
        "id": "7BDzrPPfK0K3"
      },
      "source": [
        "*yield* - это ключевое слово, которое используется примерно как return — отличие в том, что функция вернёт генератор."
      ]
    },
    {
      "cell_type": "code",
      "metadata": {
        "id": "QUrwxN6_EPfL"
      },
      "source": [],
      "execution_count": null,
      "outputs": []
    }
  ]
}