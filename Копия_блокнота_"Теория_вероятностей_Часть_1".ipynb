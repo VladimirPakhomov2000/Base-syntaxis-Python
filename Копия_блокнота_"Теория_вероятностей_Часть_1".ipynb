{
  "nbformat": 4,
  "nbformat_minor": 0,
  "metadata": {
    "colab": {
      "provenance": [],
      "machine_shape": "hm",
      "include_colab_link": true
    },
    "kernelspec": {
      "name": "python3",
      "display_name": "Python 3"
    }
  },
  "cells": [
    {
      "cell_type": "markdown",
      "metadata": {
        "id": "view-in-github",
        "colab_type": "text"
      },
      "source": [
        "<a href=\"https://colab.research.google.com/github/VladimirPakhomov2000/Base-syntaxis-Python/blob/main/%D0%9A%D0%BE%D0%BF%D0%B8%D1%8F_%D0%B1%D0%BB%D0%BE%D0%BA%D0%BD%D0%BE%D1%82%D0%B0_%22%D0%A2%D0%B5%D0%BE%D1%80%D0%B8%D1%8F_%D0%B2%D0%B5%D1%80%D0%BE%D1%8F%D1%82%D0%BD%D0%BE%D1%81%D1%82%D0%B5%D0%B9_%D0%A7%D0%B0%D1%81%D1%82%D1%8C_1%22.ipynb\" target=\"_parent\"><img src=\"https://colab.research.google.com/assets/colab-badge.svg\" alt=\"Open In Colab\"/></a>"
      ]
    },
    {
      "cell_type": "markdown",
      "metadata": {
        "id": "nIDZJDJptVrB"
      },
      "source": [
        "## Классическое определение вероятности. "
      ]
    },
    {
      "cell_type": "markdown",
      "metadata": {
        "id": "ajo_IFn_fuGN"
      },
      "source": [
        "Задача 1\n",
        "\n",
        "Рассчитайте вероятность:\n",
        "\n",
        "A - извлечение карты масти треф из стандартной колоды в 36 карт;\n",
        "\n",
        "B - извлечение карты любой масти отличной от треф из стандартной колоды в 36 карт."
      ]
    },
    {
      "cell_type": "code",
      "metadata": {
        "id": "f4Beu_iJf8VA",
        "colab": {
          "base_uri": "https://localhost:8080/"
        },
        "outputId": "26613c67-6ebc-439e-e10d-15c2c6ec6e32"
      },
      "source": [
        "# A\n",
        "# P(A) = m/n\n",
        "m = 9   # Кол-во карт масти треф в колоде\n",
        "n = 36  # Полное количество исходов (некорректно утверждение: раз в колоде 4 масти, то вероятность извлечения трефы = 1/4)\n",
        "P = m/n # вероятность что карта треф\n",
        "print(P)"
      ],
      "execution_count": null,
      "outputs": [
        {
          "output_type": "stream",
          "text": [
            "0.25\n"
          ],
          "name": "stdout"
        }
      ]
    },
    {
      "cell_type": "code",
      "metadata": {
        "id": "fPzwzj0enxJK",
        "colab": {
          "base_uri": "https://localhost:8080/"
        },
        "outputId": "176cabf1-fcc4-47a9-df4f-31244c88da0f"
      },
      "source": [
        "# B\n",
        "print(1 - P) # вероятность того, что карта не треф"
      ],
      "execution_count": null,
      "outputs": [
        {
          "output_type": "stream",
          "text": [
            "0.75\n"
          ],
          "name": "stdout"
        }
      ]
    },
    {
      "cell_type": "code",
      "metadata": {
        "id": "LKzENL1qS-Xl",
        "colab": {
          "base_uri": "https://localhost:8080/"
        },
        "outputId": "f23d7ae4-532a-4005-cafe-ca725728a60c"
      },
      "source": [
        "m2 = 27 \n",
        "n = 36    # полное количество исходов (некорректно утверждение: раз в колоде 4 масти, то вероятность извлечения трефы = 1/4)\n",
        "P2 = m2/n # вероятность что карта треф\n",
        "print(P2)"
      ],
      "execution_count": null,
      "outputs": [
        {
          "output_type": "stream",
          "text": [
            "0.75\n"
          ],
          "name": "stdout"
        }
      ]
    },
    {
      "cell_type": "markdown",
      "metadata": {
        "id": "PVo74kHthKV2"
      },
      "source": [
        "Задача 2\n",
        "\n",
        "Из  урны, в которой находятся 10 красных шаров, наугад извлекается 1 шар. Какая вероятность что:\n",
        "\n",
        "A – из урны будет извлечён красный шар;\n",
        "\n",
        "B – из урны будет извлечён черный шар."
      ]
    },
    {
      "cell_type": "code",
      "metadata": {
        "id": "NwMIexOPh80V",
        "colab": {
          "base_uri": "https://localhost:8080/"
        },
        "outputId": "6f719f11-3a5f-4e60-835a-185a8f0341d7"
      },
      "source": [
        "# Исход A\n",
        "m = 10  # Кол-во красных шаров в урне\n",
        "n = 10  # Общее кол-во шаров в урне\n",
        "P = m/n # вероятность что красный\n",
        "print(P)"
      ],
      "execution_count": null,
      "outputs": [
        {
          "output_type": "stream",
          "text": [
            "1.0\n"
          ],
          "name": "stdout"
        }
      ]
    },
    {
      "cell_type": "code",
      "metadata": {
        "id": "RPxKx9XagabQ",
        "colab": {
          "base_uri": "https://localhost:8080/"
        },
        "outputId": "ef0344c8-8a9b-4d0e-d756-220a24b49bb8"
      },
      "source": [
        "# Исход B\n",
        "m = 0   # Кол-во черных шаров в урне\n",
        "n = 10 # Общее кол-во шаров в урне\n",
        "P = m/n # вероятность что черный\n",
        "print(P)"
      ],
      "execution_count": null,
      "outputs": [
        {
          "output_type": "stream",
          "text": [
            "0.0\n"
          ],
          "name": "stdout"
        }
      ]
    },
    {
      "cell_type": "code",
      "metadata": {
        "id": "iPF0tpwkTQvd",
        "colab": {
          "base_uri": "https://localhost:8080/"
        },
        "outputId": "4470b8ea-c028-489e-cf1c-2c5c7801af7d"
      },
      "source": [
        "print(1-P)"
      ],
      "execution_count": null,
      "outputs": [
        {
          "output_type": "stream",
          "text": [
            "1.0\n"
          ],
          "name": "stdout"
        }
      ]
    },
    {
      "cell_type": "markdown",
      "metadata": {
        "id": "rvyUK47MoKUi"
      },
      "source": [
        "Задача 3\n",
        "\n",
        "В урне находится 10 белых, 8 красных и 7 чёрных шаров. Наугад извлекается 1 шар, найти вероятность того, что он будет: \n",
        "\n",
        "а) белым;\n",
        "\n",
        "б) красным;\n",
        "\n",
        "в) чёрным."
      ]
    },
    {
      "cell_type": "code",
      "metadata": {
        "id": "33QslRVGoRZ7"
      },
      "source": [
        "# Функция нохождения вероятности \n",
        "# принимает на вход m – количество элементарных исходов, \n",
        "# благоприятствующих событию (количество шаров заданного цвета)\n",
        "# n – общее число всех равновозможных, элементарных исходов (всего шаров)\n",
        "# h - пункт гипотезы\n",
        "def get_prob(m,n,h):\n",
        "  P = round(m/n,2) \n",
        "  return \"Для гипотезы {}, ответ: {}\".format(h,P)"
      ],
      "execution_count": null,
      "outputs": []
    },
    {
      "cell_type": "code",
      "metadata": {
        "id": "806fk6CPoxXX",
        "colab": {
          "base_uri": "https://localhost:8080/"
        },
        "outputId": "5bdc811d-dfa1-4edd-e0b3-617172bdd8b8"
      },
      "source": [
        "#посчитаем значение вероятности для каждой гипотезы\n",
        "print(get_prob(10, 25,'белые шары: '))\n",
        "print(get_prob(8, 25,'красные шары: '))\n",
        "print(get_prob(7, 25,'черные шары: '))"
      ],
      "execution_count": null,
      "outputs": [
        {
          "output_type": "stream",
          "text": [
            "Для гипотезы белые шары: , ответ: 0.4\n",
            "Для гипотезы красные шары: , ответ: 0.32\n",
            "Для гипотезы черные шары: , ответ: 0.28\n"
          ],
          "name": "stdout"
        }
      ]
    },
    {
      "cell_type": "markdown",
      "metadata": {
        "id": "_PxN6I-sps4Y"
      },
      "source": [
        "Задача 4\n",
        "\n",
        "Набирая номер телефона, абонент забыл две последние цифры, но помнит, что одна из них – двойка, а другая – нечётная. Найти вероятность того, что он наберёт правильный номер."
      ]
    },
    {
      "cell_type": "code",
      "metadata": {
        "id": "EPqKA8dRpz2n",
        "colab": {
          "base_uri": "https://localhost:8080/"
        },
        "outputId": "75c63bbd-e7f4-4892-cb5a-d789677ce19e"
      },
      "source": [
        "# Так как явно число исходов нам не дано в задании, вычислим его самостоятельно, запишем все возможные варианты\n",
        "out = [21, 23, 25, 27, 29, 12, 32, 52, 72, 92]\n",
        "\n",
        "n = len(out) # общее кол-во исходов\n",
        "m = 1        # только одно сочетание правильное\n",
        "\n",
        "print(get_prob(1,len(out),'a'))"
      ],
      "execution_count": null,
      "outputs": [
        {
          "output_type": "stream",
          "text": [
            "Для гипотезы a, ответ: 0.1\n"
          ],
          "name": "stdout"
        }
      ]
    },
    {
      "cell_type": "markdown",
      "metadata": {
        "id": "dEdJ5_8W8xqk"
      },
      "source": [
        "Задача 5\n",
        "\n",
        "Найти вероятность того, что при бросании двух игральных костей в сумме выпадет:\n",
        "\n",
        "a) 7 очков;\n",
        "\n",
        "b) не более 5 очков;\n",
        "\n",
        "c) от 3 до 9 очков включительно."
      ]
    },
    {
      "cell_type": "code",
      "metadata": {
        "id": "z5hqkUpX86Nw",
        "colab": {
          "base_uri": "https://localhost:8080/"
        },
        "outputId": "c94fc4cc-f882-47de-b6b7-85465c5b2281"
      },
      "source": [
        "# Частая ошибка в этой задаче - исходы считают симметричными (1,2) и (2,1) не разделяют, но это не правильно так как это два совершенно разных события\n",
        "n = 36                                                               # 6 возможных вариантов выпадения кости, всего две кости, значит полное кол-во вариантов 6*6=36\n",
        "m_a = [(1,6),(6,1),(2,5),(5,2),(3,4),(4,3)]                          # Возможные комбинации при которых кол-во очков будет = 7\n",
        "m_b = [(1,1),(1,2),(2,1),(1,3),(3,1),(2,2),(1,4),(4,1),(2,3),(3,2)]  # Не более 5 означает что выпадет 2,3,4 или 5 очков            \n",
        "m_c = [(1,1),(4,6),(6,4),(5,5),(5,6),(6,5),(6,6)]                    # Так как кол-во таких комбинаций уже значительно больше, воспользуемся следующим трюком:\n",
        "                                                                     # рассмотрим противоположное соьытие - выпадет 2 или 10 или 11 или 12 очков.\n",
        "print(get_prob(len(m_a),n,'a'))\n",
        "print(get_prob(len(m_b),n,'b'))\n",
        "print(get_prob(len(m_c),n,'не c'))\n",
        "\n",
        "print(\"Для гипотезы c, ответ: {}\".format(1 - len(m_c)/n))         # Так как сумма вероятности противоположных событий равна 1"
      ],
      "execution_count": null,
      "outputs": [
        {
          "output_type": "stream",
          "text": [
            "Для гипотезы a, ответ: 0.17\n",
            "Для гипотезы b, ответ: 0.28\n",
            "Для гипотезы не c, ответ: 0.19\n",
            "Для гипотезы c, ответ: 0.8055555555555556\n"
          ],
          "name": "stdout"
        }
      ]
    },
    {
      "cell_type": "markdown",
      "metadata": {
        "id": "yORuCA0LDHhr"
      },
      "source": [
        "Задача 6\n",
        "\n",
        "В лифт 10-этажного дома на первом этаже зашли 3 человека. И поехали. Найти вероятность того, что:\n",
        "\n",
        "a) они выйдут на разных этажах;\n",
        "\n",
        "b) двое выйдут на одном этаже;\n",
        "\n",
        "c) все выйдут на одном этаже."
      ]
    },
    {
      "cell_type": "code",
      "metadata": {
        "id": "fk_qjLAMDOIH",
        "colab": {
          "base_uri": "https://localhost:8080/"
        },
        "outputId": "98861d74-55b3-4ae1-dd30-4c8723dcf98f"
      },
      "source": [
        "n = 9*9*9   # на 9 различных этажах может выйти каждый пассажир итого: 9*9*9=729\n",
        "m_a = 7*8*9 # кол-во комбинаций по 3 из 9 элементов = 7*8*9\n",
        "\n",
        "# Расчет числа успешных вариантов для задачи \n",
        "# b) уже очень сложная комбинаторная задача, вместо этого посчитаем\n",
        "# c) и воспользуемся свойством суммы вероятности проивоположных событий\n",
        "m_c = 9   # такой исход всего 1\n",
        "print(get_prob(m_a,n,'a'))\n",
        "print(get_prob(m_c,n,'c'))\n",
        "print(\"Для гипотезы b, ответ: {}\".format(1 - 0.691358024691 - 0.012345679012345678))"
      ],
      "execution_count": null,
      "outputs": [
        {
          "output_type": "stream",
          "text": [
            "Для гипотезы a, ответ: 0.69\n",
            "Для гипотезы c, ответ: 0.01\n",
            "Для гипотезы b, ответ: 0.29629629629665427\n"
          ],
          "name": "stdout"
        }
      ]
    },
    {
      "cell_type": "markdown",
      "metadata": {
        "id": "DNryNbYgh6vc"
      },
      "source": [
        "Задача 7\n",
        "\n",
        "Магазин получил продукцию в ящиках с четырех оптовых складов: четыре с 1-го, пять со 2-го, семь с 3-го и четыре с 4-го. Случайным образом выбран ящик для продажи. \n",
        "Какова вероятность того, что это будет ящик с первого или третьего склада."
      ]
    },
    {
      "cell_type": "code",
      "metadata": {
        "id": "5V7gLN9Yh-Zd",
        "colab": {
          "base_uri": "https://localhost:8080/"
        },
        "outputId": "bea679d8-ab50-4497-f021-b1fb56119c99"
      },
      "source": [
        "n = 4 + 5 + 7 + 4 # вычисляем колличество исходов\n",
        "m_1 = 4\n",
        "m_3 = 7\n",
        "print(get_prob(m_1,n,'Ящик с первого склада'))\n",
        "print(get_prob(m_3,n,'Ящик с третьего склада'))\n",
        "\n"
      ],
      "execution_count": null,
      "outputs": [
        {
          "output_type": "stream",
          "text": [
            "Для гипотезы Ящик с первого склада, ответ: 0.2\n",
            "Для гипотезы Ящик с третьего склада, ответ: 0.35\n"
          ],
          "name": "stdout"
        }
      ]
    },
    {
      "cell_type": "code",
      "metadata": {
        "id": "3VJunziaYJ51",
        "colab": {
          "base_uri": "https://localhost:8080/"
        },
        "outputId": "452bcf7e-40ea-4405-d84d-dfd6f850d9a7"
      },
      "source": [
        "print(\"Вероятность того, что это будет ящик с первого или третьего склада: {}\".format(0.2+0.35))"
      ],
      "execution_count": null,
      "outputs": [
        {
          "output_type": "stream",
          "text": [
            "Вероятность того, что это будет ящик с первого или третьего склада: 0.55\n"
          ],
          "name": "stdout"
        }
      ]
    },
    {
      "cell_type": "code",
      "metadata": {
        "id": "PwPOgAkQ-r92",
        "colab": {
          "base_uri": "https://localhost:8080/"
        },
        "outputId": "6b7ab7d8-8e2f-4617-ac6b-3891e56a51d3"
      },
      "source": [
        "(4+7)/n"
      ],
      "execution_count": null,
      "outputs": [
        {
          "output_type": "execute_result",
          "data": {
            "text/plain": [
              "0.55"
            ]
          },
          "metadata": {
            "tags": []
          },
          "execution_count": 14
        }
      ]
    },
    {
      "cell_type": "markdown",
      "metadata": {
        "id": "r4RkCvl-6gZ6"
      },
      "source": [
        "## Случайные величины, мат ожидание и дисперсия"
      ]
    },
    {
      "cell_type": "markdown",
      "metadata": {
        "id": "WR92Jdpy6jJT"
      },
      "source": [
        "Задача 8\n",
        "\n",
        "В коробке находятся 50 лотерейных билетов, среди которых 12 выигрышных, причём 2 из них выигрывают по 1000 рублей, а остальные – по 100 рублей. \n",
        "\n",
        "Составить закон распределения случайной величины  – размера выигрыша, если из коробки наугад извлекается один билет."
      ]
    },
    {
      "cell_type": "code",
      "metadata": {
        "id": "t9Cks6WU6lt9"
      },
      "source": [
        "tickets = {0:38/50, 100:10/50, 1000:2/50} # словарь выигрышей: ключ - сумма выигрыша, значение - количество выигрышных билетов "
      ],
      "execution_count": null,
      "outputs": []
    },
    {
      "cell_type": "code",
      "metadata": {
        "id": "-gchrePiEXKg",
        "colab": {
          "base_uri": "https://localhost:8080/"
        },
        "outputId": "95d38263-f666-45ac-813d-5f38e0ef6365"
      },
      "source": [
        "tickets[1000]"
      ],
      "execution_count": null,
      "outputs": [
        {
          "output_type": "execute_result",
          "data": {
            "text/plain": [
              "0.04"
            ]
          },
          "metadata": {
            "tags": []
          },
          "execution_count": 16
        }
      ]
    },
    {
      "cell_type": "code",
      "metadata": {
        "id": "29uHeB-yEfHg",
        "colab": {
          "base_uri": "https://localhost:8080/"
        },
        "outputId": "0921aef7-2cc0-4a1b-82ea-8a50465e182b"
      },
      "source": [
        "print(tickets)"
      ],
      "execution_count": null,
      "outputs": [
        {
          "output_type": "stream",
          "text": [
            "{0: 0.76, 100: 0.2, 1000: 0.04}\n"
          ],
          "name": "stdout"
        }
      ]
    },
    {
      "cell_type": "markdown",
      "metadata": {
        "id": "3O8Xosk26qRT"
      },
      "source": [
        "Задача 9\n",
        "\n",
        "Дискретная случайная величина задана своим законом распределения:\n",
        "\n",
        "W = {-2:0.4, 0:0.1, 3:0.3, 7:0.2} \n",
        "\n",
        "Найти её математическое ожидание, дисперсию и среднее квадратическое отклонение."
      ]
    },
    {
      "cell_type": "code",
      "metadata": {
        "id": "_ZnDYtO06sBb",
        "colab": {
          "base_uri": "https://localhost:8080/"
        },
        "outputId": "495f53b0-32c3-4c96-967a-4c1657acd919"
      },
      "source": [
        "import numpy as np\n",
        "w = {-2:0.4, 0:0.1, 3:0.3, 7:0.2} # распределение случайной велечины\n",
        "E = sum([ key * w[key] for key in w.keys()]) # математическое ожидание (сумма произведения случайной величины и вероятности)\n",
        "E_x2 = sum([ (key**2) * w[key] for key in w.keys()]) # сумма произведения квадрата случайной величины и вероятности\n",
        "\n",
        "# выводим значения\n",
        "print('Мат.ожидание =', E)\n",
        "print('Дисперсия =', round(E_x2 - (E**2),4))\n",
        "print('Среднеквадратичное отклонение =', round(np.sqrt(E_x2 - (E**2)),3))"
      ],
      "execution_count": null,
      "outputs": [
        {
          "output_type": "stream",
          "text": [
            "Мат.ожидание = 1.5\n",
            "Дисперсия = 11.85\n",
            "Среднеквадратичное отклонение = 3.442\n"
          ],
          "name": "stdout"
        }
      ]
    },
    {
      "cell_type": "markdown",
      "metadata": {
        "id": "-H2gvLHhSn-0"
      },
      "source": [
        "###**Глоссарий**\n",
        "\n",
        "\n",
        "\n",
        "Пусть m - количество элементарных событий, благоприятствующих событию А\n",
        "\n",
        "Пусть n  - общее число равновозможных элементарных исходов.\n",
        "\n",
        "Тогда нахождение вероятности события: \n",
        "\n",
        ">**P(A) = m/n**\n",
        "----\n",
        "**Сумма вероятностей всех исходов *всегда* равна *1***\n",
        "\n",
        "Самый очевидный пример - бросок монеты. \n",
        "\n",
        "A - выпадет орел\n",
        "\n",
        "B - выпадет решка\n",
        "\n",
        "Тогда вероятность всех исходов будет : \n",
        ">**P(A) + P(B) = 1**\n",
        "-----\n",
        "Вероятность появления одновременно несовместных (независимых друг от друга событий) событий.\n",
        "\n",
        "==== эквивалентно логическому И ====\n",
        "\n",
        ">**P(A * B) = P(A) * P(B)**\n",
        "\n",
        "Пример:\n",
        "Вероятности попадания в цель при стрельбе первого и второго орудий. Найти вероятность попадания при одном залпе обоими орудиями **одновременно**.\n",
        "\n",
        "------\n",
        "Вероятность появления одного из несовместных (событий, зависимых друг от друга) событий.\n",
        "\n",
        "==== эквивалентно логическому ИЛИ ====\n",
        "\n",
        ">**P(A + B) = P(A) + P(B)**\n",
        "\n",
        "Пример:\n",
        "На охоте произведены два выстрела. Событие А – попадание в цель с первого выстрела, событие В – попадание со второго выстрела, событие (А + В) – попадание с первого **или** второго выстрела **или** с двух выстрелов.\n",
        "\n",
        "-----\n",
        "\n",
        "*Теорема сложения совместных событий*.\n",
        "\n",
        "Вероятность появления одного из совместных событий\n",
        "\n",
        "> **P(A + B) = P(A) + P(B) - P(A * B)**\n",
        "\n"
      ]
    }
  ]
}