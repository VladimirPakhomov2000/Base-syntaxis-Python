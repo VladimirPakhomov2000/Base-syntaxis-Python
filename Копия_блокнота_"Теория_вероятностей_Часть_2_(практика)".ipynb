{
  "nbformat": 4,
  "nbformat_minor": 0,
  "metadata": {
    "colab": {
      "provenance": [],
      "machine_shape": "hm",
      "include_colab_link": true
    },
    "kernelspec": {
      "name": "python3",
      "display_name": "Python 3"
    }
  },
  "cells": [
    {
      "cell_type": "markdown",
      "metadata": {
        "id": "view-in-github",
        "colab_type": "text"
      },
      "source": [
        "<a href=\"https://colab.research.google.com/github/VladimirPakhomov2000/Base-syntaxis-Python/blob/main/%D0%9A%D0%BE%D0%BF%D0%B8%D1%8F_%D0%B1%D0%BB%D0%BE%D0%BA%D0%BD%D0%BE%D1%82%D0%B0_%22%D0%A2%D0%B5%D0%BE%D1%80%D0%B8%D1%8F_%D0%B2%D0%B5%D1%80%D0%BE%D1%8F%D1%82%D0%BD%D0%BE%D1%81%D1%82%D0%B5%D0%B9_%D0%A7%D0%B0%D1%81%D1%82%D1%8C_2_(%D0%BF%D1%80%D0%B0%D0%BA%D1%82%D0%B8%D0%BA%D0%B0)%22.ipynb\" target=\"_parent\"><img src=\"https://colab.research.google.com/assets/colab-badge.svg\" alt=\"Open In Colab\"/></a>"
      ]
    },
    {
      "cell_type": "markdown",
      "metadata": {
        "id": "al9EmbkwmGey"
      },
      "source": [
        "## Распределения и их функции плотности"
      ]
    },
    {
      "cell_type": "markdown",
      "metadata": {
        "id": "VORSmRQp4_lY"
      },
      "source": [
        "Задача 1\n",
        "\n",
        "Из пункта A ведётся стрельба из орудия вдоль прямой X. Предполагается, что дальность полёта распределена нормально с математическим ожиданием 1000 м и средним квадратическим отклонением 5 м. Определить сколько снарядов упадёт с перелётом от 5 до 70м."
      ]
    },
    {
      "cell_type": "code",
      "metadata": {
        "id": "RvO05Fu37qRo",
        "colab": {
          "base_uri": "https://localhost:8080/"
        },
        "outputId": "51ebb5f3-4dc3-46de-f975-13be89abd3a0"
      },
      "source": [
        "from scipy.stats import norm    # импортируем модуль нормального распределения\n",
        "from scipy.stats import uniform # импортируем модуль равномерного распределения\n",
        "import matplotlib.pyplot as plt\n",
        "import numpy as np\n",
        "\n",
        "# Зададим распределение со значением мат. ожидания 1000 и std 5\n",
        "dist = norm(loc=1000, scale=5)\n",
        "\n",
        "# Найдем вероятность что снаряд перелетит от 5 до 70 метров, \n",
        "# как разницу вероятности, что он пролетит 70 и вероятности что он пролетит 5\n",
        "dist.cdf(1070) - dist.cdf(1005)"
      ],
      "execution_count": null,
      "outputs": [
        {
          "output_type": "execute_result",
          "data": {
            "text/plain": [
              "0.15865525393145707"
            ]
          },
          "metadata": {
            "tags": []
          },
          "execution_count": 24
        }
      ]
    },
    {
      "cell_type": "markdown",
      "metadata": {
        "id": "AQpsvTnFCbKg"
      },
      "source": [
        "Задача 2\n",
        "\n",
        "Диаметр подшипников, изготовленных на заводе, представляет собой случайную величину, распределенную нормально с математическим ожиданием 1.8 см и средним квадратическим отклонением 0.075 см. Найти вероятность того, что размер наугад взятого подшипника колеблется от 1.7 до 1.85 см."
      ]
    },
    {
      "cell_type": "code",
      "metadata": {
        "id": "_7IR-i2qDTkZ",
        "colab": {
          "base_uri": "https://localhost:8080/"
        },
        "outputId": "62f45dfa-8c7d-47bf-bf29-73cb7d777204"
      },
      "source": [
        "# Зададим значения\n",
        "mu = 1.8\n",
        "sigm = 0.075\n",
        "\n",
        "# Зададим функцию нормального распределения\n",
        "dist = norm(loc=mu, scale=sigm)\n",
        "\n",
        "# Вероятность того, что размер будет от 1.7 до 1.85\n",
        "dist.cdf(1.85) - dist.cdf(1.7)"
      ],
      "execution_count": null,
      "outputs": [
        {
          "output_type": "execute_result",
          "data": {
            "text/plain": [
              "0.6562962427272097"
            ]
          },
          "metadata": {
            "tags": []
          },
          "execution_count": 25
        }
      ]
    },
    {
      "cell_type": "markdown",
      "metadata": {
        "id": "3ifZW_oUFTPW"
      },
      "source": [
        "Задача 3\n",
        "\n",
        "Непрерывная случайная величина X имеет одинаковую плотность распредления A на промежутке (-1,3) и нулевую плотность вне этого промежутка. Найти A, мат. ожидание и дисперсию."
      ]
    },
    {
      "cell_type": "code",
      "metadata": {
        "id": "c42hdZzZFr5h",
        "colab": {
          "base_uri": "https://localhost:8080/"
        },
        "outputId": "bf9fbdea-30fa-40f6-f373-310da0bd77fd"
      },
      "source": [
        "# Так как случайная величина имеет константную плотность распределения\n",
        "# на заданном промежутке и 0 вне его, перед нами равномерное распределение\n",
        "a=-1\n",
        "b=3\n",
        "\n",
        "A = 1/(b-a)      # плотность распределения\n",
        "E = (a+b)/2      # мат.ожидание\n",
        "D = (b-a)**2 /12 # дисперсия\n",
        "\n",
        "print(\"Плотность распределния: {}\".format(A))\n",
        "print(\"Мат ожидание: {}\".format(E))\n",
        "print(\"Дисперсия: {}\".format(D))"
      ],
      "execution_count": null,
      "outputs": [
        {
          "output_type": "stream",
          "text": [
            "Плотность распределния: 0.25\n",
            "Мат ожидание: 1.0\n",
            "Дисперсия: 1.3333333333333333\n"
          ],
          "name": "stdout"
        }
      ]
    },
    {
      "cell_type": "markdown",
      "metadata": {
        "id": "ElyzKV3VIJBo"
      },
      "source": [
        "Задача 4\n",
        "\n",
        "Цена деления шкалы измерительного прибора равна 0.2. Показания прибора округляются до ближайшего целого деления. Считая, что погрешности округлений распределены равномерно, найти вероятность того, что при очередном измерении она не превзойдёт 0.03."
      ]
    },
    {
      "cell_type": "code",
      "metadata": {
        "id": "bLEH32b2KRiu",
        "colab": {
          "base_uri": "https://localhost:8080/"
        },
        "outputId": "017f0a79-f3b1-41d7-b385-bc7e37d4dce6"
      },
      "source": [
        "from scipy.stats import uniform # стандартная форма распределения от [0, 1]\n",
        "\n",
        "# Вероятность того, что значение в интервале [0, 0.03]\n",
        "p1 = uniform(0,0.2).cdf(0.03) \n",
        "\n",
        "# Вероятность что значение в интервале [0.17, 0.2]\n",
        "p2 = 1 - uniform(0,0.2).cdf(0.2-0.03) \n",
        "\n",
        "# Вероятность что не превзойдет 0.03\n",
        "P = p1+p2 \n",
        "\n",
        "print(\"Искомая вероятность: {}%\".format(round(100*P,2))) "
      ],
      "execution_count": null,
      "outputs": [
        {
          "output_type": "stream",
          "text": [
            "Искомая вероятность: 30.0%\n"
          ],
          "name": "stdout"
        }
      ]
    },
    {
      "cell_type": "markdown",
      "metadata": {
        "id": "hEuIKLA-lpI-"
      },
      "source": [
        "## Квантили, перцентили и моменты"
      ]
    },
    {
      "cell_type": "markdown",
      "metadata": {
        "id": "iqluyyCWmWUo"
      },
      "source": [
        "Задача 5\n",
        "\n",
        "Для нормального распределения со средним 0.5 и стандартным отклонением 1, найти: \n",
        "\n",
        "а) Среднее и дисперсию;\n",
        "\n",
        "б) 10 и 70 перцентили (0.1 и 0.7 квантили)."
      ]
    },
    {
      "cell_type": "code",
      "metadata": {
        "id": "c3UaiAUfmojX",
        "colab": {
          "base_uri": "https://localhost:8080/"
        },
        "outputId": "5bad2f65-a162-417f-91b5-f60c7ef75ed6"
      },
      "source": [
        "mu = 0.5\n",
        "std = 1\n",
        "nor_d = norm(mu,std) # нормальное распределение\n",
        "mean, var = nor_d.stats(moments='mv') # получим среднее и дисперсию \n",
        "print(\"Среднее: {}\".format(mean))\n",
        "print(\"Дисперсия: {}\".format(var))"
      ],
      "execution_count": null,
      "outputs": [
        {
          "output_type": "stream",
          "text": [
            "Среднее: 0.5\n",
            "Дисперсия: 1.0\n"
          ],
          "name": "stdout"
        }
      ]
    },
    {
      "cell_type": "code",
      "metadata": {
        "id": "7wvqwhN1nApj",
        "colab": {
          "base_uri": "https://localhost:8080/"
        },
        "outputId": "52b35703-4cea-4bab-8ff8-2fac465b1f39"
      },
      "source": [
        "print(\"Перцентиль 10: {}\".format(nor_d.ppf(0.1))) # посмотрим на квантиль 0.1\n",
        "print(\"Перцентиль 70: {}\".format(nor_d.ppf(0.7))) # посмотрим на квантиль 0.7"
      ],
      "execution_count": null,
      "outputs": [
        {
          "output_type": "stream",
          "text": [
            "Перцентиль 10: -0.7815515655446004\n",
            "Перцентиль 70: 1.0244005127080407\n"
          ],
          "name": "stdout"
        }
      ]
    },
    {
      "cell_type": "markdown",
      "metadata": {
        "id": "TtOIbei1oXKn"
      },
      "source": [
        "## Визуализация распределений\n"
      ]
    },
    {
      "cell_type": "markdown",
      "metadata": {
        "id": "imh89LvNn1jt"
      },
      "source": [
        "Постройте графики cdf и pdf для рапределения из задачи 5."
      ]
    },
    {
      "cell_type": "code",
      "metadata": {
        "id": "EixGA4XdoY72"
      },
      "source": [
        "# Задаем функцию плотности\n",
        "mu = 0.5\n",
        "std = 1\n",
        "nor_d = norm(mu,std)\n",
        "\n",
        "# Задаем пространство точек\n",
        "vars = np.linspace(-5, 5, 100)\n",
        "\n",
        "# Считает pdf для каждой точки\n",
        "prob = nor_d.pdf(vars)\n",
        "\n",
        "# Считает cdf для каждой точки\n",
        "prob_2 = nor_d.cdf(vars)"
      ],
      "execution_count": null,
      "outputs": []
    },
    {
      "cell_type": "code",
      "metadata": {
        "colab": {
          "base_uri": "https://localhost:8080/",
          "height": 265
        },
        "id": "k0tyk1pIrEAE",
        "outputId": "f67fbf6d-9330-4c02-8d87-63d9196d4eaa"
      },
      "source": [
        "# Выводим график плотности распределения\n",
        "plt.plot(vars, prob)\n",
        "plt.show()"
      ],
      "execution_count": null,
      "outputs": [
        {
          "output_type": "display_data",
          "data": {
            "image/png": "[encoded data removed]",
            "text/plain": [
              "<Figure size 432x288 with 1 Axes>"
            ]
          },
          "metadata": {
            "tags": [],
            "needs_background": "light"
          }
        }
      ]
    },
    {
      "cell_type": "code",
      "metadata": {
        "colab": {
          "base_uri": "https://localhost:8080/",
          "height": 265
        },
        "id": "YH4VuJWqrLoW",
        "outputId": "a3d51ad0-b84d-4762-80dc-ec27d78b39bb"
      },
      "source": [
        "# Выводим график функции распределения\n",
        "plt.plot(vars, prob_2)\n",
        "plt.show()"
      ],
      "execution_count": null,
      "outputs": [
        {
          "output_type": "display_data",
          "data": {
            "image/png": "[encoded data removed]",
            "text/plain": [
              "<Figure size 432x288 with 1 Axes>"
            ]
          },
          "metadata": {
            "tags": [],
            "needs_background": "light"
          }
        }
      ]
    },
    {
      "cell_type": "markdown",
      "metadata": {
        "id": "-H2gvLHhSn-0"
      },
      "source": [
        "**Глоссарий**\n",
        "\n",
        "\n",
        "\n",
        "Пусть m - количество элементарных событий, благоприятствующих событию А\n",
        "\n",
        "Пусть n  - общее число равновозможных элементарных исходов.\n",
        "\n",
        "Тогда нахождение вероятности события: \n",
        "\n",
        ">**P(A) = m/n**\n",
        "----\n",
        "**Сумма вероятностей всех исходов *всегда* равна *1***\n",
        "\n",
        "Самый очевидный пример - бросок монеты. \n",
        "\n",
        "A - выпадет орел\n",
        "\n",
        "B - выпадет решка\n",
        "\n",
        "Тогда вероятность всех исходов будет : \n",
        ">**P(A) + P(B) = 1**\n",
        "-----\n",
        "Вероятность появления одновременно несовместных (независимых друг от друга событий) событий.\n",
        "\n",
        "==== эквивалентно логическому И ====\n",
        "\n",
        ">**P(A * B) = P(A) * P(B)**\n",
        "\n",
        "Пример:\n",
        "Вероятности попадания в цель при стрельбе первого и второго орудий. Найти вероятность попадания при одном залпе обоими орудиями **одновременно**.\n",
        "\n",
        "------\n",
        "Вероятность появления одного из несовместных (событий, зависимых друг от друга) событий.\n",
        "\n",
        "==== эквивалентно логическому ИЛИ ====\n",
        "\n",
        ">**P(A + B) = P(A) + P(B)**\n",
        "\n",
        "Пример:\n",
        "На охоте произведены два выстрела. Событие А – попадание в цель с первого выстрела, событие В – попадание со второго выстрела, событие (А + В) – попадание с первого **или** второго выстрела **или** с двух выстрелов.\n",
        "\n",
        "-----\n",
        "\n",
        "*Теорема сложения совместных событий*.\n",
        "\n",
        "Вероятность появления одного из совместных событий\n",
        "\n",
        "> **P(A + B) = P(A) + P(B) - P(A * B)**\n",
        "\n"
      ]
    }
  ]
}